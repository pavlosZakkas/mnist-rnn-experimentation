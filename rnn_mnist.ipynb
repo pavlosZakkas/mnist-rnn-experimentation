{
  "cells": [
    {
      "cell_type": "markdown",
      "metadata": {
        "id": "FZ7Xx__nJmj7"
      },
      "source": [
        "# Recurrent Neural Networks "
      ]
    },
    {
      "cell_type": "code",
      "execution_count": null,
      "metadata": {
        "id": "w3nzYbXOJmj8"
      },
      "outputs": [],
      "source": [
        "import cv2\n",
        "import tensorflow as tf\n",
        "import matplotlib.pyplot as plt\n",
        "import numpy as np\n",
        "import tensorflow as tf\n",
        "import pandas as pd\n",
        "\n",
        "from tensorflow import keras\n",
        "from sklearn.model_selection import train_test_split\n",
        "from sklearn.metrics import classification_report\n",
        "from tensorflow.keras.layers import Dense, RNN, LSTM, Flatten, TimeDistributed, LSTMCell, MaxPooling2D, Rescaling, BatchNormalization, MaxPooling3D, LeakyReLU\n",
        "from tensorflow.keras.layers import RepeatVector, Conv2D, SimpleRNN, GRU, Reshape, ConvLSTM2D, Conv2DTranspose, Input"
      ]
    },
    {
      "cell_type": "markdown",
      "metadata": {
        "id": "sP__1utGJmj_"
      },
      "source": [
        "# Dataset\n",
        "\n",
        "In order to create image queries of simple arithmetic operations such as '51+31' or '42-10' we need to create images of '+' and '-' signs using ***open-cv*** library. We will use these operand signs together with the MNIST dataset."
      ]
    },
    {
      "cell_type": "code",
      "execution_count": null,
      "metadata": {
        "colab": {
          "base_uri": "https://localhost:8080/",
          "height": 388
        },
        "id": "Z7RGPMxLJmkA",
        "outputId": "71c459d7-b8da-4322-cbea-d2a3ae0f35b6"
      },
      "outputs": [
        {
          "data": {
            "image/png": "[encoded data removed]",
            "text/plain": [
              "<Figure size 432x288 with 20 Axes>"
            ]
          },
          "metadata": {
            "needs_background": "light"
          },
          "output_type": "display_data"
        },
        {
          "data": {
            "image/png": "[encoded data removed]",
            "text/plain": [
              "<Figure size 432x288 with 20 Axes>"
            ]
          },
          "metadata": {
            "needs_background": "light"
          },
          "output_type": "display_data"
        }
      ],
      "source": [
        "# Create plus/minus signs\n",
        "def generate_images(cross=False, n=50):\n",
        "    x = np.random.randint(12, 16, (n, 2))\n",
        "    y1 = np.random.randint(4, 8, n)\n",
        "    y2 = np.random.randint(20, 24, n)\n",
        "    \n",
        "    blank = np.zeros([n, 28, 28])\n",
        "    for i in range(n):\n",
        "        line = cv2.line(blank[i], (y1[i], x[i,0]), (y2[i], x[i, 1]), (255,0,0), 2, cv2.LINE_AA)\n",
        "        if cross:\n",
        "            line = cv2.line(blank[i], (x[i,0], y1[i]), (x[i, 1], y2[i]), (255,0,0), 2, cv2.LINE_AA)\n",
        "\n",
        "    return blank\n",
        "\n",
        "def show_generated(images):\n",
        "    for i in range(20):\n",
        "        plt.subplot(5, 5, i+1)\n",
        "        plt.axis('off')\n",
        "        plt.imshow(images[i])\n",
        "    plt.show()\n",
        "\n",
        "show_generated(generate_images())\n",
        "show_generated(generate_images(cross=True))"
      ]
    },
    {
      "cell_type": "code",
      "execution_count": null,
      "metadata": {
        "id": "Lx-Pt6ypJmkD"
      },
      "outputs": [],
      "source": [
        "def create_data(highest_integer, padding_whole=False):\n",
        "    \"\"\"\n",
        "    Creates the following data for all pairs of integers up to [highest integer]+[highest_integer]:\n",
        "\n",
        "    @return:\n",
        "    X_text: '151+ 21' -> text query of an arithmetic operation\n",
        "    X_img : Stack of MNIST images corresponding to the query (7 x 28 x 28)\n",
        "    y_text: ' 172' -> answer of the arithmetic text query\n",
        "    y_img :  Stack of MNIST images corresponding to the answer (4 x 28 x 28)\n",
        "\n",
        "    Images for digits are picked randomly from the whole MNIST dataset.\n",
        "    \"\"\"\n",
        "\n",
        "    num_indices = [np.where(MNIST_labels==x) for x in range(10)]\n",
        "    num_data = [MNIST_data[inds] for inds in num_indices]\n",
        "    image_mapping = dict(zip(unique_characters[:10], num_data))\n",
        "    image_mapping['-'] = generate_images()\n",
        "    image_mapping['+'] = generate_images(cross=True)\n",
        "    image_mapping[' '] = np.zeros([1, 28, 28])\n",
        "\n",
        "    X_text, X_img, y_text, y_img = [], [], [], []\n",
        "    for i in range(highest_integer + 1):\n",
        "        for j in range(highest_integer + 1):\n",
        "            \n",
        "            for sign in ['-', '+']:\n",
        "\n",
        "                if padding_whole:\n",
        "\n",
        "                    i_char = str(i)\n",
        "                    j_char = str(j)    \n",
        "                    query_string = add_padding(i_char + sign + j_char, max_len=max_query_length, padding=\"left\") \n",
        "\n",
        "                else:\n",
        "\n",
        "                    i_char = add_padding(str(i), max_len=max_int_length, padding=\"left\")\n",
        "                    j_char = add_padding(str(j), max_len=max_int_length, padding=\"left\")  \n",
        "                    query_string = i_char + sign + j_char\n",
        "\n",
        "                query_image = []\n",
        "\n",
        "                for n, char in enumerate(query_string):\n",
        "                    image_set = image_mapping[char]\n",
        "                    index = np.random.randint(0, len(image_set), 1)\n",
        "                    query_image.append(image_set[index].squeeze())\n",
        "\n",
        "                result = eval(query_string)\n",
        "                result_string = add_padding(str(result), max_len=max_answer_length, padding=\"left\")\n",
        "                result_image = []\n",
        "                for n, char in enumerate(result_string):\n",
        "                    image_set = image_mapping[char]\n",
        "                    index = np.random.randint(0, len(image_set), 1)\n",
        "                    result_image.append(image_set[index].squeeze())\n",
        "\n",
        "                X_text.append(query_string)\n",
        "                X_img.append(np.stack(query_image))\n",
        "                y_text.append(result_string)\n",
        "                y_img.append(np.stack(result_image))\n",
        "            \n",
        "    return np.stack(X_text), np.stack(X_img)/255., np.stack(y_text), np.stack(y_img)/255.\n",
        "  \n",
        "\n",
        "def add_padding(item, max_len=3, padding=\"left\"):\n",
        "    \"\"\"\n",
        "    Returns a string of len()=max_len, containing the integer padded with ' ' on either right or left side\n",
        "    \"\"\"\n",
        "    length = len(item)\n",
        "    padding_string = (max_len - length) * ' '\n",
        "\n",
        "    if padding == \"left\":\n",
        "        return item + padding_string\n",
        "    elif padding == \"right\":\n",
        "        return padding_string + item"
      ]
    },
    {
      "cell_type": "markdown",
      "metadata": {
        "id": "bTMHYBf4baih"
      },
      "source": [
        "# Creating our data\n",
        "\n",
        "The dataset consists of 80000 samples that have two kinds of inputs and labels:\n",
        "\n",
        "  X_text: strings containing queries of length 7: ['  1+  1', '174- 18', ...] \n",
        "\n",
        "  X_image: a stack of images representing a single query, dimensions: [7, 28, 28]\n",
        "\n",
        "  y_text: strings containing answers of length 4: ['   2', ' 156']\n",
        "\n",
        "  y_image: a stack of images that represents the answer to a query, dimensions: [4, 28, 28]"
      ]
    },
    {
      "cell_type": "code",
      "execution_count": null,
      "metadata": {
        "colab": {
          "base_uri": "https://localhost:8080/",
          "height": 1000
        },
        "id": "y0N1vtdLJmkG",
        "outputId": "0b83c44b-f60e-4590-a60e-9ac8c692f3db",
        "scrolled": false
      },
      "outputs": [
        {
          "name": "stdout",
          "output_type": "stream",
          "text": [
            "Downloading data from https://storage.googleapis.com/tensorflow/tf-keras-datasets/mnist.npz\n",
            "11493376/11490434 [==============================] - 0s 0us/step\n",
            "11501568/11490434 [==============================] - 0s 0us/step\n",
            "(80000,) (80000, 7, 28, 28) (80000,) (80000, 4, 28, 28)\n",
            "================================================== \n",
            "Sample ID: 6082\n",
            "\n",
            "X_text: \"15 -41 \" = y_text: \"-26 \"\n"
          ]
        },
        {
          "data": {
            "image/png": "[encoded data removed]",
            "text/plain": [
              "<Figure size 432x288 with 2 Axes>"
            ]
          },
          "metadata": {
            "needs_background": "light"
          },
          "output_type": "display_data"
        },
        {
          "name": "stdout",
          "output_type": "stream",
          "text": [
            "================================================== \n",
            "Sample ID: 46797\n",
            "\n",
            "X_text: \"116+198\" = y_text: \"314 \"\n"
          ]
        },
        {
          "data": {
            "image/png": "[encoded data removed]",
            "text/plain": [
              "<Figure size 432x288 with 2 Axes>"
            ]
          },
          "metadata": {
            "needs_background": "light"
          },
          "output_type": "display_data"
        },
        {
          "name": "stdout",
          "output_type": "stream",
          "text": [
            "================================================== \n",
            "Sample ID: 42508\n",
            "\n",
            "X_text: \"106-54 \" = y_text: \"52  \"\n"
          ]
        },
        {
          "data": {
            "image/png": "[encoded data removed]",
            "text/plain": [
              "<Figure size 432x288 with 2 Axes>"
            ]
          },
          "metadata": {
            "needs_background": "light"
          },
          "output_type": "display_data"
        },
        {
          "name": "stdout",
          "output_type": "stream",
          "text": [
            "================================================== \n",
            "Sample ID: 2977\n",
            "\n",
            "X_text: \"7  +88 \" = y_text: \"95  \"\n"
          ]
        },
        {
          "data": {
            "image/png": "[encoded data removed]",
            "text/plain": [
              "<Figure size 432x288 with 2 Axes>"
            ]
          },
          "metadata": {
            "needs_background": "light"
          },
          "output_type": "display_data"
        },
        {
          "name": "stdout",
          "output_type": "stream",
          "text": [
            "================================================== \n",
            "Sample ID: 32359\n",
            "\n",
            "X_text: \"80 +179\" = y_text: \"259 \"\n"
          ]
        },
        {
          "data": {
            "image/png": "[encoded data removed]",
            "text/plain": [
              "<Figure size 432x288 with 2 Axes>"
            ]
          },
          "metadata": {
            "needs_background": "light"
          },
          "output_type": "display_data"
        },
        {
          "name": "stdout",
          "output_type": "stream",
          "text": [
            "================================================== \n",
            "Sample ID: 47815\n",
            "\n",
            "X_text: \"119+107\" = y_text: \"226 \"\n"
          ]
        },
        {
          "data": {
            "image/png": "[encoded data removed]",
            "text/plain": [
              "<Figure size 432x288 with 2 Axes>"
            ]
          },
          "metadata": {
            "needs_background": "light"
          },
          "output_type": "display_data"
        },
        {
          "name": "stdout",
          "output_type": "stream",
          "text": [
            "================================================== \n",
            "Sample ID: 28598\n",
            "\n",
            "X_text: \"71 -99 \" = y_text: \"-28 \"\n"
          ]
        },
        {
          "data": {
            "image/png": "[encoded data removed]",
            "text/plain": [
              "<Figure size 432x288 with 2 Axes>"
            ]
          },
          "metadata": {
            "needs_background": "light"
          },
          "output_type": "display_data"
        },
        {
          "name": "stdout",
          "output_type": "stream",
          "text": [
            "================================================== \n",
            "Sample ID: 59746\n",
            "\n",
            "X_text: \"149-73 \" = y_text: \"76  \"\n"
          ]
        },
        {
          "data": {
            "image/png": "[encoded data removed]",
            "text/plain": [
              "<Figure size 432x288 with 2 Axes>"
            ]
          },
          "metadata": {
            "needs_background": "light"
          },
          "output_type": "display_data"
        },
        {
          "name": "stdout",
          "output_type": "stream",
          "text": [
            "================================================== \n",
            "Sample ID: 61538\n",
            "\n",
            "X_text: \"153-169\" = y_text: \"-16 \"\n"
          ]
        },
        {
          "data": {
            "image/png": "[encoded data removed]",
            "text/plain": [
              "<Figure size 432x288 with 2 Axes>"
            ]
          },
          "metadata": {
            "needs_background": "light"
          },
          "output_type": "display_data"
        },
        {
          "name": "stdout",
          "output_type": "stream",
          "text": [
            "================================================== \n",
            "Sample ID: 41428\n",
            "\n",
            "X_text: \"103-114\" = y_text: \"-11 \"\n"
          ]
        },
        {
          "data": {
            "image/png": "[encoded data removed]",
            "text/plain": [
              "<Figure size 432x288 with 2 Axes>"
            ]
          },
          "metadata": {
            "needs_background": "light"
          },
          "output_type": "display_data"
        }
      ],
      "source": [
        "# Illustrate the generated query/answer pairs\n",
        "\n",
        "unique_characters = '0123456789+- ' # All unique characters that are used in the queries (13 in total: digits 0-9, 2 operands [+, -], and a space character ' '.)\n",
        "highest_integer = 199 # Highest value of integers contained in the queries\n",
        "max_int_length = len(str(highest_integer)) # \n",
        "max_query_length = max_int_length * 2 + 1 # Maximum length of the query string (consists of two integers and an operand [e.g. '22+10'])\n",
        "max_answer_length = max_int_length + 1    # Maximum length of the answer string\n",
        "\n",
        "# Create the data (might take around a minute)\n",
        "(MNIST_data, MNIST_labels), _ = tf.keras.datasets.mnist.load_data()\n",
        "X_text, X_img, y_text, y_img = create_data(highest_integer)\n",
        "print(X_text.shape, X_img.shape, y_text.shape, y_img.shape)\n",
        "\n",
        "\n",
        "## Display the samples that were created\n",
        "def display_sample(n):\n",
        "    labs = ['X_img:', 'y_img:']\n",
        "    for i, data in enumerate([X_img, y_img]):\n",
        "        plt.subplot(1,2,i+1)\n",
        "        plt.axis('off')\n",
        "        plt.title(labs[i])\n",
        "        plt.imshow(np.hstack(data[n]), cmap='gray')\n",
        "    print('='*50, f'\\nSample ID: {n}\\n\\nX_text: \"{X_text[n]}\" = y_text: \"{y_text[n]}\"')\n",
        "    plt.show()\n",
        "\n",
        "for _ in range(10):\n",
        "    display_sample(np.random.randint(0, 80000, 1)[0])"
      ]
    },
    {
      "cell_type": "code",
      "execution_count": null,
      "metadata": {
        "colab": {
          "base_uri": "https://localhost:8080/",
          "height": 257
        },
        "id": "rePVm6duJmkJ",
        "outputId": "4e2573a3-8ea8-4b6d-be9d-a329a07e775a"
      },
      "outputs": [
        {
          "name": "stdout",
          "output_type": "stream",
          "text": [
            "(80000, 7, 13) (80000, 4, 13)\n",
            "[[1. 0. 0. 0. 0. 0. 0. 0. 0. 0. 0. 0. 0.]\n",
            " [0. 0. 0. 0. 0. 0. 0. 0. 0. 0. 0. 0. 1.]\n",
            " [0. 0. 0. 0. 0. 0. 0. 0. 0. 0. 0. 0. 1.]\n",
            " [0. 0. 0. 0. 0. 0. 0. 0. 0. 0. 0. 1. 0.]\n",
            " [1. 0. 0. 0. 0. 0. 0. 0. 0. 0. 0. 0. 0.]\n",
            " [0. 0. 0. 0. 0. 0. 0. 0. 0. 0. 0. 0. 1.]\n",
            " [0. 0. 0. 0. 0. 0. 0. 0. 0. 0. 0. 0. 1.]]\n",
            "[[1. 0. 0. 0. 0. 0. 0. 0. 0. 0. 0. 0. 0.]\n",
            " [0. 0. 0. 0. 0. 0. 0. 0. 0. 0. 0. 0. 1.]\n",
            " [0. 0. 0. 0. 0. 0. 0. 0. 0. 0. 0. 0. 1.]\n",
            " [0. 0. 0. 0. 0. 0. 0. 0. 0. 0. 0. 0. 1.]]\n"
          ]
        },
        {
          "data": {
            "application/vnd.google.colaboratory.intrinsic+json": {
              "type": "string"
            },
            "text/plain": [
              "'   0'"
            ]
          },
          "execution_count": 5,
          "metadata": {},
          "output_type": "execute_result"
        }
      ],
      "source": [
        "def encode_labels(labels, max_len=4):\n",
        "    n = len(labels)\n",
        "    length = len(labels[0])\n",
        "    char_map = dict(zip(unique_characters, range(len(unique_characters))))\n",
        "    one_hot = np.zeros([n, length, len(unique_characters)])\n",
        "    for i, label in enumerate(labels):\n",
        "        m = np.zeros([length, len(unique_characters)])\n",
        "        for j, char in enumerate(label):\n",
        "            m[j, char_map[char]] = 1\n",
        "        one_hot[i] = m\n",
        "\n",
        "    return one_hot \n",
        "\n",
        "def decode_labels(labels):\n",
        "    pred = np.argmax(labels, axis=1)\n",
        "    predicted = ''.join([unique_characters[i] for i in pred])\n",
        "    return predicted\n",
        "\n",
        "X_text_onehot = encode_labels(X_text)\n",
        "y_text_onehot = encode_labels(y_text)\n",
        "\n",
        "print(X_text_onehot.shape, y_text_onehot.shape)\n",
        "print(X_text_onehot[0])\n",
        "print(y_text_onehot[0])\n",
        "a = [[1 ,2 ,3, 4, 5, 6, 7, 8, 1, 10, 11, 12, 13], [1 ,21 ,3, 4, 5, 6, 7, 8, 9, 10, 11, 12, 13]]\n",
        "np.argmax(a, axis=1)\n",
        "# encode_labels(decode_labels(a))\n",
        "xxx = [[0, 0, 0, 0, 0, 0, 0, 0, 0, 0, 0, 0, 1,],\n",
        " [0, 0, 0, 0, 0, 0, 0, 0, 0, 0, 0, 0, 1,],\n",
        " [0, 0, 0, 0, 0, 0, 0, 0, 0, 0, 0, 0, 1,],\n",
        " [1, 0, 0, 0, 0, 0, 0, 0, 0, 0, 0, 0, 0,]]\n",
        "\n",
        "decode_labels(xxx)"
      ]
    },
    {
      "cell_type": "markdown",
      "metadata": {
        "id": "7-pNByj-JmkL"
      },
      "source": [
        "---\n",
        "---\n",
        "# 1. Text-to-text RNN model\n",
        "\n",
        "The following code showcases how Recurrent neural networks are built using Keras. Several new layers are going to be used:\n",
        "\n",
        "1. LSTM \n",
        "2. TimeDistributed\n",
        "3. RepeatVector"
      ]
    },
    {
      "cell_type": "markdown",
      "metadata": {
        "id": "iyFuSEGyYS7v"
      },
      "source": [
        "The following code shows the basic architecture of a Recurrent Neural Network\n",
        "LSTM (Long Short Term Memory) layers can be replaced either with SimpleRNN or GRU (Gated Recurrent Units).\n"
      ]
    },
    {
      "cell_type": "markdown",
      "metadata": {
        "id": "HPKKMUMxZmVS"
      },
      "source": [
        "\n",
        "<img src=\"https://miro.medium.com/max/1400/1*1JcHGUU7rFgtXC_mydUA_Q.jpeg\" width=\"500\"> \n"
      ]
    },
    {
      "cell_type": "code",
      "execution_count": null,
      "metadata": {
        "id": "Tll54DIrZwbK"
      },
      "outputs": [],
      "source": [
        "def text2text_model():\n",
        "  text2text = tf.keras.Sequential()\n",
        "\n",
        "  text2text.add(LSTM(256, input_shape=(max_query_length, len(unique_characters))))\n",
        "  text2text.add(RepeatVector(max_answer_length))\n",
        "  text2text.add(LSTM(128, return_sequences=True))\n",
        "  text2text.add(TimeDistributed(Dense(len(unique_characters), activation='softmax')))\n",
        "\n",
        "  text2text.compile(loss='categorical_crossentropy', optimizer='adam', metrics=['accuracy'])\n",
        "  text2text.summary()\n",
        "  return text2text"
      ]
    },
    {
      "cell_type": "markdown",
      "metadata": {
        "id": "qozuAWLbn8Tw"
      },
      "source": [
        "#### 1. Different ratios of train/test splits"
      ]
    },
    {
      "cell_type": "code",
      "execution_count": null,
      "metadata": {
        "colab": {
          "base_uri": "https://localhost:8080/"
        },
        "id": "3ZvE1f8-x_qV",
        "outputId": "b7023a17-fdb1-4189-e6ee-ca8cdfc487da"
      },
      "outputs": [
        {
          "name": "stdout",
          "output_type": "stream",
          "text": [
            "Model: \"sequential_38\"\n",
            "_________________________________________________________________\n",
            " Layer (type)                Output Shape              Param #   \n",
            "=================================================================\n",
            " lstm_76 (LSTM)              (None, 256)               276480    \n",
            "                                                                 \n",
            " repeat_vector_38 (RepeatVec  (None, 4, 256)           0         \n",
            " tor)                                                            \n",
            "                                                                 \n",
            " lstm_77 (LSTM)              (None, 4, 128)            197120    \n",
            "                                                                 \n",
            " time_distributed_38 (TimeDi  (None, 4, 13)            1677      \n",
            " stributed)                                                      \n",
            "                                                                 \n",
            "=================================================================\n",
            "Total params: 475,277\n",
            "Trainable params: 475,277\n",
            "Non-trainable params: 0\n",
            "_________________________________________________________________\n",
            "Epoch 1/20\n",
            "594/594 [==============================] - 6s 4ms/step - loss: 1.4547 - accuracy: 0.4950\n",
            "Epoch 2/20\n",
            "594/594 [==============================] - 3s 4ms/step - loss: 1.1514 - accuracy: 0.5739\n",
            "Epoch 3/20\n",
            "594/594 [==============================] - 3s 4ms/step - loss: 1.0062 - accuracy: 0.6363\n",
            "Epoch 4/20\n",
            "594/594 [==============================] - 3s 4ms/step - loss: 0.8957 - accuracy: 0.6813\n",
            "Epoch 5/20\n",
            "594/594 [==============================] - 3s 4ms/step - loss: 0.8284 - accuracy: 0.7089\n",
            "Epoch 6/20\n",
            "594/594 [==============================] - 3s 4ms/step - loss: 0.7854 - accuracy: 0.7229\n",
            "Epoch 7/20\n",
            "594/594 [==============================] - 3s 4ms/step - loss: 0.7419 - accuracy: 0.7384\n",
            "Epoch 8/20\n",
            "594/594 [==============================] - 3s 4ms/step - loss: 0.6590 - accuracy: 0.7687\n",
            "Epoch 9/20\n",
            "594/594 [==============================] - 3s 4ms/step - loss: 0.4809 - accuracy: 0.8396\n",
            "Epoch 10/20\n",
            "594/594 [==============================] - 3s 4ms/step - loss: 0.3225 - accuracy: 0.9166\n",
            "Epoch 11/20\n",
            "594/594 [==============================] - 3s 4ms/step - loss: 0.2338 - accuracy: 0.9486\n",
            "Epoch 12/20\n",
            "594/594 [==============================] - 3s 4ms/step - loss: 0.1679 - accuracy: 0.9679\n",
            "Epoch 13/20\n",
            "594/594 [==============================] - 3s 4ms/step - loss: 0.1289 - accuracy: 0.9756\n",
            "Epoch 14/20\n",
            "594/594 [==============================] - 3s 4ms/step - loss: 0.0995 - accuracy: 0.9804\n",
            "Epoch 15/20\n",
            "594/594 [==============================] - 3s 5ms/step - loss: 0.0765 - accuracy: 0.9854\n",
            "Epoch 16/20\n",
            "594/594 [==============================] - 3s 4ms/step - loss: 0.0668 - accuracy: 0.9858\n",
            "Epoch 17/20\n",
            "594/594 [==============================] - 3s 4ms/step - loss: 0.0577 - accuracy: 0.9873\n",
            "Epoch 18/20\n",
            "594/594 [==============================] - 3s 4ms/step - loss: 0.0436 - accuracy: 0.9914\n",
            "Epoch 19/20\n",
            "594/594 [==============================] - 3s 4ms/step - loss: 0.0445 - accuracy: 0.9898\n",
            "Epoch 20/20\n",
            "594/594 [==============================] - 3s 4ms/step - loss: 0.0405 - accuracy: 0.9905\n",
            "Model: \"sequential_39\"\n",
            "_________________________________________________________________\n",
            " Layer (type)                Output Shape              Param #   \n",
            "=================================================================\n",
            " lstm_78 (LSTM)              (None, 256)               276480    \n",
            "                                                                 \n",
            " repeat_vector_39 (RepeatVec  (None, 4, 256)           0         \n",
            " tor)                                                            \n",
            "                                                                 \n",
            " lstm_79 (LSTM)              (None, 4, 128)            197120    \n",
            "                                                                 \n",
            " time_distributed_39 (TimeDi  (None, 4, 13)            1677      \n",
            " stributed)                                                      \n",
            "                                                                 \n",
            "=================================================================\n",
            "Total params: 475,277\n",
            "Trainable params: 475,277\n",
            "Non-trainable params: 0\n",
            "_________________________________________________________________\n",
            "Epoch 1/20\n",
            "563/563 [==============================] - 5s 4ms/step - loss: 1.4665 - accuracy: 0.4920\n",
            "Epoch 2/20\n",
            "563/563 [==============================] - 2s 4ms/step - loss: 1.1635 - accuracy: 0.5681\n",
            "Epoch 3/20\n",
            "563/563 [==============================] - 2s 4ms/step - loss: 1.0094 - accuracy: 0.6358\n",
            "Epoch 4/20\n",
            "563/563 [==============================] - 2s 4ms/step - loss: 0.8955 - accuracy: 0.6825\n",
            "Epoch 5/20\n",
            "563/563 [==============================] - 2s 4ms/step - loss: 0.8310 - accuracy: 0.7060\n",
            "Epoch 6/20\n",
            "563/563 [==============================] - 2s 4ms/step - loss: 0.7878 - accuracy: 0.7192\n",
            "Epoch 7/20\n",
            "563/563 [==============================] - 2s 4ms/step - loss: 0.7445 - accuracy: 0.7359\n",
            "Epoch 8/20\n",
            "563/563 [==============================] - 2s 4ms/step - loss: 0.6986 - accuracy: 0.7519\n",
            "Epoch 9/20\n",
            "563/563 [==============================] - 2s 4ms/step - loss: 0.5975 - accuracy: 0.7884\n",
            "Epoch 10/20\n",
            "563/563 [==============================] - 2s 4ms/step - loss: 0.4398 - accuracy: 0.8539\n",
            "Epoch 11/20\n",
            "563/563 [==============================] - 2s 4ms/step - loss: 0.3168 - accuracy: 0.9113\n",
            "Epoch 12/20\n",
            "563/563 [==============================] - 2s 4ms/step - loss: 0.2231 - accuracy: 0.9489\n",
            "Epoch 13/20\n",
            "563/563 [==============================] - 2s 4ms/step - loss: 0.1736 - accuracy: 0.9605\n",
            "Epoch 14/20\n",
            "563/563 [==============================] - 2s 4ms/step - loss: 0.1280 - accuracy: 0.9730\n",
            "Epoch 15/20\n",
            "563/563 [==============================] - 2s 4ms/step - loss: 0.1078 - accuracy: 0.9750\n",
            "Epoch 16/20\n",
            "563/563 [==============================] - 2s 4ms/step - loss: 0.0782 - accuracy: 0.9839\n",
            "Epoch 17/20\n",
            "563/563 [==============================] - 3s 5ms/step - loss: 0.0776 - accuracy: 0.9809\n",
            "Epoch 18/20\n",
            "563/563 [==============================] - 2s 4ms/step - loss: 0.0587 - accuracy: 0.9868\n",
            "Epoch 19/20\n",
            "563/563 [==============================] - 3s 5ms/step - loss: 0.0586 - accuracy: 0.9854\n",
            "Epoch 20/20\n",
            "563/563 [==============================] - 2s 4ms/step - loss: 0.0469 - accuracy: 0.9886\n",
            "Model: \"sequential_40\"\n",
            "_________________________________________________________________\n",
            " Layer (type)                Output Shape              Param #   \n",
            "=================================================================\n",
            " lstm_80 (LSTM)              (None, 256)               276480    \n",
            "                                                                 \n",
            " repeat_vector_40 (RepeatVec  (None, 4, 256)           0         \n",
            " tor)                                                            \n",
            "                                                                 \n",
            " lstm_81 (LSTM)              (None, 4, 128)            197120    \n",
            "                                                                 \n",
            " time_distributed_40 (TimeDi  (None, 4, 13)            1677      \n",
            " stributed)                                                      \n",
            "                                                                 \n",
            "=================================================================\n",
            "Total params: 475,277\n",
            "Trainable params: 475,277\n",
            "Non-trainable params: 0\n",
            "_________________________________________________________________\n",
            "Epoch 1/20\n",
            "532/532 [==============================] - 5s 4ms/step - loss: 1.4971 - accuracy: 0.4860\n",
            "Epoch 2/20\n",
            "532/532 [==============================] - 2s 4ms/step - loss: 1.1840 - accuracy: 0.5620\n",
            "Epoch 3/20\n",
            "532/532 [==============================] - 2s 4ms/step - loss: 1.0261 - accuracy: 0.6274\n",
            "Epoch 4/20\n",
            "532/532 [==============================] - 2s 4ms/step - loss: 0.9067 - accuracy: 0.6777\n",
            "Epoch 5/20\n",
            "532/532 [==============================] - 2s 4ms/step - loss: 0.8333 - accuracy: 0.7058\n",
            "Epoch 6/20\n",
            "532/532 [==============================] - 2s 4ms/step - loss: 0.7916 - accuracy: 0.7175\n",
            "Epoch 7/20\n",
            "532/532 [==============================] - 2s 4ms/step - loss: 0.7505 - accuracy: 0.7334\n",
            "Epoch 8/20\n",
            "532/532 [==============================] - 2s 4ms/step - loss: 0.7043 - accuracy: 0.7506\n",
            "Epoch 9/20\n",
            "532/532 [==============================] - 2s 4ms/step - loss: 0.5982 - accuracy: 0.7877\n",
            "Epoch 10/20\n",
            "532/532 [==============================] - 2s 4ms/step - loss: 0.4132 - accuracy: 0.8671\n",
            "Epoch 11/20\n",
            "532/532 [==============================] - 2s 4ms/step - loss: 0.2820 - accuracy: 0.9294\n",
            "Epoch 12/20\n",
            "532/532 [==============================] - 2s 4ms/step - loss: 0.2006 - accuracy: 0.9580\n",
            "Epoch 13/20\n",
            "532/532 [==============================] - 2s 4ms/step - loss: 0.1457 - accuracy: 0.9719\n",
            "Epoch 14/20\n",
            "532/532 [==============================] - 2s 4ms/step - loss: 0.1061 - accuracy: 0.9807\n",
            "Epoch 15/20\n",
            "532/532 [==============================] - 2s 4ms/step - loss: 0.0919 - accuracy: 0.9809\n",
            "Epoch 16/20\n",
            "532/532 [==============================] - 2s 4ms/step - loss: 0.0756 - accuracy: 0.9837\n",
            "Epoch 17/20\n",
            "532/532 [==============================] - 2s 4ms/step - loss: 0.0494 - accuracy: 0.9918\n",
            "Epoch 18/20\n",
            "532/532 [==============================] - 2s 4ms/step - loss: 0.0603 - accuracy: 0.9856\n",
            "Epoch 19/20\n",
            "532/532 [==============================] - 2s 4ms/step - loss: 0.0569 - accuracy: 0.9854\n",
            "Epoch 20/20\n",
            "532/532 [==============================] - 2s 4ms/step - loss: 0.0304 - accuracy: 0.9951\n",
            "Model: \"sequential_41\"\n",
            "_________________________________________________________________\n",
            " Layer (type)                Output Shape              Param #   \n",
            "=================================================================\n",
            " lstm_82 (LSTM)              (None, 256)               276480    \n",
            "                                                                 \n",
            " repeat_vector_41 (RepeatVec  (None, 4, 256)           0         \n",
            " tor)                                                            \n",
            "                                                                 \n",
            " lstm_83 (LSTM)              (None, 4, 128)            197120    \n",
            "                                                                 \n",
            " time_distributed_41 (TimeDi  (None, 4, 13)            1677      \n",
            " stributed)                                                      \n",
            "                                                                 \n",
            "=================================================================\n",
            "Total params: 475,277\n",
            "Trainable params: 475,277\n",
            "Non-trainable params: 0\n",
            "_________________________________________________________________\n",
            "Epoch 1/20\n",
            "500/500 [==============================] - 4s 4ms/step - loss: 1.5013 - accuracy: 0.4863\n",
            "Epoch 2/20\n",
            "500/500 [==============================] - 2s 4ms/step - loss: 1.2078 - accuracy: 0.5507\n",
            "Epoch 3/20\n",
            "500/500 [==============================] - 2s 4ms/step - loss: 1.0728 - accuracy: 0.6058\n",
            "Epoch 4/20\n",
            "500/500 [==============================] - 2s 4ms/step - loss: 0.9472 - accuracy: 0.6613\n",
            "Epoch 5/20\n",
            "500/500 [==============================] - 2s 4ms/step - loss: 0.8678 - accuracy: 0.6931\n",
            "Epoch 6/20\n",
            "500/500 [==============================] - 2s 4ms/step - loss: 0.8171 - accuracy: 0.7108\n",
            "Epoch 7/20\n",
            "500/500 [==============================] - 2s 4ms/step - loss: 0.7749 - accuracy: 0.7257\n",
            "Epoch 8/20\n",
            "500/500 [==============================] - 2s 4ms/step - loss: 0.7370 - accuracy: 0.7384\n",
            "Epoch 9/20\n",
            "500/500 [==============================] - 2s 4ms/step - loss: 0.6751 - accuracy: 0.7622\n",
            "Epoch 10/20\n",
            "500/500 [==============================] - 2s 4ms/step - loss: 0.5473 - accuracy: 0.8092\n",
            "Epoch 11/20\n",
            "500/500 [==============================] - 2s 4ms/step - loss: 0.3849 - accuracy: 0.8828\n",
            "Epoch 12/20\n",
            "500/500 [==============================] - 2s 4ms/step - loss: 0.2884 - accuracy: 0.9261\n",
            "Epoch 13/20\n",
            "500/500 [==============================] - 2s 4ms/step - loss: 0.2164 - accuracy: 0.9523\n",
            "Epoch 14/20\n",
            "500/500 [==============================] - 2s 4ms/step - loss: 0.1646 - accuracy: 0.9663\n",
            "Epoch 15/20\n",
            "500/500 [==============================] - 2s 4ms/step - loss: 0.1283 - accuracy: 0.9738\n",
            "Epoch 16/20\n",
            "500/500 [==============================] - 2s 4ms/step - loss: 0.1014 - accuracy: 0.9794\n",
            "Epoch 17/20\n",
            "500/500 [==============================] - 2s 4ms/step - loss: 0.0954 - accuracy: 0.9781\n",
            "Epoch 18/20\n",
            "500/500 [==============================] - 2s 4ms/step - loss: 0.0656 - accuracy: 0.9874\n",
            "Epoch 19/20\n",
            "500/500 [==============================] - 2s 4ms/step - loss: 0.0637 - accuracy: 0.9859\n",
            "Epoch 20/20\n",
            "500/500 [==============================] - 2s 4ms/step - loss: 0.0695 - accuracy: 0.9816\n",
            "Model: \"sequential_42\"\n",
            "_________________________________________________________________\n",
            " Layer (type)                Output Shape              Param #   \n",
            "=================================================================\n",
            " lstm_84 (LSTM)              (None, 256)               276480    \n",
            "                                                                 \n",
            " repeat_vector_42 (RepeatVec  (None, 4, 256)           0         \n",
            " tor)                                                            \n",
            "                                                                 \n",
            " lstm_85 (LSTM)              (None, 4, 128)            197120    \n",
            "                                                                 \n",
            " time_distributed_42 (TimeDi  (None, 4, 13)            1677      \n",
            " stributed)                                                      \n",
            "                                                                 \n",
            "=================================================================\n",
            "Total params: 475,277\n",
            "Trainable params: 475,277\n",
            "Non-trainable params: 0\n",
            "_________________________________________________________________\n",
            "Epoch 1/20\n",
            "469/469 [==============================] - 5s 4ms/step - loss: 1.5276 - accuracy: 0.4793\n",
            "Epoch 2/20\n",
            "469/469 [==============================] - 2s 4ms/step - loss: 1.2164 - accuracy: 0.5493\n",
            "Epoch 3/20\n",
            "469/469 [==============================] - 2s 4ms/step - loss: 1.0853 - accuracy: 0.6008\n",
            "Epoch 4/20\n",
            "469/469 [==============================] - 2s 4ms/step - loss: 0.9618 - accuracy: 0.6534\n",
            "Epoch 5/20\n",
            "469/469 [==============================] - 2s 4ms/step - loss: 0.8778 - accuracy: 0.6876\n",
            "Epoch 6/20\n",
            "469/469 [==============================] - 2s 4ms/step - loss: 0.8299 - accuracy: 0.7033\n",
            "Epoch 7/20\n",
            "469/469 [==============================] - 2s 4ms/step - loss: 0.7902 - accuracy: 0.7188\n",
            "Epoch 8/20\n",
            "469/469 [==============================] - 2s 4ms/step - loss: 0.7606 - accuracy: 0.7275\n",
            "Epoch 9/20\n",
            "469/469 [==============================] - 2s 4ms/step - loss: 0.7322 - accuracy: 0.7383\n",
            "Epoch 10/20\n",
            "469/469 [==============================] - 2s 4ms/step - loss: 0.6960 - accuracy: 0.7518\n",
            "Epoch 11/20\n",
            "469/469 [==============================] - 2s 4ms/step - loss: 0.6343 - accuracy: 0.7749\n",
            "Epoch 12/20\n",
            "469/469 [==============================] - 2s 4ms/step - loss: 0.5125 - accuracy: 0.8179\n",
            "Epoch 13/20\n",
            "469/469 [==============================] - 2s 4ms/step - loss: 0.3790 - accuracy: 0.8786\n",
            "Epoch 14/20\n",
            "469/469 [==============================] - 2s 4ms/step - loss: 0.2769 - accuracy: 0.9293\n",
            "Epoch 15/20\n",
            "469/469 [==============================] - 2s 4ms/step - loss: 0.2080 - accuracy: 0.9544\n",
            "Epoch 16/20\n",
            "469/469 [==============================] - 2s 4ms/step - loss: 0.1574 - accuracy: 0.9687\n",
            "Epoch 17/20\n",
            "469/469 [==============================] - 2s 4ms/step - loss: 0.1200 - accuracy: 0.9774\n",
            "Epoch 18/20\n",
            "469/469 [==============================] - 2s 4ms/step - loss: 0.0987 - accuracy: 0.9804\n",
            "Epoch 19/20\n",
            "469/469 [==============================] - 2s 4ms/step - loss: 0.0778 - accuracy: 0.9851\n",
            "Epoch 20/20\n",
            "469/469 [==============================] - 2s 4ms/step - loss: 0.0715 - accuracy: 0.9850\n",
            "Model: \"sequential_43\"\n",
            "_________________________________________________________________\n",
            " Layer (type)                Output Shape              Param #   \n",
            "=================================================================\n",
            " lstm_86 (LSTM)              (None, 256)               276480    \n",
            "                                                                 \n",
            " repeat_vector_43 (RepeatVec  (None, 4, 256)           0         \n",
            " tor)                                                            \n",
            "                                                                 \n",
            " lstm_87 (LSTM)              (None, 4, 128)            197120    \n",
            "                                                                 \n",
            " time_distributed_43 (TimeDi  (None, 4, 13)            1677      \n",
            " stributed)                                                      \n",
            "                                                                 \n",
            "=================================================================\n",
            "Total params: 475,277\n",
            "Trainable params: 475,277\n",
            "Non-trainable params: 0\n",
            "_________________________________________________________________\n",
            "Epoch 1/20\n",
            "438/438 [==============================] - 4s 4ms/step - loss: 1.5449 - accuracy: 0.4766\n",
            "Epoch 2/20\n",
            "438/438 [==============================] - 2s 4ms/step - loss: 1.2244 - accuracy: 0.5476\n",
            "Epoch 3/20\n",
            "438/438 [==============================] - 2s 4ms/step - loss: 1.1004 - accuracy: 0.5949\n",
            "Epoch 4/20\n",
            "438/438 [==============================] - 2s 4ms/step - loss: 0.9816 - accuracy: 0.6463\n",
            "Epoch 5/20\n",
            "438/438 [==============================] - 2s 4ms/step - loss: 0.8958 - accuracy: 0.6826\n",
            "Epoch 6/20\n",
            "438/438 [==============================] - 2s 4ms/step - loss: 0.8456 - accuracy: 0.6995\n",
            "Epoch 7/20\n",
            "438/438 [==============================] - 2s 4ms/step - loss: 0.8045 - accuracy: 0.7158\n",
            "Epoch 8/20\n",
            "438/438 [==============================] - 2s 4ms/step - loss: 0.7695 - accuracy: 0.7289\n",
            "Epoch 9/20\n",
            "438/438 [==============================] - 2s 4ms/step - loss: 0.7301 - accuracy: 0.7432\n",
            "Epoch 10/20\n",
            "438/438 [==============================] - 2s 4ms/step - loss: 0.6739 - accuracy: 0.7628\n",
            "Epoch 11/20\n",
            "438/438 [==============================] - 2s 4ms/step - loss: 0.5749 - accuracy: 0.7948\n",
            "Epoch 12/20\n",
            "438/438 [==============================] - 2s 4ms/step - loss: 0.4473 - accuracy: 0.8452\n",
            "Epoch 13/20\n",
            "438/438 [==============================] - 2s 4ms/step - loss: 0.3378 - accuracy: 0.8976\n",
            "Epoch 14/20\n",
            "438/438 [==============================] - 2s 4ms/step - loss: 0.2555 - accuracy: 0.9362\n",
            "Epoch 15/20\n",
            "438/438 [==============================] - 2s 4ms/step - loss: 0.1988 - accuracy: 0.9550\n",
            "Epoch 16/20\n",
            "438/438 [==============================] - 2s 4ms/step - loss: 0.1528 - accuracy: 0.9687\n",
            "Epoch 17/20\n",
            "438/438 [==============================] - 2s 4ms/step - loss: 0.1313 - accuracy: 0.9710\n",
            "Epoch 18/20\n",
            "438/438 [==============================] - 2s 4ms/step - loss: 0.0995 - accuracy: 0.9803\n",
            "Epoch 19/20\n",
            "438/438 [==============================] - 2s 4ms/step - loss: 0.0851 - accuracy: 0.9827\n",
            "Epoch 20/20\n",
            "438/438 [==============================] - 2s 4ms/step - loss: 0.0734 - accuracy: 0.9850\n",
            "Model: \"sequential_44\"\n",
            "_________________________________________________________________\n",
            " Layer (type)                Output Shape              Param #   \n",
            "=================================================================\n",
            " lstm_88 (LSTM)              (None, 256)               276480    \n",
            "                                                                 \n",
            " repeat_vector_44 (RepeatVec  (None, 4, 256)           0         \n",
            " tor)                                                            \n",
            "                                                                 \n",
            " lstm_89 (LSTM)              (None, 4, 128)            197120    \n",
            "                                                                 \n",
            " time_distributed_44 (TimeDi  (None, 4, 13)            1677      \n",
            " stributed)                                                      \n",
            "                                                                 \n",
            "=================================================================\n",
            "Total params: 475,277\n",
            "Trainable params: 475,277\n",
            "Non-trainable params: 0\n",
            "_________________________________________________________________\n",
            "Epoch 1/20\n",
            "407/407 [==============================] - 5s 4ms/step - loss: 1.5558 - accuracy: 0.4711\n",
            "Epoch 2/20\n",
            "407/407 [==============================] - 2s 4ms/step - loss: 1.2552 - accuracy: 0.5381\n",
            "Epoch 3/20\n",
            "407/407 [==============================] - 2s 4ms/step - loss: 1.1374 - accuracy: 0.5794\n",
            "Epoch 4/20\n",
            "407/407 [==============================] - 2s 4ms/step - loss: 1.0301 - accuracy: 0.6241\n",
            "Epoch 5/20\n",
            "407/407 [==============================] - 2s 4ms/step - loss: 0.9406 - accuracy: 0.6608\n",
            "Epoch 6/20\n",
            "407/407 [==============================] - 2s 5ms/step - loss: 0.8774 - accuracy: 0.6884\n",
            "Epoch 7/20\n",
            "407/407 [==============================] - 2s 4ms/step - loss: 0.8333 - accuracy: 0.7044\n",
            "Epoch 8/20\n",
            "407/407 [==============================] - 2s 5ms/step - loss: 0.7965 - accuracy: 0.7170\n",
            "Epoch 9/20\n",
            "407/407 [==============================] - 2s 4ms/step - loss: 0.7691 - accuracy: 0.7271\n",
            "Epoch 10/20\n",
            "407/407 [==============================] - 2s 4ms/step - loss: 0.7300 - accuracy: 0.7412\n",
            "Epoch 11/20\n",
            "407/407 [==============================] - 2s 4ms/step - loss: 0.6379 - accuracy: 0.7754\n",
            "Epoch 12/20\n",
            "407/407 [==============================] - 2s 4ms/step - loss: 0.5222 - accuracy: 0.8210\n",
            "Epoch 13/20\n",
            "407/407 [==============================] - 2s 4ms/step - loss: 0.4142 - accuracy: 0.8716\n",
            "Epoch 14/20\n",
            "407/407 [==============================] - 2s 4ms/step - loss: 0.3273 - accuracy: 0.9113\n",
            "Epoch 15/20\n",
            "407/407 [==============================] - 2s 4ms/step - loss: 0.2637 - accuracy: 0.9358\n",
            "Epoch 16/20\n",
            "407/407 [==============================] - 2s 4ms/step - loss: 0.2173 - accuracy: 0.9519\n",
            "Epoch 17/20\n",
            "407/407 [==============================] - 2s 4ms/step - loss: 0.1746 - accuracy: 0.9640\n",
            "Epoch 18/20\n",
            "407/407 [==============================] - 2s 4ms/step - loss: 0.1385 - accuracy: 0.9736\n",
            "Epoch 19/20\n",
            "407/407 [==============================] - 2s 4ms/step - loss: 0.1219 - accuracy: 0.9746\n",
            "Epoch 20/20\n",
            "407/407 [==============================] - 2s 4ms/step - loss: 0.1024 - accuracy: 0.9795\n",
            "Model: \"sequential_45\"\n",
            "_________________________________________________________________\n",
            " Layer (type)                Output Shape              Param #   \n",
            "=================================================================\n",
            " lstm_90 (LSTM)              (None, 256)               276480    \n",
            "                                                                 \n",
            " repeat_vector_45 (RepeatVec  (None, 4, 256)           0         \n",
            " tor)                                                            \n",
            "                                                                 \n",
            " lstm_91 (LSTM)              (None, 4, 128)            197120    \n",
            "                                                                 \n",
            " time_distributed_45 (TimeDi  (None, 4, 13)            1677      \n",
            " stributed)                                                      \n",
            "                                                                 \n",
            "=================================================================\n",
            "Total params: 475,277\n",
            "Trainable params: 475,277\n",
            "Non-trainable params: 0\n",
            "_________________________________________________________________\n",
            "Epoch 1/20\n",
            "375/375 [==============================] - 4s 4ms/step - loss: 1.5705 - accuracy: 0.4684\n",
            "Epoch 2/20\n",
            "375/375 [==============================] - 1s 4ms/step - loss: 1.2520 - accuracy: 0.5399\n",
            "Epoch 3/20\n",
            "375/375 [==============================] - 1s 4ms/step - loss: 1.1444 - accuracy: 0.5743\n",
            "Epoch 4/20\n",
            "375/375 [==============================] - 1s 4ms/step - loss: 1.0451 - accuracy: 0.6148\n",
            "Epoch 5/20\n",
            "375/375 [==============================] - 1s 4ms/step - loss: 0.9580 - accuracy: 0.6528\n",
            "Epoch 6/20\n",
            "375/375 [==============================] - 1s 4ms/step - loss: 0.8912 - accuracy: 0.6823\n",
            "Epoch 7/20\n",
            "375/375 [==============================] - 1s 4ms/step - loss: 0.8445 - accuracy: 0.7000\n",
            "Epoch 8/20\n",
            "375/375 [==============================] - 1s 4ms/step - loss: 0.8089 - accuracy: 0.7149\n",
            "Epoch 9/20\n",
            "375/375 [==============================] - 1s 4ms/step - loss: 0.7815 - accuracy: 0.7244\n",
            "Epoch 10/20\n",
            "375/375 [==============================] - 1s 4ms/step - loss: 0.7446 - accuracy: 0.7388\n",
            "Epoch 11/20\n",
            "375/375 [==============================] - 1s 4ms/step - loss: 0.6983 - accuracy: 0.7552\n",
            "Epoch 12/20\n",
            "375/375 [==============================] - 1s 4ms/step - loss: 0.5924 - accuracy: 0.7933\n",
            "Epoch 13/20\n",
            "375/375 [==============================] - 1s 4ms/step - loss: 0.4748 - accuracy: 0.8382\n",
            "Epoch 14/20\n",
            "375/375 [==============================] - 1s 4ms/step - loss: 0.3746 - accuracy: 0.8878\n",
            "Epoch 15/20\n",
            "375/375 [==============================] - 1s 4ms/step - loss: 0.3035 - accuracy: 0.9203\n",
            "Epoch 16/20\n",
            "375/375 [==============================] - 1s 4ms/step - loss: 0.2514 - accuracy: 0.9399\n",
            "Epoch 17/20\n",
            "375/375 [==============================] - 1s 4ms/step - loss: 0.2016 - accuracy: 0.9575\n",
            "Epoch 18/20\n",
            "375/375 [==============================] - 1s 4ms/step - loss: 0.1659 - accuracy: 0.9670\n",
            "Epoch 19/20\n",
            "375/375 [==============================] - 1s 4ms/step - loss: 0.1422 - accuracy: 0.9713\n",
            "Epoch 20/20\n",
            "375/375 [==============================] - 1s 4ms/step - loss: 0.1141 - accuracy: 0.9792\n",
            "Model: \"sequential_46\"\n",
            "_________________________________________________________________\n",
            " Layer (type)                Output Shape              Param #   \n",
            "=================================================================\n",
            " lstm_92 (LSTM)              (None, 256)               276480    \n",
            "                                                                 \n",
            " repeat_vector_46 (RepeatVec  (None, 4, 256)           0         \n",
            " tor)                                                            \n",
            "                                                                 \n",
            " lstm_93 (LSTM)              (None, 4, 128)            197120    \n",
            "                                                                 \n",
            " time_distributed_46 (TimeDi  (None, 4, 13)            1677      \n",
            " stributed)                                                      \n",
            "                                                                 \n",
            "=================================================================\n",
            "Total params: 475,277\n",
            "Trainable params: 475,277\n",
            "Non-trainable params: 0\n",
            "_________________________________________________________________\n",
            "Epoch 1/20\n",
            "344/344 [==============================] - 4s 4ms/step - loss: 1.5836 - accuracy: 0.4668\n",
            "Epoch 2/20\n",
            "344/344 [==============================] - 2s 4ms/step - loss: 1.2812 - accuracy: 0.5321\n",
            "Epoch 3/20\n",
            "344/344 [==============================] - 2s 4ms/step - loss: 1.1776 - accuracy: 0.5610\n",
            "Epoch 4/20\n",
            "344/344 [==============================] - 2s 4ms/step - loss: 1.0874 - accuracy: 0.5994\n",
            "Epoch 5/20\n",
            "344/344 [==============================] - 2s 4ms/step - loss: 1.0016 - accuracy: 0.6367\n",
            "Epoch 6/20\n",
            "344/344 [==============================] - 2s 4ms/step - loss: 0.9261 - accuracy: 0.6669\n",
            "Epoch 7/20\n",
            "344/344 [==============================] - 2s 4ms/step - loss: 0.8675 - accuracy: 0.6913\n",
            "Epoch 8/20\n",
            "344/344 [==============================] - 2s 4ms/step - loss: 0.8253 - accuracy: 0.7075\n",
            "Epoch 9/20\n",
            "344/344 [==============================] - 2s 5ms/step - loss: 0.7948 - accuracy: 0.7171\n",
            "Epoch 10/20\n",
            "344/344 [==============================] - 2s 4ms/step - loss: 0.7664 - accuracy: 0.7274\n",
            "Epoch 11/20\n",
            "344/344 [==============================] - 1s 4ms/step - loss: 0.7347 - accuracy: 0.7386\n",
            "Epoch 12/20\n",
            "344/344 [==============================] - 2s 4ms/step - loss: 0.6939 - accuracy: 0.7540\n",
            "Epoch 13/20\n",
            "344/344 [==============================] - 1s 4ms/step - loss: 0.6302 - accuracy: 0.7758\n",
            "Epoch 14/20\n",
            "344/344 [==============================] - 2s 4ms/step - loss: 0.5116 - accuracy: 0.8199\n",
            "Epoch 15/20\n",
            "344/344 [==============================] - 2s 4ms/step - loss: 0.4113 - accuracy: 0.8661\n",
            "Epoch 16/20\n",
            "344/344 [==============================] - 2s 4ms/step - loss: 0.3271 - accuracy: 0.9088\n",
            "Epoch 17/20\n",
            "344/344 [==============================] - 2s 4ms/step - loss: 0.2592 - accuracy: 0.9383\n",
            "Epoch 18/20\n",
            "344/344 [==============================] - 2s 4ms/step - loss: 0.2160 - accuracy: 0.9512\n",
            "Epoch 19/20\n",
            "344/344 [==============================] - 2s 4ms/step - loss: 0.1715 - accuracy: 0.9658\n",
            "Epoch 20/20\n",
            "344/344 [==============================] - 2s 4ms/step - loss: 0.1475 - accuracy: 0.9690\n",
            "Model: \"sequential_47\"\n",
            "_________________________________________________________________\n",
            " Layer (type)                Output Shape              Param #   \n",
            "=================================================================\n",
            " lstm_94 (LSTM)              (None, 256)               276480    \n",
            "                                                                 \n",
            " repeat_vector_47 (RepeatVec  (None, 4, 256)           0         \n",
            " tor)                                                            \n",
            "                                                                 \n",
            " lstm_95 (LSTM)              (None, 4, 128)            197120    \n",
            "                                                                 \n",
            " time_distributed_47 (TimeDi  (None, 4, 13)            1677      \n",
            " stributed)                                                      \n",
            "                                                                 \n",
            "=================================================================\n",
            "Total params: 475,277\n",
            "Trainable params: 475,277\n",
            "Non-trainable params: 0\n",
            "_________________________________________________________________\n",
            "Epoch 1/20\n",
            "313/313 [==============================] - 4s 4ms/step - loss: 1.6230 - accuracy: 0.4579\n",
            "Epoch 2/20\n",
            "313/313 [==============================] - 1s 4ms/step - loss: 1.3039 - accuracy: 0.5251\n",
            "Epoch 3/20\n",
            "313/313 [==============================] - 1s 4ms/step - loss: 1.2040 - accuracy: 0.5538\n",
            "Epoch 4/20\n",
            "313/313 [==============================] - 1s 4ms/step - loss: 1.1149 - accuracy: 0.5881\n",
            "Epoch 5/20\n",
            "313/313 [==============================] - 1s 5ms/step - loss: 1.0278 - accuracy: 0.6268\n",
            "Epoch 6/20\n",
            "313/313 [==============================] - 1s 5ms/step - loss: 0.9501 - accuracy: 0.6610\n",
            "Epoch 7/20\n",
            "313/313 [==============================] - 1s 4ms/step - loss: 0.8992 - accuracy: 0.6796\n",
            "Epoch 8/20\n",
            "313/313 [==============================] - 1s 4ms/step - loss: 0.8597 - accuracy: 0.6956\n",
            "Epoch 9/20\n",
            "313/313 [==============================] - 1s 4ms/step - loss: 0.8290 - accuracy: 0.7068\n",
            "Epoch 10/20\n",
            "313/313 [==============================] - 1s 4ms/step - loss: 0.7978 - accuracy: 0.7200\n",
            "Epoch 11/20\n",
            "313/313 [==============================] - 1s 4ms/step - loss: 0.7756 - accuracy: 0.7257\n",
            "Epoch 12/20\n",
            "313/313 [==============================] - 1s 4ms/step - loss: 0.7551 - accuracy: 0.7315\n",
            "Epoch 13/20\n",
            "313/313 [==============================] - 1s 4ms/step - loss: 0.7364 - accuracy: 0.7385\n",
            "Epoch 14/20\n",
            "313/313 [==============================] - 1s 4ms/step - loss: 0.7081 - accuracy: 0.7484\n",
            "Epoch 15/20\n",
            "313/313 [==============================] - 1s 4ms/step - loss: 0.6666 - accuracy: 0.7637\n",
            "Epoch 16/20\n",
            "313/313 [==============================] - 1s 4ms/step - loss: 0.5920 - accuracy: 0.7888\n",
            "Epoch 17/20\n",
            "313/313 [==============================] - 1s 5ms/step - loss: 0.4916 - accuracy: 0.8256\n",
            "Epoch 18/20\n",
            "313/313 [==============================] - 1s 5ms/step - loss: 0.3942 - accuracy: 0.8714\n",
            "Epoch 19/20\n",
            "313/313 [==============================] - 1s 5ms/step - loss: 0.3228 - accuracy: 0.9062\n",
            "Epoch 20/20\n",
            "313/313 [==============================] - 1s 5ms/step - loss: 0.2639 - accuracy: 0.9328\n",
            "Model: \"sequential_48\"\n",
            "_________________________________________________________________\n",
            " Layer (type)                Output Shape              Param #   \n",
            "=================================================================\n",
            " lstm_96 (LSTM)              (None, 256)               276480    \n",
            "                                                                 \n",
            " repeat_vector_48 (RepeatVec  (None, 4, 256)           0         \n",
            " tor)                                                            \n",
            "                                                                 \n",
            " lstm_97 (LSTM)              (None, 4, 128)            197120    \n",
            "                                                                 \n",
            " time_distributed_48 (TimeDi  (None, 4, 13)            1677      \n",
            " stributed)                                                      \n",
            "                                                                 \n",
            "=================================================================\n",
            "Total params: 475,277\n",
            "Trainable params: 475,277\n",
            "Non-trainable params: 0\n",
            "_________________________________________________________________\n",
            "Epoch 1/20\n",
            "282/282 [==============================] - 4s 4ms/step - loss: 1.6344 - accuracy: 0.4529\n",
            "Epoch 2/20\n",
            "282/282 [==============================] - 1s 4ms/step - loss: 1.3071 - accuracy: 0.5262\n",
            "Epoch 3/20\n",
            "282/282 [==============================] - 1s 4ms/step - loss: 1.2107 - accuracy: 0.5505\n",
            "Epoch 4/20\n",
            "282/282 [==============================] - 1s 4ms/step - loss: 1.1345 - accuracy: 0.5797\n",
            "Epoch 5/20\n",
            "282/282 [==============================] - 1s 4ms/step - loss: 1.0518 - accuracy: 0.6143\n",
            "Epoch 6/20\n",
            "282/282 [==============================] - 1s 4ms/step - loss: 0.9838 - accuracy: 0.6415\n",
            "Epoch 7/20\n",
            "282/282 [==============================] - 1s 4ms/step - loss: 0.9169 - accuracy: 0.6702\n",
            "Epoch 8/20\n",
            "282/282 [==============================] - 1s 4ms/step - loss: 0.8752 - accuracy: 0.6858\n",
            "Epoch 9/20\n",
            "282/282 [==============================] - 1s 4ms/step - loss: 0.8469 - accuracy: 0.6958\n",
            "Epoch 10/20\n",
            "282/282 [==============================] - 1s 4ms/step - loss: 0.8192 - accuracy: 0.7080\n",
            "Epoch 11/20\n",
            "282/282 [==============================] - 1s 4ms/step - loss: 0.7928 - accuracy: 0.7189\n",
            "Epoch 12/20\n",
            "282/282 [==============================] - 1s 4ms/step - loss: 0.7744 - accuracy: 0.7242\n",
            "Epoch 13/20\n",
            "282/282 [==============================] - 1s 4ms/step - loss: 0.7512 - accuracy: 0.7330\n",
            "Epoch 14/20\n",
            "282/282 [==============================] - 1s 4ms/step - loss: 0.7349 - accuracy: 0.7383\n",
            "Epoch 15/20\n",
            "282/282 [==============================] - 1s 4ms/step - loss: 0.7145 - accuracy: 0.7459\n",
            "Epoch 16/20\n",
            "282/282 [==============================] - 1s 4ms/step - loss: 0.6860 - accuracy: 0.7558\n",
            "Epoch 17/20\n",
            "282/282 [==============================] - 1s 5ms/step - loss: 0.6355 - accuracy: 0.7737\n",
            "Epoch 18/20\n",
            "282/282 [==============================] - 1s 4ms/step - loss: 0.5468 - accuracy: 0.8048\n",
            "Epoch 19/20\n",
            "282/282 [==============================] - 1s 4ms/step - loss: 0.4434 - accuracy: 0.8472\n",
            "Epoch 20/20\n",
            "282/282 [==============================] - 1s 4ms/step - loss: 0.3592 - accuracy: 0.8861\n",
            "Model: \"sequential_49\"\n",
            "_________________________________________________________________\n",
            " Layer (type)                Output Shape              Param #   \n",
            "=================================================================\n",
            " lstm_98 (LSTM)              (None, 256)               276480    \n",
            "                                                                 \n",
            " repeat_vector_49 (RepeatVec  (None, 4, 256)           0         \n",
            " tor)                                                            \n",
            "                                                                 \n",
            " lstm_99 (LSTM)              (None, 4, 128)            197120    \n",
            "                                                                 \n",
            " time_distributed_49 (TimeDi  (None, 4, 13)            1677      \n",
            " stributed)                                                      \n",
            "                                                                 \n",
            "=================================================================\n",
            "Total params: 475,277\n",
            "Trainable params: 475,277\n",
            "Non-trainable params: 0\n",
            "_________________________________________________________________\n",
            "Epoch 1/20\n",
            "250/250 [==============================] - 4s 4ms/step - loss: 1.6649 - accuracy: 0.4502\n",
            "Epoch 2/20\n",
            "250/250 [==============================] - 1s 4ms/step - loss: 1.3352 - accuracy: 0.5235\n",
            "Epoch 3/20\n",
            "250/250 [==============================] - 1s 5ms/step - loss: 1.2303 - accuracy: 0.5454\n",
            "Epoch 4/20\n",
            "250/250 [==============================] - 1s 4ms/step - loss: 1.1601 - accuracy: 0.5686\n",
            "Epoch 5/20\n",
            "250/250 [==============================] - 1s 4ms/step - loss: 1.0872 - accuracy: 0.6006\n",
            "Epoch 6/20\n",
            "250/250 [==============================] - 1s 4ms/step - loss: 1.0206 - accuracy: 0.6279\n",
            "Epoch 7/20\n",
            "250/250 [==============================] - 1s 4ms/step - loss: 0.9580 - accuracy: 0.6557\n",
            "Epoch 8/20\n",
            "250/250 [==============================] - 1s 4ms/step - loss: 0.9103 - accuracy: 0.6766\n",
            "Epoch 9/20\n",
            "250/250 [==============================] - 1s 4ms/step - loss: 0.8762 - accuracy: 0.6896\n",
            "Epoch 10/20\n",
            "250/250 [==============================] - 1s 4ms/step - loss: 0.8434 - accuracy: 0.7029\n",
            "Epoch 11/20\n",
            "250/250 [==============================] - 1s 4ms/step - loss: 0.8190 - accuracy: 0.7104\n",
            "Epoch 12/20\n",
            "250/250 [==============================] - 1s 4ms/step - loss: 0.7995 - accuracy: 0.7171\n",
            "Epoch 13/20\n",
            "250/250 [==============================] - 1s 4ms/step - loss: 0.7799 - accuracy: 0.7238\n",
            "Epoch 14/20\n",
            "250/250 [==============================] - 1s 4ms/step - loss: 0.7593 - accuracy: 0.7325\n",
            "Epoch 15/20\n",
            "250/250 [==============================] - 1s 4ms/step - loss: 0.7403 - accuracy: 0.7387\n",
            "Epoch 16/20\n",
            "250/250 [==============================] - 1s 4ms/step - loss: 0.7176 - accuracy: 0.7468\n",
            "Epoch 17/20\n",
            "250/250 [==============================] - 1s 4ms/step - loss: 0.6898 - accuracy: 0.7570\n",
            "Epoch 18/20\n",
            "250/250 [==============================] - 1s 4ms/step - loss: 0.6499 - accuracy: 0.7730\n",
            "Epoch 19/20\n",
            "250/250 [==============================] - 1s 4ms/step - loss: 0.5967 - accuracy: 0.7897\n",
            "Epoch 20/20\n",
            "250/250 [==============================] - 1s 4ms/step - loss: 0.5282 - accuracy: 0.8170\n",
            "Model: \"sequential_50\"\n",
            "_________________________________________________________________\n",
            " Layer (type)                Output Shape              Param #   \n",
            "=================================================================\n",
            " lstm_100 (LSTM)             (None, 256)               276480    \n",
            "                                                                 \n",
            " repeat_vector_50 (RepeatVec  (None, 4, 256)           0         \n",
            " tor)                                                            \n",
            "                                                                 \n",
            " lstm_101 (LSTM)             (None, 4, 128)            197120    \n",
            "                                                                 \n",
            " time_distributed_50 (TimeDi  (None, 4, 13)            1677      \n",
            " stributed)                                                      \n",
            "                                                                 \n",
            "=================================================================\n",
            "Total params: 475,277\n",
            "Trainable params: 475,277\n",
            "Non-trainable params: 0\n",
            "_________________________________________________________________\n",
            "Epoch 1/20\n",
            "219/219 [==============================] - 4s 5ms/step - loss: 1.7002 - accuracy: 0.4366\n",
            "Epoch 2/20\n",
            "219/219 [==============================] - 1s 5ms/step - loss: 1.3603 - accuracy: 0.5158\n",
            "Epoch 3/20\n",
            "219/219 [==============================] - 1s 5ms/step - loss: 1.2586 - accuracy: 0.5383\n",
            "Epoch 4/20\n",
            "219/219 [==============================] - 1s 5ms/step - loss: 1.1948 - accuracy: 0.5544\n",
            "Epoch 5/20\n",
            "219/219 [==============================] - 1s 4ms/step - loss: 1.1386 - accuracy: 0.5765\n",
            "Epoch 6/20\n",
            "219/219 [==============================] - 1s 5ms/step - loss: 1.0854 - accuracy: 0.6000\n",
            "Epoch 7/20\n",
            "219/219 [==============================] - 1s 5ms/step - loss: 1.0300 - accuracy: 0.6235\n",
            "Epoch 8/20\n",
            "219/219 [==============================] - 1s 4ms/step - loss: 0.9789 - accuracy: 0.6476\n",
            "Epoch 9/20\n",
            "219/219 [==============================] - 1s 4ms/step - loss: 0.9375 - accuracy: 0.6637\n",
            "Epoch 10/20\n",
            "219/219 [==============================] - 1s 4ms/step - loss: 0.9049 - accuracy: 0.6754\n",
            "Epoch 11/20\n",
            "219/219 [==============================] - 1s 4ms/step - loss: 0.8693 - accuracy: 0.6941\n",
            "Epoch 12/20\n",
            "219/219 [==============================] - 1s 4ms/step - loss: 0.8511 - accuracy: 0.6985\n",
            "Epoch 13/20\n",
            "219/219 [==============================] - 1s 4ms/step - loss: 0.8235 - accuracy: 0.7115\n",
            "Epoch 14/20\n",
            "219/219 [==============================] - 1s 4ms/step - loss: 0.8052 - accuracy: 0.7175\n",
            "Epoch 15/20\n",
            "219/219 [==============================] - 1s 4ms/step - loss: 0.7873 - accuracy: 0.7225\n",
            "Epoch 16/20\n",
            "219/219 [==============================] - 1s 4ms/step - loss: 0.7698 - accuracy: 0.7296\n",
            "Epoch 17/20\n",
            "219/219 [==============================] - 1s 5ms/step - loss: 0.7499 - accuracy: 0.7369\n",
            "Epoch 18/20\n",
            "219/219 [==============================] - 1s 4ms/step - loss: 0.7318 - accuracy: 0.7450\n",
            "Epoch 19/20\n",
            "219/219 [==============================] - 1s 4ms/step - loss: 0.7036 - accuracy: 0.7545\n",
            "Epoch 20/20\n",
            "219/219 [==============================] - 1s 4ms/step - loss: 0.6728 - accuracy: 0.7655\n",
            "Model: \"sequential_51\"\n",
            "_________________________________________________________________\n",
            " Layer (type)                Output Shape              Param #   \n",
            "=================================================================\n",
            " lstm_102 (LSTM)             (None, 256)               276480    \n",
            "                                                                 \n",
            " repeat_vector_51 (RepeatVec  (None, 4, 256)           0         \n",
            " tor)                                                            \n",
            "                                                                 \n",
            " lstm_103 (LSTM)             (None, 4, 128)            197120    \n",
            "                                                                 \n",
            " time_distributed_51 (TimeDi  (None, 4, 13)            1677      \n",
            " stributed)                                                      \n",
            "                                                                 \n",
            "=================================================================\n",
            "Total params: 475,277\n",
            "Trainable params: 475,277\n",
            "Non-trainable params: 0\n",
            "_________________________________________________________________\n",
            "Epoch 1/20\n",
            "188/188 [==============================] - 3s 4ms/step - loss: 1.7306 - accuracy: 0.4283\n",
            "Epoch 2/20\n",
            "188/188 [==============================] - 1s 4ms/step - loss: 1.3902 - accuracy: 0.5131\n",
            "Epoch 3/20\n",
            "188/188 [==============================] - 1s 4ms/step - loss: 1.2923 - accuracy: 0.5291\n",
            "Epoch 4/20\n",
            "188/188 [==============================] - 1s 4ms/step - loss: 1.2398 - accuracy: 0.5422\n",
            "Epoch 5/20\n",
            "188/188 [==============================] - 1s 5ms/step - loss: 1.1813 - accuracy: 0.5622\n",
            "Epoch 6/20\n",
            "188/188 [==============================] - 1s 5ms/step - loss: 1.1273 - accuracy: 0.5841\n",
            "Epoch 7/20\n",
            "188/188 [==============================] - 1s 4ms/step - loss: 1.0802 - accuracy: 0.6021\n",
            "Epoch 8/20\n",
            "188/188 [==============================] - 1s 5ms/step - loss: 1.0256 - accuracy: 0.6258\n",
            "Epoch 9/20\n",
            "188/188 [==============================] - 1s 5ms/step - loss: 0.9846 - accuracy: 0.6469\n",
            "Epoch 10/20\n",
            "188/188 [==============================] - 1s 5ms/step - loss: 0.9481 - accuracy: 0.6600\n",
            "Epoch 11/20\n",
            "188/188 [==============================] - 1s 5ms/step - loss: 0.9108 - accuracy: 0.6779\n",
            "Epoch 12/20\n",
            "188/188 [==============================] - 1s 4ms/step - loss: 0.8857 - accuracy: 0.6897\n",
            "Epoch 13/20\n",
            "188/188 [==============================] - 1s 4ms/step - loss: 0.8652 - accuracy: 0.6972\n",
            "Epoch 14/20\n",
            "188/188 [==============================] - 1s 4ms/step - loss: 0.8423 - accuracy: 0.7031\n",
            "Epoch 15/20\n",
            "188/188 [==============================] - 1s 4ms/step - loss: 0.8307 - accuracy: 0.7058\n",
            "Epoch 16/20\n",
            "188/188 [==============================] - 1s 4ms/step - loss: 0.8068 - accuracy: 0.7176\n",
            "Epoch 17/20\n",
            "188/188 [==============================] - 1s 4ms/step - loss: 0.7952 - accuracy: 0.7208\n",
            "Epoch 18/20\n",
            "188/188 [==============================] - 1s 4ms/step - loss: 0.7796 - accuracy: 0.7267\n",
            "Epoch 19/20\n",
            "188/188 [==============================] - 1s 4ms/step - loss: 0.7615 - accuracy: 0.7335\n",
            "Epoch 20/20\n",
            "188/188 [==============================] - 1s 4ms/step - loss: 0.7389 - accuracy: 0.7434\n",
            "Model: \"sequential_52\"\n",
            "_________________________________________________________________\n",
            " Layer (type)                Output Shape              Param #   \n",
            "=================================================================\n",
            " lstm_104 (LSTM)             (None, 256)               276480    \n",
            "                                                                 \n",
            " repeat_vector_52 (RepeatVec  (None, 4, 256)           0         \n",
            " tor)                                                            \n",
            "                                                                 \n",
            " lstm_105 (LSTM)             (None, 4, 128)            197120    \n",
            "                                                                 \n",
            " time_distributed_52 (TimeDi  (None, 4, 13)            1677      \n",
            " stributed)                                                      \n",
            "                                                                 \n",
            "=================================================================\n",
            "Total params: 475,277\n",
            "Trainable params: 475,277\n",
            "Non-trainable params: 0\n",
            "_________________________________________________________________\n",
            "Epoch 1/20\n",
            "157/157 [==============================] - 4s 5ms/step - loss: 1.8024 - accuracy: 0.4109\n",
            "Epoch 2/20\n",
            "157/157 [==============================] - 1s 4ms/step - loss: 1.4372 - accuracy: 0.5084\n",
            "Epoch 3/20\n",
            "157/157 [==============================] - 1s 5ms/step - loss: 1.3258 - accuracy: 0.5240\n",
            "Epoch 4/20\n",
            "157/157 [==============================] - 1s 5ms/step - loss: 1.2693 - accuracy: 0.5363\n",
            "Epoch 5/20\n",
            "157/157 [==============================] - 1s 4ms/step - loss: 1.2148 - accuracy: 0.5510\n",
            "Epoch 6/20\n",
            "157/157 [==============================] - 1s 4ms/step - loss: 1.1766 - accuracy: 0.5632\n",
            "Epoch 7/20\n",
            "157/157 [==============================] - 1s 5ms/step - loss: 1.1271 - accuracy: 0.5838\n",
            "Epoch 8/20\n",
            "157/157 [==============================] - 1s 5ms/step - loss: 1.0695 - accuracy: 0.6094\n",
            "Epoch 9/20\n",
            "157/157 [==============================] - 1s 4ms/step - loss: 1.0189 - accuracy: 0.6330\n",
            "Epoch 10/20\n",
            "157/157 [==============================] - 1s 4ms/step - loss: 0.9744 - accuracy: 0.6526\n",
            "Epoch 11/20\n",
            "157/157 [==============================] - 1s 4ms/step - loss: 0.9498 - accuracy: 0.6597\n",
            "Epoch 12/20\n",
            "157/157 [==============================] - 1s 4ms/step - loss: 0.9254 - accuracy: 0.6706\n",
            "Epoch 13/20\n",
            "157/157 [==============================] - 1s 5ms/step - loss: 0.8965 - accuracy: 0.6827\n",
            "Epoch 14/20\n",
            "157/157 [==============================] - 1s 4ms/step - loss: 0.8737 - accuracy: 0.6913\n",
            "Epoch 15/20\n",
            "157/157 [==============================] - 1s 4ms/step - loss: 0.8603 - accuracy: 0.6920\n",
            "Epoch 16/20\n",
            "157/157 [==============================] - 1s 5ms/step - loss: 0.8383 - accuracy: 0.7050\n",
            "Epoch 17/20\n",
            "157/157 [==============================] - 1s 5ms/step - loss: 0.8252 - accuracy: 0.7092\n",
            "Epoch 18/20\n",
            "157/157 [==============================] - 1s 5ms/step - loss: 0.8095 - accuracy: 0.7149\n",
            "Epoch 19/20\n",
            "157/157 [==============================] - 1s 4ms/step - loss: 0.7973 - accuracy: 0.7203\n",
            "Epoch 20/20\n",
            "157/157 [==============================] - 1s 4ms/step - loss: 0.7812 - accuracy: 0.7257\n",
            "Model: \"sequential_53\"\n",
            "_________________________________________________________________\n",
            " Layer (type)                Output Shape              Param #   \n",
            "=================================================================\n",
            " lstm_106 (LSTM)             (None, 256)               276480    \n",
            "                                                                 \n",
            " repeat_vector_53 (RepeatVec  (None, 4, 256)           0         \n",
            " tor)                                                            \n",
            "                                                                 \n",
            " lstm_107 (LSTM)             (None, 4, 128)            197120    \n",
            "                                                                 \n",
            " time_distributed_53 (TimeDi  (None, 4, 13)            1677      \n",
            " stributed)                                                      \n",
            "                                                                 \n",
            "=================================================================\n",
            "Total params: 475,277\n",
            "Trainable params: 475,277\n",
            "Non-trainable params: 0\n",
            "_________________________________________________________________\n",
            "Epoch 1/20\n",
            "125/125 [==============================] - 3s 4ms/step - loss: 1.8502 - accuracy: 0.3966\n",
            "Epoch 2/20\n",
            "125/125 [==============================] - 0s 4ms/step - loss: 1.4726 - accuracy: 0.5018\n",
            "Epoch 3/20\n",
            "125/125 [==============================] - 0s 4ms/step - loss: 1.3587 - accuracy: 0.5179\n",
            "Epoch 4/20\n",
            "125/125 [==============================] - 0s 4ms/step - loss: 1.2934 - accuracy: 0.5303\n",
            "Epoch 5/20\n",
            "125/125 [==============================] - 0s 4ms/step - loss: 1.2500 - accuracy: 0.5393\n",
            "Epoch 6/20\n",
            "125/125 [==============================] - 0s 4ms/step - loss: 1.2110 - accuracy: 0.5502\n",
            "Epoch 7/20\n",
            "125/125 [==============================] - 0s 4ms/step - loss: 1.1802 - accuracy: 0.5601\n",
            "Epoch 8/20\n",
            "125/125 [==============================] - 0s 4ms/step - loss: 1.1501 - accuracy: 0.5733\n",
            "Epoch 9/20\n",
            "125/125 [==============================] - 0s 4ms/step - loss: 1.1116 - accuracy: 0.5901\n",
            "Epoch 10/20\n",
            "125/125 [==============================] - 0s 4ms/step - loss: 1.0795 - accuracy: 0.6048\n",
            "Epoch 11/20\n",
            "125/125 [==============================] - 0s 4ms/step - loss: 1.0460 - accuracy: 0.6142\n",
            "Epoch 12/20\n",
            "125/125 [==============================] - 0s 4ms/step - loss: 1.0118 - accuracy: 0.6328\n",
            "Epoch 13/20\n",
            "125/125 [==============================] - 0s 4ms/step - loss: 0.9769 - accuracy: 0.6487\n",
            "Epoch 14/20\n",
            "125/125 [==============================] - 0s 4ms/step - loss: 0.9484 - accuracy: 0.6605\n",
            "Epoch 15/20\n",
            "125/125 [==============================] - 0s 4ms/step - loss: 0.9242 - accuracy: 0.6694\n",
            "Epoch 16/20\n",
            "125/125 [==============================] - 0s 4ms/step - loss: 0.9009 - accuracy: 0.6815\n",
            "Epoch 17/20\n",
            "125/125 [==============================] - 1s 4ms/step - loss: 0.8799 - accuracy: 0.6884\n",
            "Epoch 18/20\n",
            "125/125 [==============================] - 0s 4ms/step - loss: 0.8634 - accuracy: 0.6974\n",
            "Epoch 19/20\n",
            "125/125 [==============================] - 0s 4ms/step - loss: 0.8510 - accuracy: 0.6995\n",
            "Epoch 20/20\n",
            "125/125 [==============================] - 0s 4ms/step - loss: 0.8327 - accuracy: 0.7061\n",
            "Model: \"sequential_54\"\n",
            "_________________________________________________________________\n",
            " Layer (type)                Output Shape              Param #   \n",
            "=================================================================\n",
            " lstm_108 (LSTM)             (None, 256)               276480    \n",
            "                                                                 \n",
            " repeat_vector_54 (RepeatVec  (None, 4, 256)           0         \n",
            " tor)                                                            \n",
            "                                                                 \n",
            " lstm_109 (LSTM)             (None, 4, 128)            197120    \n",
            "                                                                 \n",
            " time_distributed_54 (TimeDi  (None, 4, 13)            1677      \n",
            " stributed)                                                      \n",
            "                                                                 \n",
            "=================================================================\n",
            "Total params: 475,277\n",
            "Trainable params: 475,277\n",
            "Non-trainable params: 0\n",
            "_________________________________________________________________\n",
            "Epoch 1/20\n",
            "94/94 [==============================] - 3s 5ms/step - loss: 1.9357 - accuracy: 0.3661\n",
            "Epoch 2/20\n",
            "94/94 [==============================] - 0s 5ms/step - loss: 1.5661 - accuracy: 0.4826\n",
            "Epoch 3/20\n",
            "94/94 [==============================] - 0s 5ms/step - loss: 1.4294 - accuracy: 0.5097\n",
            "Epoch 4/20\n",
            "94/94 [==============================] - 0s 4ms/step - loss: 1.3622 - accuracy: 0.5167\n",
            "Epoch 5/20\n",
            "94/94 [==============================] - 0s 4ms/step - loss: 1.3055 - accuracy: 0.5289\n",
            "Epoch 6/20\n",
            "94/94 [==============================] - 0s 5ms/step - loss: 1.2660 - accuracy: 0.5388\n",
            "Epoch 7/20\n",
            "94/94 [==============================] - 0s 5ms/step - loss: 1.2305 - accuracy: 0.5466\n",
            "Epoch 8/20\n",
            "94/94 [==============================] - 0s 4ms/step - loss: 1.2130 - accuracy: 0.5540\n",
            "Epoch 9/20\n",
            "94/94 [==============================] - 0s 5ms/step - loss: 1.1775 - accuracy: 0.5632\n",
            "Epoch 10/20\n",
            "94/94 [==============================] - 0s 5ms/step - loss: 1.1529 - accuracy: 0.5738\n",
            "Epoch 11/20\n",
            "94/94 [==============================] - 0s 5ms/step - loss: 1.1332 - accuracy: 0.5813\n",
            "Epoch 12/20\n",
            "94/94 [==============================] - 0s 4ms/step - loss: 1.1025 - accuracy: 0.5948\n",
            "Epoch 13/20\n",
            "94/94 [==============================] - 0s 5ms/step - loss: 1.0783 - accuracy: 0.6026\n",
            "Epoch 14/20\n",
            "94/94 [==============================] - 0s 4ms/step - loss: 1.0416 - accuracy: 0.6193\n",
            "Epoch 15/20\n",
            "94/94 [==============================] - 0s 4ms/step - loss: 1.0139 - accuracy: 0.6333\n",
            "Epoch 16/20\n",
            "94/94 [==============================] - 0s 4ms/step - loss: 0.9920 - accuracy: 0.6404\n",
            "Epoch 17/20\n",
            "94/94 [==============================] - 0s 4ms/step - loss: 0.9581 - accuracy: 0.6608\n",
            "Epoch 18/20\n",
            "94/94 [==============================] - 0s 5ms/step - loss: 0.9419 - accuracy: 0.6617\n",
            "Epoch 19/20\n",
            "94/94 [==============================] - 0s 4ms/step - loss: 0.9176 - accuracy: 0.6741\n",
            "Epoch 20/20\n",
            "94/94 [==============================] - 0s 5ms/step - loss: 0.8991 - accuracy: 0.6809\n",
            "Model: \"sequential_55\"\n",
            "_________________________________________________________________\n",
            " Layer (type)                Output Shape              Param #   \n",
            "=================================================================\n",
            " lstm_110 (LSTM)             (None, 256)               276480    \n",
            "                                                                 \n",
            " repeat_vector_55 (RepeatVec  (None, 4, 256)           0         \n",
            " tor)                                                            \n",
            "                                                                 \n",
            " lstm_111 (LSTM)             (None, 4, 128)            197120    \n",
            "                                                                 \n",
            " time_distributed_55 (TimeDi  (None, 4, 13)            1677      \n",
            " stributed)                                                      \n",
            "                                                                 \n",
            "=================================================================\n",
            "Total params: 475,277\n",
            "Trainable params: 475,277\n",
            "Non-trainable params: 0\n",
            "_________________________________________________________________\n",
            "Epoch 1/20\n",
            "63/63 [==============================] - 3s 5ms/step - loss: 2.0347 - accuracy: 0.3501\n",
            "Epoch 2/20\n",
            "63/63 [==============================] - 0s 4ms/step - loss: 1.6754 - accuracy: 0.4431\n",
            "Epoch 3/20\n",
            "63/63 [==============================] - 0s 5ms/step - loss: 1.5054 - accuracy: 0.5017\n",
            "Epoch 4/20\n",
            "63/63 [==============================] - 0s 5ms/step - loss: 1.4264 - accuracy: 0.5118\n",
            "Epoch 5/20\n",
            "63/63 [==============================] - 0s 5ms/step - loss: 1.3766 - accuracy: 0.5171\n",
            "Epoch 6/20\n",
            "63/63 [==============================] - 0s 5ms/step - loss: 1.3350 - accuracy: 0.5243\n",
            "Epoch 7/20\n",
            "63/63 [==============================] - 0s 5ms/step - loss: 1.3140 - accuracy: 0.5296\n",
            "Epoch 8/20\n",
            "63/63 [==============================] - 0s 5ms/step - loss: 1.2778 - accuracy: 0.5370\n",
            "Epoch 9/20\n",
            "63/63 [==============================] - 0s 4ms/step - loss: 1.2592 - accuracy: 0.5426\n",
            "Epoch 10/20\n",
            "63/63 [==============================] - 0s 5ms/step - loss: 1.2388 - accuracy: 0.5466\n",
            "Epoch 11/20\n",
            "63/63 [==============================] - 0s 5ms/step - loss: 1.2120 - accuracy: 0.5534\n",
            "Epoch 12/20\n",
            "63/63 [==============================] - 0s 5ms/step - loss: 1.1997 - accuracy: 0.5581\n",
            "Epoch 13/20\n",
            "63/63 [==============================] - 0s 5ms/step - loss: 1.1748 - accuracy: 0.5657\n",
            "Epoch 14/20\n",
            "63/63 [==============================] - 0s 5ms/step - loss: 1.1551 - accuracy: 0.5756\n",
            "Epoch 15/20\n",
            "63/63 [==============================] - 0s 4ms/step - loss: 1.1440 - accuracy: 0.5789\n",
            "Epoch 16/20\n",
            "63/63 [==============================] - 0s 4ms/step - loss: 1.1208 - accuracy: 0.5899\n",
            "Epoch 17/20\n",
            "63/63 [==============================] - 0s 5ms/step - loss: 1.0989 - accuracy: 0.5990\n",
            "Epoch 18/20\n",
            "63/63 [==============================] - 0s 5ms/step - loss: 1.0784 - accuracy: 0.6066\n",
            "Epoch 19/20\n",
            "63/63 [==============================] - 0s 5ms/step - loss: 1.0575 - accuracy: 0.6163\n",
            "Epoch 20/20\n",
            "63/63 [==============================] - 0s 4ms/step - loss: 1.0438 - accuracy: 0.6186\n",
            "Model: \"sequential_56\"\n",
            "_________________________________________________________________\n",
            " Layer (type)                Output Shape              Param #   \n",
            "=================================================================\n",
            " lstm_112 (LSTM)             (None, 256)               276480    \n",
            "                                                                 \n",
            " repeat_vector_56 (RepeatVec  (None, 4, 256)           0         \n",
            " tor)                                                            \n",
            "                                                                 \n",
            " lstm_113 (LSTM)             (None, 4, 128)            197120    \n",
            "                                                                 \n",
            " time_distributed_56 (TimeDi  (None, 4, 13)            1677      \n",
            " stributed)                                                      \n",
            "                                                                 \n",
            "=================================================================\n",
            "Total params: 475,277\n",
            "Trainable params: 475,277\n",
            "Non-trainable params: 0\n",
            "_________________________________________________________________\n",
            "Epoch 1/20\n",
            "32/32 [==============================] - 3s 5ms/step - loss: 2.1816 - accuracy: 0.3009\n",
            "Epoch 2/20\n",
            "32/32 [==============================] - 0s 4ms/step - loss: 1.8769 - accuracy: 0.3882\n",
            "Epoch 3/20\n",
            "32/32 [==============================] - 0s 5ms/step - loss: 1.7178 - accuracy: 0.4303\n",
            "Epoch 4/20\n",
            "32/32 [==============================] - 0s 5ms/step - loss: 1.6349 - accuracy: 0.4682\n",
            "Epoch 5/20\n",
            "32/32 [==============================] - 0s 4ms/step - loss: 1.5160 - accuracy: 0.4981\n",
            "Epoch 6/20\n",
            "32/32 [==============================] - 0s 5ms/step - loss: 1.4735 - accuracy: 0.5045\n",
            "Epoch 7/20\n",
            "32/32 [==============================] - 0s 5ms/step - loss: 1.4308 - accuracy: 0.5122\n",
            "Epoch 8/20\n",
            "32/32 [==============================] - 0s 5ms/step - loss: 1.4020 - accuracy: 0.5153\n",
            "Epoch 9/20\n",
            "32/32 [==============================] - 0s 5ms/step - loss: 1.3768 - accuracy: 0.5201\n",
            "Epoch 10/20\n",
            "32/32 [==============================] - 0s 5ms/step - loss: 1.3714 - accuracy: 0.5191\n",
            "Epoch 11/20\n",
            "32/32 [==============================] - 0s 5ms/step - loss: 1.3381 - accuracy: 0.5262\n",
            "Epoch 12/20\n",
            "32/32 [==============================] - 0s 4ms/step - loss: 1.3257 - accuracy: 0.5278\n",
            "Epoch 13/20\n",
            "32/32 [==============================] - 0s 5ms/step - loss: 1.3174 - accuracy: 0.5295\n",
            "Epoch 14/20\n",
            "32/32 [==============================] - 0s 5ms/step - loss: 1.2943 - accuracy: 0.5369\n",
            "Epoch 15/20\n",
            "32/32 [==============================] - 0s 5ms/step - loss: 1.2838 - accuracy: 0.5378\n",
            "Epoch 16/20\n",
            "32/32 [==============================] - 0s 5ms/step - loss: 1.2783 - accuracy: 0.5402\n",
            "Epoch 17/20\n",
            "32/32 [==============================] - 0s 5ms/step - loss: 1.2587 - accuracy: 0.5443\n",
            "Epoch 18/20\n",
            "32/32 [==============================] - 0s 5ms/step - loss: 1.2569 - accuracy: 0.5432\n",
            "Epoch 19/20\n",
            "32/32 [==============================] - 0s 5ms/step - loss: 1.2465 - accuracy: 0.5486\n",
            "Epoch 20/20\n",
            "32/32 [==============================] - 0s 4ms/step - loss: 1.2318 - accuracy: 0.5508\n"
          ]
        }
      ],
      "source": [
        "TEST_SET_RATIO_RANGE = np.arange(0.05, 1, 0.05)\n",
        "\n",
        "train_report_per_test_set_ratio = {}\n",
        "test_report_per_test_set_ratio = {}\n",
        "\n",
        "for test_set_ratio in TEST_SET_RATIO_RANGE:\n",
        "  X_text_train, X_text_test, y_text_train, y_text_test = train_test_split(X_text_onehot, y_text_onehot, test_size=test_set_ratio, random_state=42)\n",
        "  model = text2text_model()\n",
        "  model.fit(\n",
        "    X_text_train,\n",
        "    y_text_train,\n",
        "    epochs=20,\n",
        "    batch_size=128,\n",
        "  )\n",
        "\n",
        "  y_pred_decoded = [decode_labels(item) for item in model.predict(X_text_test)]\n",
        "  y_test_decoded = [decode_labels(item) for item in y_text_test]\n",
        "\n",
        "  y_train_pred_decoded = [decode_labels(item) for item in model.predict(X_text_train)]\n",
        "  y_train_decoded = [decode_labels(item) for item in y_text_train]\n",
        "\n",
        "  test_report_per_test_set_ratio[test_set_ratio] = classification_report(\n",
        "      y_test_decoded, y_pred_decoded, output_dict=True, zero_division=0\n",
        "      )[\"weighted avg\"]\n",
        "  train_report_per_test_set_ratio[test_set_ratio] = classification_report(\n",
        "    y_train_decoded, y_train_pred_decoded, output_dict=True, zero_division=0\n",
        "    )[\"weighted avg\"]"
      ]
    },
    {
      "cell_type": "code",
      "execution_count": null,
      "metadata": {
        "colab": {
          "base_uri": "https://localhost:8080/",
          "height": 644
        },
        "id": "2__uABZ8rVsV",
        "outputId": "f0afd176-67d7-4f49-aaa2-061c856f2c7a"
      },
      "outputs": [
        {
          "data": {
            "text/html": [
              "\n",
              "  <div id=\"df-372c2b88-32e4-461d-bc55-cddc16cc87da\">\n",
              "    <div class=\"colab-df-container\">\n",
              "      <div>\n",
              "<style scoped>\n",
              "    .dataframe tbody tr th:only-of-type {\n",
              "        vertical-align: middle;\n",
              "    }\n",
              "\n",
              "    .dataframe tbody tr th {\n",
              "        vertical-align: top;\n",
              "    }\n",
              "\n",
              "    .dataframe thead th {\n",
              "        text-align: right;\n",
              "    }\n",
              "</style>\n",
              "<table border=\"1\" class=\"dataframe\">\n",
              "  <thead>\n",
              "    <tr style=\"text-align: right;\">\n",
              "      <th></th>\n",
              "      <th>index</th>\n",
              "      <th>precision</th>\n",
              "      <th>recall</th>\n",
              "      <th>f1-score</th>\n",
              "      <th>support</th>\n",
              "    </tr>\n",
              "  </thead>\n",
              "  <tbody>\n",
              "    <tr>\n",
              "      <th>0</th>\n",
              "      <td>0.05</td>\n",
              "      <td>0.984297</td>\n",
              "      <td>0.982645</td>\n",
              "      <td>0.982746</td>\n",
              "      <td>76000.0</td>\n",
              "    </tr>\n",
              "    <tr>\n",
              "      <th>1</th>\n",
              "      <td>0.10</td>\n",
              "      <td>0.978167</td>\n",
              "      <td>0.975167</td>\n",
              "      <td>0.975013</td>\n",
              "      <td>72000.0</td>\n",
              "    </tr>\n",
              "    <tr>\n",
              "      <th>2</th>\n",
              "      <td>0.15</td>\n",
              "      <td>0.953106</td>\n",
              "      <td>0.948587</td>\n",
              "      <td>0.948663</td>\n",
              "      <td>67999.0</td>\n",
              "    </tr>\n",
              "    <tr>\n",
              "      <th>3</th>\n",
              "      <td>0.20</td>\n",
              "      <td>0.980450</td>\n",
              "      <td>0.977734</td>\n",
              "      <td>0.977875</td>\n",
              "      <td>64000.0</td>\n",
              "    </tr>\n",
              "    <tr>\n",
              "      <th>4</th>\n",
              "      <td>0.25</td>\n",
              "      <td>0.967965</td>\n",
              "      <td>0.964233</td>\n",
              "      <td>0.964443</td>\n",
              "      <td>60000.0</td>\n",
              "    </tr>\n",
              "    <tr>\n",
              "      <th>5</th>\n",
              "      <td>0.30</td>\n",
              "      <td>0.958463</td>\n",
              "      <td>0.954393</td>\n",
              "      <td>0.955162</td>\n",
              "      <td>56000.0</td>\n",
              "    </tr>\n",
              "    <tr>\n",
              "      <th>6</th>\n",
              "      <td>0.35</td>\n",
              "      <td>0.892115</td>\n",
              "      <td>0.883767</td>\n",
              "      <td>0.883679</td>\n",
              "      <td>51999.0</td>\n",
              "    </tr>\n",
              "    <tr>\n",
              "      <th>7</th>\n",
              "      <td>0.40</td>\n",
              "      <td>0.931067</td>\n",
              "      <td>0.924396</td>\n",
              "      <td>0.923879</td>\n",
              "      <td>48000.0</td>\n",
              "    </tr>\n",
              "    <tr>\n",
              "      <th>8</th>\n",
              "      <td>0.45</td>\n",
              "      <td>0.931227</td>\n",
              "      <td>0.923159</td>\n",
              "      <td>0.923691</td>\n",
              "      <td>44000.0</td>\n",
              "    </tr>\n",
              "    <tr>\n",
              "      <th>9</th>\n",
              "      <td>0.50</td>\n",
              "      <td>0.812894</td>\n",
              "      <td>0.797025</td>\n",
              "      <td>0.797314</td>\n",
              "      <td>40000.0</td>\n",
              "    </tr>\n",
              "    <tr>\n",
              "      <th>10</th>\n",
              "      <td>0.55</td>\n",
              "      <td>0.619130</td>\n",
              "      <td>0.596806</td>\n",
              "      <td>0.596093</td>\n",
              "      <td>36000.0</td>\n",
              "    </tr>\n",
              "    <tr>\n",
              "      <th>11</th>\n",
              "      <td>0.60</td>\n",
              "      <td>0.411020</td>\n",
              "      <td>0.384356</td>\n",
              "      <td>0.373796</td>\n",
              "      <td>31999.0</td>\n",
              "    </tr>\n",
              "    <tr>\n",
              "      <th>12</th>\n",
              "      <td>0.65</td>\n",
              "      <td>0.234801</td>\n",
              "      <td>0.233973</td>\n",
              "      <td>0.205934</td>\n",
              "      <td>27999.0</td>\n",
              "    </tr>\n",
              "    <tr>\n",
              "      <th>13</th>\n",
              "      <td>0.70</td>\n",
              "      <td>0.144458</td>\n",
              "      <td>0.140173</td>\n",
              "      <td>0.115421</td>\n",
              "      <td>23999.0</td>\n",
              "    </tr>\n",
              "    <tr>\n",
              "      <th>14</th>\n",
              "      <td>0.75</td>\n",
              "      <td>0.067316</td>\n",
              "      <td>0.098805</td>\n",
              "      <td>0.056278</td>\n",
              "      <td>19999.0</td>\n",
              "    </tr>\n",
              "    <tr>\n",
              "      <th>15</th>\n",
              "      <td>0.80</td>\n",
              "      <td>0.071957</td>\n",
              "      <td>0.086875</td>\n",
              "      <td>0.054936</td>\n",
              "      <td>16000.0</td>\n",
              "    </tr>\n",
              "    <tr>\n",
              "      <th>16</th>\n",
              "      <td>0.85</td>\n",
              "      <td>0.051403</td>\n",
              "      <td>0.063250</td>\n",
              "      <td>0.041299</td>\n",
              "      <td>12000.0</td>\n",
              "    </tr>\n",
              "    <tr>\n",
              "      <th>17</th>\n",
              "      <td>0.90</td>\n",
              "      <td>0.025376</td>\n",
              "      <td>0.044381</td>\n",
              "      <td>0.022339</td>\n",
              "      <td>7999.0</td>\n",
              "    </tr>\n",
              "    <tr>\n",
              "      <th>18</th>\n",
              "      <td>0.95</td>\n",
              "      <td>0.007019</td>\n",
              "      <td>0.015250</td>\n",
              "      <td>0.006403</td>\n",
              "      <td>4000.0</td>\n",
              "    </tr>\n",
              "  </tbody>\n",
              "</table>\n",
              "</div>\n",
              "      <button class=\"colab-df-convert\" onclick=\"convertToInteractive('df-372c2b88-32e4-461d-bc55-cddc16cc87da')\"\n",
              "              title=\"Convert this dataframe to an interactive table.\"\n",
              "              style=\"display:none;\">\n",
              "        \n",
              "  <svg xmlns=\"http://www.w3.org/2000/svg\" height=\"24px\"viewBox=\"0 0 24 24\"\n",
              "       width=\"24px\">\n",
              "    <path d=\"M0 0h24v24H0V0z\" fill=\"none\"/>\n",
              "    <path d=\"M18.56 5.44l.94 2.06.94-2.06 2.06-.94-2.06-.94-.94-2.06-.94 2.06-2.06.94zm-11 1L8.5 8.5l.94-2.06 2.06-.94-2.06-.94L8.5 2.5l-.94 2.06-2.06.94zm10 10l.94 2.06.94-2.06 2.06-.94-2.06-.94-.94-2.06-.94 2.06-2.06.94z\"/><path d=\"M17.41 7.96l-1.37-1.37c-.4-.4-.92-.59-1.43-.59-.52 0-1.04.2-1.43.59L10.3 9.45l-7.72 7.72c-.78.78-.78 2.05 0 2.83L4 21.41c.39.39.9.59 1.41.59.51 0 1.02-.2 1.41-.59l7.78-7.78 2.81-2.81c.8-.78.8-2.07 0-2.86zM5.41 20L4 18.59l7.72-7.72 1.47 1.35L5.41 20z\"/>\n",
              "  </svg>\n",
              "      </button>\n",
              "      \n",
              "  <style>\n",
              "    .colab-df-container {\n",
              "      display:flex;\n",
              "      flex-wrap:wrap;\n",
              "      gap: 12px;\n",
              "    }\n",
              "\n",
              "    .colab-df-convert {\n",
              "      background-color: #E8F0FE;\n",
              "      border: none;\n",
              "      border-radius: 50%;\n",
              "      cursor: pointer;\n",
              "      display: none;\n",
              "      fill: #1967D2;\n",
              "      height: 32px;\n",
              "      padding: 0 0 0 0;\n",
              "      width: 32px;\n",
              "    }\n",
              "\n",
              "    .colab-df-convert:hover {\n",
              "      background-color: #E2EBFA;\n",
              "      box-shadow: 0px 1px 2px rgba(60, 64, 67, 0.3), 0px 1px 3px 1px rgba(60, 64, 67, 0.15);\n",
              "      fill: #174EA6;\n",
              "    }\n",
              "\n",
              "    [theme=dark] .colab-df-convert {\n",
              "      background-color: #3B4455;\n",
              "      fill: #D2E3FC;\n",
              "    }\n",
              "\n",
              "    [theme=dark] .colab-df-convert:hover {\n",
              "      background-color: #434B5C;\n",
              "      box-shadow: 0px 1px 3px 1px rgba(0, 0, 0, 0.15);\n",
              "      filter: drop-shadow(0px 1px 2px rgba(0, 0, 0, 0.3));\n",
              "      fill: #FFFFFF;\n",
              "    }\n",
              "  </style>\n",
              "\n",
              "      <script>\n",
              "        const buttonEl =\n",
              "          document.querySelector('#df-372c2b88-32e4-461d-bc55-cddc16cc87da button.colab-df-convert');\n",
              "        buttonEl.style.display =\n",
              "          google.colab.kernel.accessAllowed ? 'block' : 'none';\n",
              "\n",
              "        async function convertToInteractive(key) {\n",
              "          const element = document.querySelector('#df-372c2b88-32e4-461d-bc55-cddc16cc87da');\n",
              "          const dataTable =\n",
              "            await google.colab.kernel.invokeFunction('convertToInteractive',\n",
              "                                                     [key], {});\n",
              "          if (!dataTable) return;\n",
              "\n",
              "          const docLinkHtml = 'Like what you see? Visit the ' +\n",
              "            '<a target=\"_blank\" href=https://colab.research.google.com/notebooks/data_table.ipynb>data table notebook</a>'\n",
              "            + ' to learn more about interactive tables.';\n",
              "          element.innerHTML = '';\n",
              "          dataTable['output_type'] = 'display_data';\n",
              "          await google.colab.output.renderOutput(dataTable, element);\n",
              "          const docLink = document.createElement('div');\n",
              "          docLink.innerHTML = docLinkHtml;\n",
              "          element.appendChild(docLink);\n",
              "        }\n",
              "      </script>\n",
              "    </div>\n",
              "  </div>\n",
              "  "
            ],
            "text/plain": [
              "    index  precision    recall  f1-score  support\n",
              "0    0.05   0.984297  0.982645  0.982746  76000.0\n",
              "1    0.10   0.978167  0.975167  0.975013  72000.0\n",
              "2    0.15   0.953106  0.948587  0.948663  67999.0\n",
              "3    0.20   0.980450  0.977734  0.977875  64000.0\n",
              "4    0.25   0.967965  0.964233  0.964443  60000.0\n",
              "5    0.30   0.958463  0.954393  0.955162  56000.0\n",
              "6    0.35   0.892115  0.883767  0.883679  51999.0\n",
              "7    0.40   0.931067  0.924396  0.923879  48000.0\n",
              "8    0.45   0.931227  0.923159  0.923691  44000.0\n",
              "9    0.50   0.812894  0.797025  0.797314  40000.0\n",
              "10   0.55   0.619130  0.596806  0.596093  36000.0\n",
              "11   0.60   0.411020  0.384356  0.373796  31999.0\n",
              "12   0.65   0.234801  0.233973  0.205934  27999.0\n",
              "13   0.70   0.144458  0.140173  0.115421  23999.0\n",
              "14   0.75   0.067316  0.098805  0.056278  19999.0\n",
              "15   0.80   0.071957  0.086875  0.054936  16000.0\n",
              "16   0.85   0.051403  0.063250  0.041299  12000.0\n",
              "17   0.90   0.025376  0.044381  0.022339   7999.0\n",
              "18   0.95   0.007019  0.015250  0.006403   4000.0"
            ]
          },
          "execution_count": 14,
          "metadata": {},
          "output_type": "execute_result"
        }
      ],
      "source": [
        "train_report_per_test_set_ratio_df = pd.DataFrame.from_dict(train_report_per_test_set_ratio).transpose().reset_index()\n",
        "\n",
        "train_report_per_test_set_ratio_df"
      ]
    },
    {
      "cell_type": "code",
      "execution_count": null,
      "metadata": {
        "colab": {
          "base_uri": "https://localhost:8080/",
          "height": 644
        },
        "id": "ithvVKKZrVsV",
        "outputId": "d5ed939b-cf33-4bad-9094-4d9e40251c74"
      },
      "outputs": [
        {
          "data": {
            "text/html": [
              "\n",
              "  <div id=\"df-4bc93ec7-614f-43c8-baa8-13ea7e2c66ad\">\n",
              "    <div class=\"colab-df-container\">\n",
              "      <div>\n",
              "<style scoped>\n",
              "    .dataframe tbody tr th:only-of-type {\n",
              "        vertical-align: middle;\n",
              "    }\n",
              "\n",
              "    .dataframe tbody tr th {\n",
              "        vertical-align: top;\n",
              "    }\n",
              "\n",
              "    .dataframe thead th {\n",
              "        text-align: right;\n",
              "    }\n",
              "</style>\n",
              "<table border=\"1\" class=\"dataframe\">\n",
              "  <thead>\n",
              "    <tr style=\"text-align: right;\">\n",
              "      <th></th>\n",
              "      <th>index</th>\n",
              "      <th>precision</th>\n",
              "      <th>recall</th>\n",
              "      <th>f1-score</th>\n",
              "      <th>support</th>\n",
              "    </tr>\n",
              "  </thead>\n",
              "  <tbody>\n",
              "    <tr>\n",
              "      <th>0</th>\n",
              "      <td>0.05</td>\n",
              "      <td>0.982288</td>\n",
              "      <td>0.978750</td>\n",
              "      <td>0.979050</td>\n",
              "      <td>4000.0</td>\n",
              "    </tr>\n",
              "    <tr>\n",
              "      <th>1</th>\n",
              "      <td>0.10</td>\n",
              "      <td>0.968786</td>\n",
              "      <td>0.963250</td>\n",
              "      <td>0.962752</td>\n",
              "      <td>8000.0</td>\n",
              "    </tr>\n",
              "    <tr>\n",
              "      <th>2</th>\n",
              "      <td>0.15</td>\n",
              "      <td>0.950731</td>\n",
              "      <td>0.943005</td>\n",
              "      <td>0.942530</td>\n",
              "      <td>12001.0</td>\n",
              "    </tr>\n",
              "    <tr>\n",
              "      <th>3</th>\n",
              "      <td>0.20</td>\n",
              "      <td>0.975043</td>\n",
              "      <td>0.970187</td>\n",
              "      <td>0.970536</td>\n",
              "      <td>16000.0</td>\n",
              "    </tr>\n",
              "    <tr>\n",
              "      <th>4</th>\n",
              "      <td>0.25</td>\n",
              "      <td>0.961084</td>\n",
              "      <td>0.955500</td>\n",
              "      <td>0.955650</td>\n",
              "      <td>20000.0</td>\n",
              "    </tr>\n",
              "    <tr>\n",
              "      <th>5</th>\n",
              "      <td>0.30</td>\n",
              "      <td>0.947727</td>\n",
              "      <td>0.941542</td>\n",
              "      <td>0.942272</td>\n",
              "      <td>24000.0</td>\n",
              "    </tr>\n",
              "    <tr>\n",
              "      <th>6</th>\n",
              "      <td>0.35</td>\n",
              "      <td>0.878978</td>\n",
              "      <td>0.869755</td>\n",
              "      <td>0.869231</td>\n",
              "      <td>28001.0</td>\n",
              "    </tr>\n",
              "    <tr>\n",
              "      <th>7</th>\n",
              "      <td>0.40</td>\n",
              "      <td>0.914549</td>\n",
              "      <td>0.908250</td>\n",
              "      <td>0.907797</td>\n",
              "      <td>32000.0</td>\n",
              "    </tr>\n",
              "    <tr>\n",
              "      <th>8</th>\n",
              "      <td>0.45</td>\n",
              "      <td>0.910443</td>\n",
              "      <td>0.899278</td>\n",
              "      <td>0.900195</td>\n",
              "      <td>36000.0</td>\n",
              "    </tr>\n",
              "    <tr>\n",
              "      <th>9</th>\n",
              "      <td>0.50</td>\n",
              "      <td>0.781085</td>\n",
              "      <td>0.762825</td>\n",
              "      <td>0.763284</td>\n",
              "      <td>40000.0</td>\n",
              "    </tr>\n",
              "    <tr>\n",
              "      <th>10</th>\n",
              "      <td>0.55</td>\n",
              "      <td>0.582235</td>\n",
              "      <td>0.559273</td>\n",
              "      <td>0.558432</td>\n",
              "      <td>44000.0</td>\n",
              "    </tr>\n",
              "    <tr>\n",
              "      <th>11</th>\n",
              "      <td>0.60</td>\n",
              "      <td>0.373801</td>\n",
              "      <td>0.346639</td>\n",
              "      <td>0.336372</td>\n",
              "      <td>48001.0</td>\n",
              "    </tr>\n",
              "    <tr>\n",
              "      <th>12</th>\n",
              "      <td>0.65</td>\n",
              "      <td>0.202516</td>\n",
              "      <td>0.199054</td>\n",
              "      <td>0.173840</td>\n",
              "      <td>52001.0</td>\n",
              "    </tr>\n",
              "    <tr>\n",
              "      <th>13</th>\n",
              "      <td>0.70</td>\n",
              "      <td>0.119078</td>\n",
              "      <td>0.114444</td>\n",
              "      <td>0.092299</td>\n",
              "      <td>56001.0</td>\n",
              "    </tr>\n",
              "    <tr>\n",
              "      <th>14</th>\n",
              "      <td>0.75</td>\n",
              "      <td>0.056329</td>\n",
              "      <td>0.079665</td>\n",
              "      <td>0.043191</td>\n",
              "      <td>60001.0</td>\n",
              "    </tr>\n",
              "    <tr>\n",
              "      <th>15</th>\n",
              "      <td>0.80</td>\n",
              "      <td>0.048806</td>\n",
              "      <td>0.066484</td>\n",
              "      <td>0.038417</td>\n",
              "      <td>64000.0</td>\n",
              "    </tr>\n",
              "    <tr>\n",
              "      <th>16</th>\n",
              "      <td>0.85</td>\n",
              "      <td>0.036002</td>\n",
              "      <td>0.049265</td>\n",
              "      <td>0.030360</td>\n",
              "      <td>68000.0</td>\n",
              "    </tr>\n",
              "    <tr>\n",
              "      <th>17</th>\n",
              "      <td>0.90</td>\n",
              "      <td>0.016934</td>\n",
              "      <td>0.031958</td>\n",
              "      <td>0.014804</td>\n",
              "      <td>72001.0</td>\n",
              "    </tr>\n",
              "    <tr>\n",
              "      <th>18</th>\n",
              "      <td>0.95</td>\n",
              "      <td>0.002575</td>\n",
              "      <td>0.008645</td>\n",
              "      <td>0.002889</td>\n",
              "      <td>76000.0</td>\n",
              "    </tr>\n",
              "  </tbody>\n",
              "</table>\n",
              "</div>\n",
              "      <button class=\"colab-df-convert\" onclick=\"convertToInteractive('df-4bc93ec7-614f-43c8-baa8-13ea7e2c66ad')\"\n",
              "              title=\"Convert this dataframe to an interactive table.\"\n",
              "              style=\"display:none;\">\n",
              "        \n",
              "  <svg xmlns=\"http://www.w3.org/2000/svg\" height=\"24px\"viewBox=\"0 0 24 24\"\n",
              "       width=\"24px\">\n",
              "    <path d=\"M0 0h24v24H0V0z\" fill=\"none\"/>\n",
              "    <path d=\"M18.56 5.44l.94 2.06.94-2.06 2.06-.94-2.06-.94-.94-2.06-.94 2.06-2.06.94zm-11 1L8.5 8.5l.94-2.06 2.06-.94-2.06-.94L8.5 2.5l-.94 2.06-2.06.94zm10 10l.94 2.06.94-2.06 2.06-.94-2.06-.94-.94-2.06-.94 2.06-2.06.94z\"/><path d=\"M17.41 7.96l-1.37-1.37c-.4-.4-.92-.59-1.43-.59-.52 0-1.04.2-1.43.59L10.3 9.45l-7.72 7.72c-.78.78-.78 2.05 0 2.83L4 21.41c.39.39.9.59 1.41.59.51 0 1.02-.2 1.41-.59l7.78-7.78 2.81-2.81c.8-.78.8-2.07 0-2.86zM5.41 20L4 18.59l7.72-7.72 1.47 1.35L5.41 20z\"/>\n",
              "  </svg>\n",
              "      </button>\n",
              "      \n",
              "  <style>\n",
              "    .colab-df-container {\n",
              "      display:flex;\n",
              "      flex-wrap:wrap;\n",
              "      gap: 12px;\n",
              "    }\n",
              "\n",
              "    .colab-df-convert {\n",
              "      background-color: #E8F0FE;\n",
              "      border: none;\n",
              "      border-radius: 50%;\n",
              "      cursor: pointer;\n",
              "      display: none;\n",
              "      fill: #1967D2;\n",
              "      height: 32px;\n",
              "      padding: 0 0 0 0;\n",
              "      width: 32px;\n",
              "    }\n",
              "\n",
              "    .colab-df-convert:hover {\n",
              "      background-color: #E2EBFA;\n",
              "      box-shadow: 0px 1px 2px rgba(60, 64, 67, 0.3), 0px 1px 3px 1px rgba(60, 64, 67, 0.15);\n",
              "      fill: #174EA6;\n",
              "    }\n",
              "\n",
              "    [theme=dark] .colab-df-convert {\n",
              "      background-color: #3B4455;\n",
              "      fill: #D2E3FC;\n",
              "    }\n",
              "\n",
              "    [theme=dark] .colab-df-convert:hover {\n",
              "      background-color: #434B5C;\n",
              "      box-shadow: 0px 1px 3px 1px rgba(0, 0, 0, 0.15);\n",
              "      filter: drop-shadow(0px 1px 2px rgba(0, 0, 0, 0.3));\n",
              "      fill: #FFFFFF;\n",
              "    }\n",
              "  </style>\n",
              "\n",
              "      <script>\n",
              "        const buttonEl =\n",
              "          document.querySelector('#df-4bc93ec7-614f-43c8-baa8-13ea7e2c66ad button.colab-df-convert');\n",
              "        buttonEl.style.display =\n",
              "          google.colab.kernel.accessAllowed ? 'block' : 'none';\n",
              "\n",
              "        async function convertToInteractive(key) {\n",
              "          const element = document.querySelector('#df-4bc93ec7-614f-43c8-baa8-13ea7e2c66ad');\n",
              "          const dataTable =\n",
              "            await google.colab.kernel.invokeFunction('convertToInteractive',\n",
              "                                                     [key], {});\n",
              "          if (!dataTable) return;\n",
              "\n",
              "          const docLinkHtml = 'Like what you see? Visit the ' +\n",
              "            '<a target=\"_blank\" href=https://colab.research.google.com/notebooks/data_table.ipynb>data table notebook</a>'\n",
              "            + ' to learn more about interactive tables.';\n",
              "          element.innerHTML = '';\n",
              "          dataTable['output_type'] = 'display_data';\n",
              "          await google.colab.output.renderOutput(dataTable, element);\n",
              "          const docLink = document.createElement('div');\n",
              "          docLink.innerHTML = docLinkHtml;\n",
              "          element.appendChild(docLink);\n",
              "        }\n",
              "      </script>\n",
              "    </div>\n",
              "  </div>\n",
              "  "
            ],
            "text/plain": [
              "    index  precision    recall  f1-score  support\n",
              "0    0.05   0.982288  0.978750  0.979050   4000.0\n",
              "1    0.10   0.968786  0.963250  0.962752   8000.0\n",
              "2    0.15   0.950731  0.943005  0.942530  12001.0\n",
              "3    0.20   0.975043  0.970187  0.970536  16000.0\n",
              "4    0.25   0.961084  0.955500  0.955650  20000.0\n",
              "5    0.30   0.947727  0.941542  0.942272  24000.0\n",
              "6    0.35   0.878978  0.869755  0.869231  28001.0\n",
              "7    0.40   0.914549  0.908250  0.907797  32000.0\n",
              "8    0.45   0.910443  0.899278  0.900195  36000.0\n",
              "9    0.50   0.781085  0.762825  0.763284  40000.0\n",
              "10   0.55   0.582235  0.559273  0.558432  44000.0\n",
              "11   0.60   0.373801  0.346639  0.336372  48001.0\n",
              "12   0.65   0.202516  0.199054  0.173840  52001.0\n",
              "13   0.70   0.119078  0.114444  0.092299  56001.0\n",
              "14   0.75   0.056329  0.079665  0.043191  60001.0\n",
              "15   0.80   0.048806  0.066484  0.038417  64000.0\n",
              "16   0.85   0.036002  0.049265  0.030360  68000.0\n",
              "17   0.90   0.016934  0.031958  0.014804  72001.0\n",
              "18   0.95   0.002575  0.008645  0.002889  76000.0"
            ]
          },
          "execution_count": 15,
          "metadata": {},
          "output_type": "execute_result"
        }
      ],
      "source": [
        "test_report_per_test_set_ratio_df = pd.DataFrame.from_dict(test_report_per_test_set_ratio).transpose().reset_index()\n",
        "\n",
        "test_report_per_test_set_ratio_df"
      ]
    },
    {
      "cell_type": "code",
      "execution_count": null,
      "metadata": {
        "colab": {
          "base_uri": "https://localhost:8080/",
          "height": 395
        },
        "id": "5VPLfhl7mci9",
        "outputId": "19f0cf28-0fee-4a7c-bf6f-65485485eb81"
      },
      "outputs": [
        {
          "data": {
            "image/png": "[encoded data removed]",
            "text/plain": [
              "<Figure size 720x432 with 1 Axes>"
            ]
          },
          "metadata": {
            "needs_background": "light"
          },
          "output_type": "display_data"
        }
      ],
      "source": [
        "test_ratios = list(test_report_per_test_set_ratio.keys())\n",
        "test_f1_scores = list(report['f1-score'] for report in test_report_per_test_set_ratio.values())\n",
        "train_f1_scores = list(report['f1-score'] for report in train_report_per_test_set_ratio.values())\n",
        "\n",
        "fig = plt.figure(figsize=(10, 6))\n",
        "\n",
        "plt.plot(test_report_per_test_set_ratio_df[\"index\"], test_report_per_test_set_ratio_df[\"f1-score\"], label='test set')\n",
        "plt.plot(train_report_per_test_set_ratio_df[\"index\"], train_report_per_test_set_ratio_df[\"f1-score\"], label='train set')\n",
        "\n",
        "plt.xlabel('Test train ratio', fontsize=18)\n",
        "plt.ylabel('F1 Score', fontsize=16)\n",
        "plt.legend()\n",
        "\n",
        "fig.savefig('text2text_splits.jpg')\n",
        "\n",
        "plt.show()\n"
      ]
    },
    {
      "cell_type": "markdown",
      "metadata": {
        "id": "Yb_ENRFhoOFy"
      },
      "source": [
        "#### 2. Finding more optimal architectures"
      ]
    },
    {
      "cell_type": "markdown",
      "metadata": {
        "id": "ETr-LG1xqzsf"
      },
      "source": [
        "##### Changing parameters of given text2text model"
      ]
    },
    {
      "cell_type": "code",
      "execution_count": null,
      "metadata": {
        "id": "IJsA-cCrx8pj"
      },
      "outputs": [],
      "source": [
        "def custom_lstm_model_2_layers(lstm_neurons_1, lstm_neurons_2, dropout=0):\n",
        "  text2text = tf.keras.Sequential()\n",
        "\n",
        "  text2text.add(LSTM(lstm_neurons_1, input_shape=(max_query_length, len(unique_characters)), dropout=dropout))\n",
        "  text2text.add(RepeatVector(max_answer_length))\n",
        "  text2text.add(LSTM(lstm_neurons_2, return_sequences=True))\n",
        "  text2text.add(TimeDistributed(Dense(len(unique_characters), activation='softmax')))\n",
        "\n",
        "  text2text.compile(loss='categorical_crossentropy', optimizer='adam', metrics=['accuracy'])\n",
        "  text2text.summary()\n",
        "  return text2text\n",
        "\n",
        "def custom_lstm_model_3_layers(lstm_neurons_1, lstm_neurons_2, lstm_neurons_3, dropout=0):\n",
        "  text2text = tf.keras.Sequential()\n",
        "\n",
        "  text2text.add(LSTM(lstm_neurons_1, input_shape=(max_query_length, len(unique_characters)), dropout=dropout))\n",
        "  text2text.add(RepeatVector(max_answer_length))\n",
        "\n",
        "  text2text.add(LSTM(lstm_neurons_2, dropout=dropout))\n",
        "  text2text.add(RepeatVector(max_answer_length))\n",
        "\n",
        "  text2text.add(LSTM(lstm_neurons_3, return_sequences=True))\n",
        "  text2text.add(TimeDistributed(Dense(len(unique_characters), activation='softmax')))\n",
        "\n",
        "  text2text.compile(loss='categorical_crossentropy', optimizer='adam', metrics=['accuracy'])\n",
        "  text2text.summary()\n",
        "  return text2text\n",
        "\n",
        "\n",
        "def custom_gru_model_2_layers(gru_neurons_1, gru_neurons_2, dropout=0):\n",
        "  text2text = tf.keras.Sequential()\n",
        "\n",
        "  text2text.add(GRU(gru_neurons_1, input_shape=(max_query_length, len(unique_characters)), dropout=dropout))\n",
        "  text2text.add(RepeatVector(max_answer_length))\n",
        "  text2text.add(GRU(gru_neurons_2, return_sequences=True))\n",
        "  text2text.add(TimeDistributed(Dense(len(unique_characters), activation='softmax')))\n",
        "\n",
        "  text2text.compile(loss='categorical_crossentropy', optimizer='adam', metrics=['accuracy'])\n",
        "  text2text.summary()\n",
        "  return text2text\n",
        "\n",
        "\n",
        "def custom_rnn_model_2_layers(rnn_neurons_1, rnn_neurons_2, dropout=0):\n",
        "  text2text = tf.keras.Sequential()\n",
        "\n",
        "  text2text.add(SimpleRNN(rnn_neurons_1, input_shape=(max_query_length, len(unique_characters)), dropout=dropout))\n",
        "  text2text.add(RepeatVector(max_answer_length))\n",
        "  text2text.add(SimpleRNN(rnn_neurons_2, return_sequences=True))\n",
        "  text2text.add(TimeDistributed(Dense(len(unique_characters), activation='softmax')))\n",
        "\n",
        "  text2text.compile(loss='categorical_crossentropy', optimizer='adam', metrics=['accuracy'])\n",
        "  text2text.summary()\n",
        "  return text2text\n",
        "\n",
        "  "
      ]
    },
    {
      "cell_type": "code",
      "execution_count": null,
      "metadata": {
        "colab": {
          "base_uri": "https://localhost:8080/"
        },
        "id": "PsAVJSPEsiJL",
        "outputId": "1866a181-9a6b-42e6-f553-91da5122dcff"
      },
      "outputs": [
        {
          "name": "stdout",
          "output_type": "stream",
          "text": [
            "Model: \"sequential\"\n",
            "_________________________________________________________________\n",
            " Layer (type)                Output Shape              Param #   \n",
            "=================================================================\n",
            " lstm (LSTM)                 (None, 256)               276480    \n",
            "                                                                 \n",
            " repeat_vector (RepeatVector  (None, 4, 256)           0         \n",
            " )                                                               \n",
            "                                                                 \n",
            " lstm_1 (LSTM)               (None, 4, 128)            197120    \n",
            "                                                                 \n",
            " time_distributed (TimeDistr  (None, 4, 13)            1677      \n",
            " ibuted)                                                         \n",
            "                                                                 \n",
            "=================================================================\n",
            "Total params: 475,277\n",
            "Trainable params: 475,277\n",
            "Non-trainable params: 0\n",
            "_________________________________________________________________\n",
            "Model: \"sequential_1\"\n",
            "_________________________________________________________________\n",
            " Layer (type)                Output Shape              Param #   \n",
            "=================================================================\n",
            " lstm_2 (LSTM)               (None, 512)               1077248   \n",
            "                                                                 \n",
            " repeat_vector_1 (RepeatVect  (None, 4, 512)           0         \n",
            " or)                                                             \n",
            "                                                                 \n",
            " lstm_3 (LSTM)               (None, 4, 256)            787456    \n",
            "                                                                 \n",
            " time_distributed_1 (TimeDis  (None, 4, 13)            3341      \n",
            " tributed)                                                       \n",
            "                                                                 \n",
            "=================================================================\n",
            "Total params: 1,868,045\n",
            "Trainable params: 1,868,045\n",
            "Non-trainable params: 0\n",
            "_________________________________________________________________\n",
            "Model: \"sequential_2\"\n",
            "_________________________________________________________________\n",
            " Layer (type)                Output Shape              Param #   \n",
            "=================================================================\n",
            " gru (GRU)                   (None, 256)               208128    \n",
            "                                                                 \n",
            " repeat_vector_2 (RepeatVect  (None, 4, 256)           0         \n",
            " or)                                                             \n",
            "                                                                 \n",
            " gru_1 (GRU)                 (None, 4, 128)            148224    \n",
            "                                                                 \n",
            " time_distributed_2 (TimeDis  (None, 4, 13)            1677      \n",
            " tributed)                                                       \n",
            "                                                                 \n",
            "=================================================================\n",
            "Total params: 358,029\n",
            "Trainable params: 358,029\n",
            "Non-trainable params: 0\n",
            "_________________________________________________________________\n",
            "Model: \"sequential_3\"\n",
            "_________________________________________________________________\n",
            " Layer (type)                Output Shape              Param #   \n",
            "=================================================================\n",
            " gru_2 (GRU)                 (None, 512)               809472    \n",
            "                                                                 \n",
            " repeat_vector_3 (RepeatVect  (None, 4, 512)           0         \n",
            " or)                                                             \n",
            "                                                                 \n",
            " gru_3 (GRU)                 (None, 4, 256)            591360    \n",
            "                                                                 \n",
            " time_distributed_3 (TimeDis  (None, 4, 13)            3341      \n",
            " tributed)                                                       \n",
            "                                                                 \n",
            "=================================================================\n",
            "Total params: 1,404,173\n",
            "Trainable params: 1,404,173\n",
            "Non-trainable params: 0\n",
            "_________________________________________________________________\n",
            "Model: \"sequential_4\"\n",
            "_________________________________________________________________\n",
            " Layer (type)                Output Shape              Param #   \n",
            "=================================================================\n",
            " simple_rnn (SimpleRNN)      (None, 256)               69120     \n",
            "                                                                 \n",
            " repeat_vector_4 (RepeatVect  (None, 4, 256)           0         \n",
            " or)                                                             \n",
            "                                                                 \n",
            " simple_rnn_1 (SimpleRNN)    (None, 4, 128)            49280     \n",
            "                                                                 \n",
            " time_distributed_4 (TimeDis  (None, 4, 13)            1677      \n",
            " tributed)                                                       \n",
            "                                                                 \n",
            "=================================================================\n",
            "Total params: 120,077\n",
            "Trainable params: 120,077\n",
            "Non-trainable params: 0\n",
            "_________________________________________________________________\n",
            "Model: \"sequential_5\"\n",
            "_________________________________________________________________\n",
            " Layer (type)                Output Shape              Param #   \n",
            "=================================================================\n",
            " simple_rnn_2 (SimpleRNN)    (None, 512)               269312    \n",
            "                                                                 \n",
            " repeat_vector_5 (RepeatVect  (None, 4, 512)           0         \n",
            " or)                                                             \n",
            "                                                                 \n",
            " simple_rnn_3 (SimpleRNN)    (None, 4, 256)            196864    \n",
            "                                                                 \n",
            " time_distributed_5 (TimeDis  (None, 4, 13)            3341      \n",
            " tributed)                                                       \n",
            "                                                                 \n",
            "=================================================================\n",
            "Total params: 469,517\n",
            "Trainable params: 469,517\n",
            "Non-trainable params: 0\n",
            "_________________________________________________________________\n"
          ]
        }
      ],
      "source": [
        "OPTIMIZED_MODELS = {\n",
        "    'baseline(lstm-256-128)': text2text_model(),\n",
        "    'lstm-512-256': custom_lstm_model_2_layers(512, 256),\n",
        "    'gru-256-128': custom_gru_model_2_layers(256, 128),\n",
        "    'gru-512-256': custom_gru_model_2_layers(512, 256),\n",
        "    'rnn-256-128': custom_rnn_model_2_layers(256, 128),\n",
        "    'rnn-512-256': custom_rnn_model_2_layers(512, 256),\n",
        "}"
      ]
    },
    {
      "cell_type": "code",
      "execution_count": null,
      "metadata": {
        "colab": {
          "base_uri": "https://localhost:8080/"
        },
        "id": "LKcxtthwrAuR",
        "outputId": "337e294d-8aeb-4657-976a-31e5416ac3b1"
      },
      "outputs": [
        {
          "name": "stdout",
          "output_type": "stream",
          "text": [
            "Training model baseline(lstm-256-128)\n",
            "500/500 [==============================] - 9s 5ms/step - loss: 1.4280 - accuracy: 0.4499\n",
            "500/500 [==============================] - 3s 5ms/step - loss: 1.1472 - accuracy: 0.5536\n",
            "500/500 [==============================] - 3s 5ms/step - loss: 1.0058 - accuracy: 0.6205\n",
            "500/500 [==============================] - 3s 5ms/step - loss: 0.8898 - accuracy: 0.6671\n",
            "500/500 [==============================] - 3s 5ms/step - loss: 0.8294 - accuracy: 0.6883\n",
            "500/500 [==============================] - 3s 5ms/step - loss: 0.7897 - accuracy: 0.7021\n",
            "500/500 [==============================] - 3s 5ms/step - loss: 0.7615 - accuracy: 0.7117\n",
            "500/500 [==============================] - 3s 5ms/step - loss: 0.7418 - accuracy: 0.7176\n",
            "500/500 [==============================] - 3s 5ms/step - loss: 0.7175 - accuracy: 0.7279\n",
            "500/500 [==============================] - 3s 5ms/step - loss: 0.6915 - accuracy: 0.7385\n",
            "500/500 [==============================] - 3s 5ms/step - loss: 0.6387 - accuracy: 0.7568\n",
            "500/500 [==============================] - 3s 5ms/step - loss: 0.5349 - accuracy: 0.7982\n",
            "500/500 [==============================] - 3s 5ms/step - loss: 0.3848 - accuracy: 0.8717\n",
            "500/500 [==============================] - 3s 5ms/step - loss: 0.2663 - accuracy: 0.9321\n",
            "500/500 [==============================] - 3s 5ms/step - loss: 0.1767 - accuracy: 0.9672\n",
            "500/500 [==============================] - 3s 5ms/step - loss: 0.1297 - accuracy: 0.9752\n",
            "500/500 [==============================] - 3s 5ms/step - loss: 0.0900 - accuracy: 0.9825\n",
            "500/500 [==============================] - 3s 5ms/step - loss: 0.0590 - accuracy: 0.9891\n",
            "500/500 [==============================] - 3s 5ms/step - loss: 0.0550 - accuracy: 0.9873\n",
            "500/500 [==============================] - 3s 5ms/step - loss: 0.0420 - accuracy: 0.9903\n",
            "Results from baseline(lstm-256-128) in train set: \n",
            "{'precision': 0.9644919134056876, 'recall': 0.962609375, 'f1-score': 0.9628317712393456, 'support': 64000}\n",
            "Results from baseline(lstm-256-128) in test set: \n",
            "{'precision': 0.9654325032873454, 'recall': 0.9635625, 'f1-score': 0.9633977634910674, 'support': 16000}\n",
            "Training model lstm-512-256\n",
            "500/500 [==============================] - 6s 6ms/step - loss: 1.3923 - accuracy: 0.4609\n",
            "500/500 [==============================] - 3s 6ms/step - loss: 1.0387 - accuracy: 0.5992\n",
            "500/500 [==============================] - 3s 6ms/step - loss: 0.8519 - accuracy: 0.6677\n",
            "500/500 [==============================] - 3s 6ms/step - loss: 0.7858 - accuracy: 0.6944\n",
            "500/500 [==============================] - 3s 6ms/step - loss: 0.7473 - accuracy: 0.7096\n",
            "500/500 [==============================] - 3s 6ms/step - loss: 0.7260 - accuracy: 0.7172\n",
            "500/500 [==============================] - 3s 6ms/step - loss: 0.6998 - accuracy: 0.7293\n",
            "500/500 [==============================] - 3s 6ms/step - loss: 0.6607 - accuracy: 0.7443\n",
            "500/500 [==============================] - 3s 6ms/step - loss: 0.5780 - accuracy: 0.7749\n",
            "500/500 [==============================] - 3s 6ms/step - loss: 0.3633 - accuracy: 0.8707\n",
            "500/500 [==============================] - 3s 6ms/step - loss: 0.1310 - accuracy: 0.9697\n",
            "500/500 [==============================] - 3s 6ms/step - loss: 0.0695 - accuracy: 0.9817\n",
            "500/500 [==============================] - 3s 6ms/step - loss: 0.0456 - accuracy: 0.9878\n",
            "500/500 [==============================] - 3s 6ms/step - loss: 0.0488 - accuracy: 0.9851\n",
            "500/500 [==============================] - 3s 6ms/step - loss: 0.0290 - accuracy: 0.9924\n",
            "500/500 [==============================] - 3s 6ms/step - loss: 0.0367 - accuracy: 0.9890\n",
            "500/500 [==============================] - 3s 6ms/step - loss: 0.0251 - accuracy: 0.9925\n",
            "500/500 [==============================] - 3s 6ms/step - loss: 0.0315 - accuracy: 0.9898\n",
            "500/500 [==============================] - 3s 6ms/step - loss: 0.0041 - accuracy: 0.9998\n",
            "500/500 [==============================] - 3s 6ms/step - loss: 0.0298 - accuracy: 0.9914\n",
            "Results from lstm-512-256 in train set: \n",
            "{'precision': 0.9996391165899238, 'recall': 0.99965625, 'f1-score': 0.9996396320107612, 'support': 64000}\n",
            "Results from lstm-512-256 in test set: \n",
            "{'precision': 0.9994741567460317, 'recall': 0.9994375, 'f1-score': 0.9994311126974312, 'support': 16000}\n",
            "Training model gru-256-128\n",
            "500/500 [==============================] - 5s 5ms/step - loss: 1.3731 - accuracy: 0.4757\n",
            "500/500 [==============================] - 2s 5ms/step - loss: 1.0499 - accuracy: 0.5992\n",
            "500/500 [==============================] - 2s 5ms/step - loss: 0.8780 - accuracy: 0.6676\n",
            "500/500 [==============================] - 2s 5ms/step - loss: 0.8023 - accuracy: 0.6963\n",
            "500/500 [==============================] - 2s 5ms/step - loss: 0.7696 - accuracy: 0.7047\n",
            "500/500 [==============================] - 2s 5ms/step - loss: 0.7459 - accuracy: 0.7127\n",
            "500/500 [==============================] - 2s 5ms/step - loss: 0.7235 - accuracy: 0.7211\n",
            "500/500 [==============================] - 3s 5ms/step - loss: 0.7152 - accuracy: 0.7231\n",
            "500/500 [==============================] - 2s 5ms/step - loss: 0.6873 - accuracy: 0.7366\n",
            "500/500 [==============================] - 2s 5ms/step - loss: 0.6450 - accuracy: 0.7555\n",
            "500/500 [==============================] - 2s 5ms/step - loss: 0.5928 - accuracy: 0.7797\n",
            "500/500 [==============================] - 2s 5ms/step - loss: 0.4647 - accuracy: 0.8347\n",
            "500/500 [==============================] - 2s 5ms/step - loss: 0.2943 - accuracy: 0.9143\n",
            "500/500 [==============================] - 2s 5ms/step - loss: 0.1882 - accuracy: 0.9600\n",
            "500/500 [==============================] - 2s 5ms/step - loss: 0.1311 - accuracy: 0.9747\n",
            "500/500 [==============================] - 2s 5ms/step - loss: 0.0882 - accuracy: 0.9847\n",
            "500/500 [==============================] - 2s 5ms/step - loss: 0.0765 - accuracy: 0.9843\n",
            "500/500 [==============================] - 2s 5ms/step - loss: 0.0549 - accuracy: 0.9880\n",
            "500/500 [==============================] - 2s 5ms/step - loss: 0.0302 - accuracy: 0.9958\n",
            "500/500 [==============================] - 2s 5ms/step - loss: 0.0535 - accuracy: 0.9852\n",
            "Results from gru-256-128 in train set: \n",
            "{'precision': 0.9579417023949099, 'recall': 0.9541875, 'f1-score': 0.9540334641744901, 'support': 64000}\n",
            "Results from gru-256-128 in test set: \n",
            "{'precision': 0.9541718399754768, 'recall': 0.94925, 'f1-score': 0.9488673868814572, 'support': 16000}\n",
            "Training model gru-512-256\n",
            "500/500 [==============================] - 5s 5ms/step - loss: 1.3024 - accuracy: 0.5002\n",
            "500/500 [==============================] - 3s 5ms/step - loss: 0.9484 - accuracy: 0.6369\n",
            "500/500 [==============================] - 3s 5ms/step - loss: 0.8183 - accuracy: 0.6841\n",
            "500/500 [==============================] - 3s 5ms/step - loss: 0.7686 - accuracy: 0.7022\n",
            "500/500 [==============================] - 3s 5ms/step - loss: 0.7379 - accuracy: 0.7146\n",
            "500/500 [==============================] - 3s 5ms/step - loss: 0.6825 - accuracy: 0.7377\n",
            "500/500 [==============================] - 3s 5ms/step - loss: 0.3738 - accuracy: 0.8827\n",
            "500/500 [==============================] - 3s 5ms/step - loss: 0.1598 - accuracy: 0.9650\n",
            "500/500 [==============================] - 3s 5ms/step - loss: 0.0887 - accuracy: 0.9797\n",
            "500/500 [==============================] - 3s 5ms/step - loss: 0.0754 - accuracy: 0.9801\n",
            "500/500 [==============================] - 3s 5ms/step - loss: 0.0686 - accuracy: 0.9794\n",
            "500/500 [==============================] - 3s 5ms/step - loss: 0.0191 - accuracy: 0.9973\n",
            "500/500 [==============================] - 3s 5ms/step - loss: 0.0706 - accuracy: 0.9774\n",
            "500/500 [==============================] - 3s 5ms/step - loss: 0.0107 - accuracy: 0.9989\n",
            "500/500 [==============================] - 3s 5ms/step - loss: 0.0483 - accuracy: 0.9856\n",
            "500/500 [==============================] - 3s 5ms/step - loss: 0.0405 - accuracy: 0.9878\n",
            "500/500 [==============================] - 3s 5ms/step - loss: 0.0042 - accuracy: 0.9999\n",
            "500/500 [==============================] - 3s 5ms/step - loss: 0.0569 - accuracy: 0.9817\n",
            "500/500 [==============================] - 3s 5ms/step - loss: 0.0039 - accuracy: 1.0000\n",
            "500/500 [==============================] - 3s 5ms/step - loss: 0.0023 - accuracy: 1.0000\n",
            "Results from gru-512-256 in train set: \n",
            "{'precision': 1.0, 'recall': 1.0, 'f1-score': 1.0, 'support': 64000}\n",
            "Results from gru-512-256 in test set: \n",
            "{'precision': 1.0, 'recall': 1.0, 'f1-score': 1.0, 'support': 16000}\n",
            "Training model rnn-256-128\n",
            "500/500 [==============================] - 6s 10ms/step - loss: 1.2545 - accuracy: 0.5225\n",
            "500/500 [==============================] - 5s 10ms/step - loss: 1.0270 - accuracy: 0.6112\n",
            "500/500 [==============================] - 5s 9ms/step - loss: 0.8930 - accuracy: 0.6599\n",
            "500/500 [==============================] - 5s 9ms/step - loss: 0.8162 - accuracy: 0.6911\n",
            "500/500 [==============================] - 5s 9ms/step - loss: 0.6806 - accuracy: 0.7482\n",
            "500/500 [==============================] - 5s 9ms/step - loss: 0.4672 - accuracy: 0.8365\n",
            "500/500 [==============================] - 5s 9ms/step - loss: 0.3237 - accuracy: 0.9021\n",
            "500/500 [==============================] - 5s 9ms/step - loss: 0.2350 - accuracy: 0.9337\n",
            "500/500 [==============================] - 5s 9ms/step - loss: 0.1764 - accuracy: 0.9509\n",
            "500/500 [==============================] - 5s 9ms/step - loss: 0.1432 - accuracy: 0.9583\n",
            "500/500 [==============================] - 5s 9ms/step - loss: 0.1283 - accuracy: 0.9595\n",
            "500/500 [==============================] - 5s 9ms/step - loss: 0.0984 - accuracy: 0.9701\n",
            "500/500 [==============================] - 5s 9ms/step - loss: 0.0842 - accuracy: 0.9738\n",
            "500/500 [==============================] - 5s 9ms/step - loss: 0.0815 - accuracy: 0.9734\n",
            "500/500 [==============================] - 5s 9ms/step - loss: 0.0731 - accuracy: 0.9762\n",
            "500/500 [==============================] - 5s 9ms/step - loss: 0.0684 - accuracy: 0.9771\n",
            "500/500 [==============================] - 5s 9ms/step - loss: 0.0565 - accuracy: 0.9815\n",
            "500/500 [==============================] - 5s 9ms/step - loss: 0.0663 - accuracy: 0.9770\n",
            "500/500 [==============================] - 5s 9ms/step - loss: 0.0471 - accuracy: 0.9849\n",
            "500/500 [==============================] - 5s 9ms/step - loss: 0.0635 - accuracy: 0.9786\n",
            "Results from rnn-256-128 in train set: \n",
            "{'precision': 0.9851401207376282, 'recall': 0.98415625, 'f1-score': 0.9842314258646261, 'support': 64000}\n",
            "Results from rnn-256-128 in test set: \n",
            "{'precision': 0.9809442815145574, 'recall': 0.979, 'f1-score': 0.9791061067564165, 'support': 16000}\n",
            "Training model rnn-512-256\n",
            "500/500 [==============================] - 6s 9ms/step - loss: 1.2237 - accuracy: 0.5297\n",
            "500/500 [==============================] - 5s 9ms/step - loss: 0.9680 - accuracy: 0.6245\n",
            "500/500 [==============================] - 5s 9ms/step - loss: 0.8216 - accuracy: 0.6818\n",
            "500/500 [==============================] - 5s 9ms/step - loss: 0.6651 - accuracy: 0.7454\n",
            "500/500 [==============================] - 5s 9ms/step - loss: 0.3896 - accuracy: 0.8621\n",
            "500/500 [==============================] - 5s 9ms/step - loss: 0.2140 - accuracy: 0.9316\n",
            "500/500 [==============================] - 5s 10ms/step - loss: 0.1436 - accuracy: 0.9532\n",
            "500/500 [==============================] - 5s 10ms/step - loss: 0.0894 - accuracy: 0.9720\n",
            "500/500 [==============================] - 5s 10ms/step - loss: 0.0758 - accuracy: 0.9753\n",
            "500/500 [==============================] - 5s 10ms/step - loss: 0.0684 - accuracy: 0.9766\n",
            "500/500 [==============================] - 5s 10ms/step - loss: 0.0494 - accuracy: 0.9842\n",
            "500/500 [==============================] - 5s 10ms/step - loss: 0.0555 - accuracy: 0.9811\n",
            "500/500 [==============================] - 5s 9ms/step - loss: 0.0283 - accuracy: 0.9918\n",
            "500/500 [==============================] - 5s 10ms/step - loss: 0.0600 - accuracy: 0.9793\n",
            "500/500 [==============================] - 5s 10ms/step - loss: 0.0227 - accuracy: 0.9932\n",
            "500/500 [==============================] - 5s 10ms/step - loss: 0.0397 - accuracy: 0.9867\n",
            "500/500 [==============================] - 5s 9ms/step - loss: 0.0390 - accuracy: 0.9871\n",
            "500/500 [==============================] - 5s 9ms/step - loss: 0.0206 - accuracy: 0.9936\n",
            "500/500 [==============================] - 5s 9ms/step - loss: 0.0353 - accuracy: 0.9882\n",
            "500/500 [==============================] - 5s 10ms/step - loss: 0.0019 - accuracy: 0.9999\n",
            "Results from rnn-512-256 in train set: \n",
            "{'precision': 0.9999533316510258, 'recall': 0.999953125, 'f1-score': 0.9999531027762489, 'support': 64000}\n",
            "Results from rnn-512-256 in test set: \n",
            "{'precision': 1.0, 'recall': 1.0, 'f1-score': 1.0, 'support': 16000}\n"
          ]
        }
      ],
      "source": [
        "EPOCHS = 20\n",
        "TEST_SET_RATIO = 0.2\n",
        "\n",
        "np.random.seed(42)\n",
        "tf.random.set_seed(42)\n",
        "\n",
        "X_text_train, X_text_test, y_text_train, y_text_test = train_test_split(\n",
        "      X_text_onehot, y_text_onehot, test_size=TEST_SET_RATIO, random_state=41\n",
        "    )\n",
        "\n",
        "test_reports = {}\n",
        "train_reports = {}\n",
        "\n",
        "for model_name in OPTIMIZED_MODELS:\n",
        "\n",
        "  print(f'Training model {model_name}')\n",
        "\n",
        "  model = OPTIMIZED_MODELS[model_name]\n",
        "  model_train_report = {}\n",
        "  model_test_report = {}\n",
        "\n",
        "  for epoch in range(1, EPOCHS+1):\n",
        "    model.fit(\n",
        "      X_text_train,\n",
        "      y_text_train,\n",
        "      epochs=1,\n",
        "      batch_size=128,\n",
        "    )\n",
        "\n",
        "    y_pred_decoded = [decode_labels(item) for item in model.predict(X_text_test)]\n",
        "    y_test_decoded = [decode_labels(item) for item in y_text_test]\n",
        "\n",
        "    y_train_pred_decoded = [decode_labels(item) for item in model.predict(X_text_train)]\n",
        "    y_train_decoded = [decode_labels(item) for item in y_text_train]\n",
        "\n",
        "    model_test_report[epoch] = classification_report(\n",
        "      y_test_decoded, y_pred_decoded, output_dict=True, zero_division=0\n",
        "      )[\"weighted avg\"]\n",
        "    model_train_report[epoch] = classification_report(\n",
        "      y_train_decoded, y_train_pred_decoded, output_dict=True, zero_division=0\n",
        "      )[\"weighted avg\"]\n",
        "\n",
        "  print(f'Results from {model_name} in train set: ')\n",
        "  print(model_train_report[20])\n",
        "    \n",
        "  print(f'Results from {model_name} in test set: ')\n",
        "  print(model_test_report[20])\n",
        "\n",
        "  test_reports[model_name] = model_test_report\n",
        "  train_reports[model_name] = model_train_report\n",
        "\n"
      ]
    },
    {
      "cell_type": "code",
      "execution_count": null,
      "metadata": {
        "colab": {
          "base_uri": "https://localhost:8080/"
        },
        "id": "E91IW1fGhsig",
        "outputId": "5b75d66c-a805-4f86-a7f8-6845cf6d257c"
      },
      "outputs": [
        {
          "name": "stdout",
          "output_type": "stream",
          "text": [
            "{1: {'precision': 0.003786591968374652, 'recall': 0.0269375, 'f1-score': 0.004920251547229065, 'support': 16000}, 2: {'precision': 0.014874555419453253, 'recall': 0.04575, 'f1-score': 0.015403630416601078, 'support': 16000}, 3: {'precision': 0.01940530807133924, 'recall': 0.0493125, 'f1-score': 0.02003300717502132, 'support': 16000}, 4: {'precision': 0.030790514972762858, 'recall': 0.064125, 'f1-score': 0.029083490943778476, 'support': 16000}, 5: {'precision': 0.05336825846924011, 'recall': 0.0834375, 'f1-score': 0.043818833946517005, 'support': 16000}, 6: {'precision': 0.22772705340286953, 'recall': 0.2314375, 'f1-score': 0.19046127609239388, 'support': 16000}, 7: {'precision': 0.867520899195597, 'recall': 0.8525625, 'f1-score': 0.8485736419301299, 'support': 16000}, 8: {'precision': 0.8985861196540904, 'recall': 0.890375, 'f1-score': 0.8877683634029766, 'support': 16000}, 9: {'precision': 0.874460416060871, 'recall': 0.8566875, 'f1-score': 0.8546939432799907, 'support': 16000}, 10: {'precision': 0.9971568055693976, 'recall': 0.9969375, 'f1-score': 0.9967554469742643, 'support': 16000}, 11: {'precision': 0.9077244920837918, 'recall': 0.8943125, 'f1-score': 0.8922905409293428, 'support': 16000}, 12: {'precision': 0.9991717757936508, 'recall': 0.9991875, 'f1-score': 0.9990963828696272, 'support': 16000}, 13: {'precision': 0.9797669326591495, 'recall': 0.976875, 'f1-score': 0.9766216924952377, 'support': 16000}, 14: {'precision': 0.99995, 'recall': 0.9999375, 'f1-score': 0.9999388888888888, 'support': 16000}, 15: {'precision': 0.9338473820089641, 'recall': 0.9195625, 'f1-score': 0.9160823868832156, 'support': 16000}, 16: {'precision': 0.9999083333333333, 'recall': 0.999875, 'f1-score': 0.9998722222222223, 'support': 16000}, 17: {'precision': 1.0, 'recall': 1.0, 'f1-score': 1.0, 'support': 16000}, 18: {'precision': 0.997791871427861, 'recall': 0.9974375, 'f1-score': 0.9972775277208124, 'support': 16000}, 19: {'precision': 1.0, 'recall': 1.0, 'f1-score': 1.0, 'support': 16000}, 20: {'precision': 1.0, 'recall': 1.0, 'f1-score': 1.0, 'support': 16000}}\n"
          ]
        }
      ],
      "source": [
        "print(test_reports['gru-512-256'])"
      ]
    },
    {
      "cell_type": "code",
      "execution_count": null,
      "metadata": {
        "colab": {
          "base_uri": "https://localhost:8080/",
          "height": 334
        },
        "id": "Gme7puoqsT5G",
        "outputId": "65ad2833-9276-4dfe-ae4c-59645cc64932"
      },
      "outputs": [
        {
          "data": {
            "image/png": "[encoded data removed]",
            "text/plain": [
              "<Figure size 576x360 with 1 Axes>"
            ]
          },
          "metadata": {
            "needs_background": "light"
          },
          "output_type": "display_data"
        }
      ],
      "source": [
        "fig, ax = plt.subplots(figsize=(8,5))\n",
        "\n",
        "models = list(test_reports.keys())\n",
        "for model_name in OPTIMIZED_MODELS:\n",
        "  epochs = list(test_reports[model_name].keys())\n",
        "  f1_scores_test = list(report['f1-score'] for report in test_reports[model_name].values())\n",
        "  # f1_scores_train = list(report['f1-score'] for report in train_reports[model_name].values())\n",
        "  ax.plot(epochs, f1_scores_test, label=model_name)\n",
        "  # plt.plot(epochs, f1_scores_train, label=model_name+' on train')\n",
        "\n",
        "ax.set_xlabel('Epoch')\n",
        "ax.set_ylabel('F1 score on test set')\n",
        "ax.legend()\n",
        "plt.show()\n",
        "fig.savefig('text2text_optimized.jpg')\n",
        "  "
      ]
    },
    {
      "cell_type": "markdown",
      "metadata": {
        "id": "K9EoPFKylOs-"
      },
      "source": [
        "##### Change padding of input text"
      ]
    },
    {
      "cell_type": "code",
      "execution_count": null,
      "metadata": {
        "colab": {
          "base_uri": "https://localhost:8080/",
          "height": 1000
        },
        "id": "POZ9LXTKlNhl",
        "outputId": "b60abae2-38b8-44a9-bb97-cb651e3751b0"
      },
      "outputs": [
        {
          "name": "stdout",
          "output_type": "stream",
          "text": [
            "(80000,) (80000, 7, 28, 28) (80000,) (80000, 4, 28, 28)\n",
            "================================================== \n",
            "Sample ID: 19337\n",
            "\n",
            "X_text: \"48+68  \" = y_text: \"116 \"\n"
          ]
        },
        {
          "data": {
            "image/png": "[encoded data removed]",
            "text/plain": [
              "<Figure size 432x288 with 2 Axes>"
            ]
          },
          "metadata": {
            "needs_background": "light"
          },
          "output_type": "display_data"
        },
        {
          "name": "stdout",
          "output_type": "stream",
          "text": [
            "================================================== \n",
            "Sample ID: 45989\n",
            "\n",
            "X_text: \"114+194\" = y_text: \"308 \"\n"
          ]
        },
        {
          "data": {
            "image/png": "[encoded data removed]",
            "text/plain": [
              "<Figure size 432x288 with 2 Axes>"
            ]
          },
          "metadata": {
            "needs_background": "light"
          },
          "output_type": "display_data"
        },
        {
          "name": "stdout",
          "output_type": "stream",
          "text": [
            "================================================== \n",
            "Sample ID: 15406\n",
            "\n",
            "X_text: \"38-103 \" = y_text: \"-65 \"\n"
          ]
        },
        {
          "data": {
            "image/png": "[encoded data removed]",
            "text/plain": [
              "<Figure size 432x288 with 2 Axes>"
            ]
          },
          "metadata": {
            "needs_background": "light"
          },
          "output_type": "display_data"
        },
        {
          "name": "stdout",
          "output_type": "stream",
          "text": [
            "================================================== \n",
            "Sample ID: 10266\n",
            "\n",
            "X_text: \"25-133 \" = y_text: \"-108\"\n"
          ]
        },
        {
          "data": {
            "image/png": "[encoded data removed]",
            "text/plain": [
              "<Figure size 432x288 with 2 Axes>"
            ]
          },
          "metadata": {
            "needs_background": "light"
          },
          "output_type": "display_data"
        },
        {
          "name": "stdout",
          "output_type": "stream",
          "text": [
            "================================================== \n",
            "Sample ID: 22258\n",
            "\n",
            "X_text: \"55-129 \" = y_text: \"-74 \"\n"
          ]
        },
        {
          "data": {
            "image/png": "[encoded data removed]",
            "text/plain": [
              "<Figure size 432x288 with 2 Axes>"
            ]
          },
          "metadata": {
            "needs_background": "light"
          },
          "output_type": "display_data"
        },
        {
          "name": "stdout",
          "output_type": "stream",
          "text": [
            "================================================== \n",
            "Sample ID: 24469\n",
            "\n",
            "X_text: \"61+34  \" = y_text: \"95  \"\n"
          ]
        },
        {
          "data": {
            "image/png": "[encoded data removed]",
            "text/plain": [
              "<Figure size 432x288 with 2 Axes>"
            ]
          },
          "metadata": {
            "needs_background": "light"
          },
          "output_type": "display_data"
        },
        {
          "name": "stdout",
          "output_type": "stream",
          "text": [
            "================================================== \n",
            "Sample ID: 55704\n",
            "\n",
            "X_text: \"139-52 \" = y_text: \"87  \"\n"
          ]
        },
        {
          "data": {
            "image/png": "[encoded data removed]",
            "text/plain": [
              "<Figure size 432x288 with 2 Axes>"
            ]
          },
          "metadata": {
            "needs_background": "light"
          },
          "output_type": "display_data"
        },
        {
          "name": "stdout",
          "output_type": "stream",
          "text": [
            "================================================== \n",
            "Sample ID: 59020\n",
            "\n",
            "X_text: \"147-110\" = y_text: \"37  \"\n"
          ]
        },
        {
          "data": {
            "image/png": "[encoded data removed]",
            "text/plain": [
              "<Figure size 432x288 with 2 Axes>"
            ]
          },
          "metadata": {
            "needs_background": "light"
          },
          "output_type": "display_data"
        },
        {
          "name": "stdout",
          "output_type": "stream",
          "text": [
            "================================================== \n",
            "Sample ID: 72836\n",
            "\n",
            "X_text: \"182-18 \" = y_text: \"164 \"\n"
          ]
        },
        {
          "data": {
            "image/png": "[encoded data removed]",
            "text/plain": [
              "<Figure size 432x288 with 2 Axes>"
            ]
          },
          "metadata": {
            "needs_background": "light"
          },
          "output_type": "display_data"
        },
        {
          "name": "stdout",
          "output_type": "stream",
          "text": [
            "================================================== \n",
            "Sample ID: 63826\n",
            "\n",
            "X_text: \"159-113\" = y_text: \"46  \"\n"
          ]
        },
        {
          "data": {
            "image/png": "[encoded data removed]",
            "text/plain": [
              "<Figure size 432x288 with 2 Axes>"
            ]
          },
          "metadata": {
            "needs_background": "light"
          },
          "output_type": "display_data"
        }
      ],
      "source": [
        "# Illustrate the generated query/answer pairs\n",
        "\n",
        "unique_characters = '0123456789+- ' # All unique characters that are used in the queries (13 in total: digits 0-9, 2 operands [+, -], and a space character ' '.)\n",
        "highest_integer = 199 # Highest value of integers contained in the queries\n",
        "max_int_length = len(str(highest_integer)) # \n",
        "max_query_length = max_int_length * 2 + 1 # Maximum length of the query string (consists of two integers and an operand [e.g. '22+10'])\n",
        "max_answer_length = max_int_length + 1    # Maximum length of the answer string\n",
        "\n",
        "# Create the data (might take around a minute)\n",
        "(MNIST_data, MNIST_labels), _ = tf.keras.datasets.mnist.load_data()\n",
        "X_text, X_img, y_text, y_img = create_data(highest_integer, True)\n",
        "print(X_text.shape, X_img.shape, y_text.shape, y_img.shape)\n",
        "\n",
        "\n",
        "## Display the samples that were created\n",
        "def display_sample(n):\n",
        "    labs = ['X_img:', 'y_img:']\n",
        "    for i, data in enumerate([X_img, y_img]):\n",
        "        plt.subplot(1,2,i+1)\n",
        "        plt.axis('off')\n",
        "        plt.title(labs[i])\n",
        "        plt.imshow(np.hstack(data[n]), cmap='gray')\n",
        "    print('='*50, f'\\nSample ID: {n}\\n\\nX_text: \"{X_text[n]}\" = y_text: \"{y_text[n]}\"')\n",
        "    plt.show()\n",
        "\n",
        "for _ in range(10):\n",
        "    display_sample(np.random.randint(0, 80000, 1)[0])"
      ]
    },
    {
      "cell_type": "code",
      "execution_count": null,
      "metadata": {
        "id": "xNIhDOSRlTzK",
        "outputId": "77d868b6-4aec-4613-a16a-ca8fa9eedf25"
      },
      "outputs": [
        {
          "name": "stdout",
          "output_type": "stream",
          "text": [
            "(80000, 7, 13) (80000, 4, 13)\n"
          ]
        }
      ],
      "source": [
        "X_text_onehot = encode_labels(X_text)\n",
        "y_text_onehot = encode_labels(y_text)\n",
        "\n",
        "print(X_text_onehot.shape, y_text_onehot.shape)"
      ]
    },
    {
      "cell_type": "code",
      "execution_count": null,
      "metadata": {
        "id": "ierf8IadlYCi",
        "outputId": "5a44d31c-bb04-4ab5-896c-c1d0f9e76f1c"
      },
      "outputs": [
        {
          "name": "stderr",
          "output_type": "stream",
          "text": [
            "2021-12-16 23:47:16.080695: I tensorflow/core/platform/cpu_feature_guard.cc:151] This TensorFlow binary is optimized with oneAPI Deep Neural Network Library (oneDNN) to use the following CPU instructions in performance-critical operations:  AVX2 FMA\n",
            "To enable them in other operations, rebuild TensorFlow with the appropriate compiler flags.\n"
          ]
        },
        {
          "name": "stdout",
          "output_type": "stream",
          "text": [
            "Model: \"sequential\"\n",
            "_________________________________________________________________\n",
            " Layer (type)                Output Shape              Param #   \n",
            "=================================================================\n",
            " lstm (LSTM)                 (None, 256)               276480    \n",
            "                                                                 \n",
            " repeat_vector (RepeatVector  (None, 4, 256)           0         \n",
            " )                                                               \n",
            "                                                                 \n",
            " lstm_1 (LSTM)               (None, 4, 128)            197120    \n",
            "                                                                 \n",
            " time_distributed (TimeDistr  (None, 4, 13)            1677      \n",
            " ibuted)                                                         \n",
            "                                                                 \n",
            "=================================================================\n",
            "Total params: 475,277\n",
            "Trainable params: 475,277\n",
            "Non-trainable params: 0\n",
            "_________________________________________________________________\n",
            "Epoch 1/20\n",
            "875/875 [==============================] - 16s 15ms/step - loss: 1.4518 - accuracy: 0.4971\n",
            "Epoch 2/20\n",
            "875/875 [==============================] - 13s 15ms/step - loss: 1.1432 - accuracy: 0.5786\n",
            "Epoch 3/20\n",
            "875/875 [==============================] - 13s 15ms/step - loss: 0.9151 - accuracy: 0.6650\n",
            "Epoch 4/20\n",
            "875/875 [==============================] - 13s 15ms/step - loss: 0.8117 - accuracy: 0.7030\n",
            "Epoch 5/20\n",
            "875/875 [==============================] - 13s 15ms/step - loss: 0.7611 - accuracy: 0.7186\n",
            "Epoch 6/20\n",
            "875/875 [==============================] - 12s 14ms/step - loss: 0.7262 - accuracy: 0.7296\n",
            "Epoch 7/20\n",
            "875/875 [==============================] - 14s 16ms/step - loss: 0.6958 - accuracy: 0.7405\n",
            "Epoch 8/20\n",
            "875/875 [==============================] - 23s 27ms/step - loss: 0.6650 - accuracy: 0.7511\n",
            "Epoch 9/20\n",
            "875/875 [==============================] - 13s 15ms/step - loss: 0.5815 - accuracy: 0.7829\n",
            "Epoch 10/20\n",
            "875/875 [==============================] - 13s 15ms/step - loss: 0.4091 - accuracy: 0.8532\n",
            "Epoch 11/20\n",
            "875/875 [==============================] - 13s 15ms/step - loss: 0.2463 - accuracy: 0.9234\n",
            "Epoch 12/20\n",
            "875/875 [==============================] - 13s 15ms/step - loss: 0.1433 - accuracy: 0.9637\n",
            "Epoch 13/20\n",
            "875/875 [==============================] - 14s 16ms/step - loss: 0.0960 - accuracy: 0.9768\n",
            "Epoch 14/20\n",
            "875/875 [==============================] - 15s 17ms/step - loss: 0.0803 - accuracy: 0.9786\n",
            "Epoch 15/20\n",
            "875/875 [==============================] - 15s 17ms/step - loss: 0.0549 - accuracy: 0.9862\n",
            "Epoch 16/20\n",
            "875/875 [==============================] - 14s 16ms/step - loss: 0.0466 - accuracy: 0.9877\n",
            "Epoch 17/20\n",
            "875/875 [==============================] - 14s 16ms/step - loss: 0.0377 - accuracy: 0.9902\n",
            "Epoch 18/20\n",
            "875/875 [==============================] - 13s 15ms/step - loss: 0.0345 - accuracy: 0.9908\n",
            "Epoch 19/20\n",
            "875/875 [==============================] - 13s 15ms/step - loss: 0.0369 - accuracy: 0.9898\n",
            "Epoch 20/20\n",
            "875/875 [==============================] - 14s 16ms/step - loss: 0.0306 - accuracy: 0.9918\n"
          ]
        }
      ],
      "source": [
        "X_train, X_test, y_train, y_test = train_test_split(X_text_onehot, y_text_onehot, test_size=0.3, random_state=42)\n",
        "\n",
        "batch_size = 64\n",
        "epochs = 20\n",
        "\n",
        "text2text = text2text_model()\n",
        "\n",
        "history = text2text.fit(X_train, y_train, batch_size=batch_size, epochs=epochs)"
      ]
    },
    {
      "cell_type": "code",
      "execution_count": null,
      "metadata": {
        "id": "mvycncH0ldH9",
        "outputId": "a61ef39b-cb57-41c8-802d-293957ae5541"
      },
      "outputs": [
        {
          "name": "stdout",
          "output_type": "stream",
          "text": [
            "0.95825\n",
            "{'precision': 0.9614983023258598, 'recall': 0.95825, 'f1-score': 0.9585936799495579, 'support': 24000}\n"
          ]
        }
      ],
      "source": [
        "y_pred_decoded = [decode_labels(item) for item in text2text.predict(X_test)]\n",
        "y_test_decoded = [decode_labels(item) for item in y_test]\n",
        "\n",
        "classification_report_metrics = classification_report(y_test_decoded, y_pred_decoded, output_dict=True, zero_division=0)\n",
        "\n",
        "print(classification_report_metrics[\"accuracy\"])\n",
        "print(classification_report_metrics[\"weighted avg\"])"
      ]
    },
    {
      "cell_type": "markdown",
      "metadata": {
        "id": "MTUqbQrbaKfB"
      },
      "source": [
        "\n",
        "---\n",
        "---\n",
        "\n",
        "# 2. Image to text RNN Model\n",
        "\n",
        "Hint: There are two ways of building the encoder for such a model - again by using the regular LSTM cells or recurrect convolutional layers [ConvLSTM2D](https://keras.io/api/layers/recurrent_layers/conv_lstm2d/).\n",
        "\n",
        "The goal here is to use X_img as inputs and y_text as outputs."
      ]
    },
    {
      "cell_type": "code",
      "execution_count": null,
      "metadata": {
        "id": "Xsom5RonWWl9"
      },
      "outputs": [],
      "source": [
        "IMAGE_PIXELS = 28\n",
        "INPUT_SHAPE=(max_query_length, IMAGE_PIXELS, IMAGE_PIXELS, 1)\n",
        "IMAGE_SHAPE = (IMAGE_PIXELS, IMAGE_PIXELS, 1)\n",
        "X_img_train, X_img_test, y_text_train, y_text_test = train_test_split(\n",
        "    X_img, y_text_onehot, test_size=0.2, random_state=42\n",
        "  )\n"
      ]
    },
    {
      "cell_type": "code",
      "execution_count": null,
      "metadata": {
        "id": "EmYMCB5CZlay"
      },
      "outputs": [],
      "source": [
        "X_img_train.shape"
      ]
    },
    {
      "cell_type": "markdown",
      "metadata": {
        "id": "Xgbf-GACurX4"
      },
      "source": [
        "## Model using LSTM"
      ]
    },
    {
      "cell_type": "code",
      "execution_count": null,
      "metadata": {
        "id": "pxgO1YYvaEax"
      },
      "outputs": [],
      "source": [
        "def img2text_with_lstm():\n",
        "  '''\n",
        "  flatten given images and pass them through LSTMs as a sequence\n",
        "  '''\n",
        "  img2text = tf.keras.Sequential()\n",
        "  img2text.add(Reshape(\n",
        "      (max_query_length, IMAGE_PIXELS * IMAGE_PIXELS), \n",
        "      input_shape=INPUT_SHAPE\n",
        "      ))\n",
        "  img2text.add(LSTM(1024, dropout=0.35))\n",
        "  img2text.add(RepeatVector(max_answer_length))\n",
        "  img2text.add(LSTM(1024, dropout=0.35))\n",
        "  img2text.add(RepeatVector(max_answer_length))\n",
        "  img2text.add(LSTM(512, return_sequences=True))\n",
        "  img2text.add(TimeDistributed(Dense(len(unique_characters), activation='softmax')))\n",
        "\n",
        "  img2text.compile(loss='categorical_crossentropy', optimizer='adam', metrics=['accuracy'])\n",
        "  img2text.summary()\n",
        "  return img2text"
      ]
    },
    {
      "cell_type": "code",
      "execution_count": null,
      "metadata": {
        "colab": {
          "base_uri": "https://localhost:8080/"
        },
        "id": "Q_5oPBgJwpYE",
        "outputId": "a5ee28b7-9695-4ed6-8a03-6b7867105b87"
      },
      "outputs": [
        {
          "name": "stdout",
          "output_type": "stream",
          "text": [
            "Model: \"sequential_6\"\n",
            "_________________________________________________________________\n",
            " Layer (type)                Output Shape              Param #   \n",
            "=================================================================\n",
            " reshape (Reshape)           (None, 7, 784)            0         \n",
            "                                                                 \n",
            " lstm_4 (LSTM)               (None, 1024)              7409664   \n",
            "                                                                 \n",
            " repeat_vector_6 (RepeatVect  (None, 4, 1024)          0         \n",
            " or)                                                             \n",
            "                                                                 \n",
            " lstm_5 (LSTM)               (None, 1024)              8392704   \n",
            "                                                                 \n",
            " repeat_vector_7 (RepeatVect  (None, 4, 1024)          0         \n",
            " or)                                                             \n",
            "                                                                 \n",
            " lstm_6 (LSTM)               (None, 4, 512)            3147776   \n",
            "                                                                 \n",
            " time_distributed_6 (TimeDis  (None, 4, 13)            6669      \n",
            " tributed)                                                       \n",
            "                                                                 \n",
            "=================================================================\n",
            "Total params: 18,956,813\n",
            "Trainable params: 18,956,813\n",
            "Non-trainable params: 0\n",
            "_________________________________________________________________\n",
            "Epoch 1/30\n",
            "500/500 [==============================] - 15s 21ms/step - loss: 1.4341 - accuracy: 0.4342\n",
            "Epoch 2/30\n",
            "500/500 [==============================] - 10s 21ms/step - loss: 1.2149 - accuracy: 0.5250\n",
            "Epoch 3/30\n",
            "500/500 [==============================] - 10s 21ms/step - loss: 1.1117 - accuracy: 0.5651\n",
            "Epoch 4/30\n",
            "500/500 [==============================] - 10s 21ms/step - loss: 1.0437 - accuracy: 0.5924\n",
            "Epoch 5/30\n",
            "500/500 [==============================] - 10s 21ms/step - loss: 0.9849 - accuracy: 0.6185\n",
            "Epoch 6/30\n",
            "500/500 [==============================] - 10s 21ms/step - loss: 0.9332 - accuracy: 0.6420\n",
            "Epoch 7/30\n",
            "500/500 [==============================] - 10s 21ms/step - loss: 0.8912 - accuracy: 0.6594\n",
            "Epoch 8/30\n",
            "500/500 [==============================] - 10s 21ms/step - loss: 0.8492 - accuracy: 0.6757\n",
            "Epoch 9/30\n",
            "500/500 [==============================] - 10s 21ms/step - loss: 0.8154 - accuracy: 0.6901\n",
            "Epoch 10/30\n",
            "500/500 [==============================] - 10s 21ms/step - loss: 0.7873 - accuracy: 0.7005\n",
            "Epoch 11/30\n",
            "500/500 [==============================] - 10s 21ms/step - loss: 0.7622 - accuracy: 0.7110\n",
            "Epoch 12/30\n",
            "500/500 [==============================] - 10s 21ms/step - loss: 0.7388 - accuracy: 0.7207\n",
            "Epoch 13/30\n",
            "500/500 [==============================] - 10s 21ms/step - loss: 0.7113 - accuracy: 0.7339\n",
            "Epoch 14/30\n",
            "500/500 [==============================] - 10s 21ms/step - loss: 0.6205 - accuracy: 0.7659\n",
            "Epoch 15/30\n",
            "500/500 [==============================] - 10s 21ms/step - loss: 0.4508 - accuracy: 0.8364\n",
            "Epoch 16/30\n",
            "500/500 [==============================] - 10s 21ms/step - loss: 0.3421 - accuracy: 0.8879\n",
            "Epoch 17/30\n",
            "500/500 [==============================] - 10s 21ms/step - loss: 0.2651 - accuracy: 0.9187\n",
            "Epoch 18/30\n",
            "500/500 [==============================] - 10s 21ms/step - loss: 0.2145 - accuracy: 0.9367\n",
            "Epoch 19/30\n",
            "500/500 [==============================] - 10s 21ms/step - loss: 0.1809 - accuracy: 0.9478\n",
            "Epoch 20/30\n",
            "500/500 [==============================] - 10s 21ms/step - loss: 0.1600 - accuracy: 0.9550\n",
            "Epoch 21/30\n",
            "500/500 [==============================] - 10s 21ms/step - loss: 0.1409 - accuracy: 0.9608\n",
            "Epoch 22/30\n",
            "500/500 [==============================] - 10s 21ms/step - loss: 0.1279 - accuracy: 0.9647\n",
            "Epoch 23/30\n",
            "500/500 [==============================] - 10s 21ms/step - loss: 0.1194 - accuracy: 0.9671\n",
            "Epoch 24/30\n",
            "500/500 [==============================] - 10s 21ms/step - loss: 0.1118 - accuracy: 0.9692\n",
            "Epoch 25/30\n",
            "500/500 [==============================] - 10s 21ms/step - loss: 0.1027 - accuracy: 0.9719\n",
            "Epoch 26/30\n",
            "500/500 [==============================] - 10s 21ms/step - loss: 0.0974 - accuracy: 0.9737\n",
            "Epoch 27/30\n",
            "500/500 [==============================] - 10s 21ms/step - loss: 0.0936 - accuracy: 0.9747\n",
            "Epoch 28/30\n",
            "500/500 [==============================] - 10s 21ms/step - loss: 0.0889 - accuracy: 0.9761\n",
            "Epoch 29/30\n",
            "500/500 [==============================] - 10s 21ms/step - loss: 0.0818 - accuracy: 0.9783\n",
            "Epoch 30/30\n",
            "500/500 [==============================] - 10s 21ms/step - loss: 0.0801 - accuracy: 0.9786\n",
            "{'precision': 0.9408707764884016, 'recall': 0.93775, 'f1-score': 0.9381366678347337, 'support': 16000}\n",
            "{'precision': 0.9863284416443856, 'recall': 0.986046875, 'f1-score': 0.9861127005506758, 'support': 64000}\n"
          ]
        }
      ],
      "source": [
        "EPOCHS = 30\n",
        "\n",
        "img2text_lstm_model = img2text_with_lstm()\n",
        "test_report_per_epoch = {}\n",
        "train_report_per_epoch = {}\n",
        "\n",
        "img2text_lstm_model.fit(\n",
        "  X_img_train,\n",
        "  y_text_train,\n",
        "  epochs=EPOCHS,\n",
        "  batch_size=128,\n",
        ")\n",
        "\n",
        "y_pred_decoded = [decode_labels(item) for item in img2text_lstm_model.predict(X_img_test)]\n",
        "y_test_decoded = [decode_labels(item) for item in y_text_test]\n",
        "\n",
        "y_train_pred_decoded = [decode_labels(item) for item in img2text_lstm_model.predict(X_img_train)]\n",
        "y_train_decoded = [decode_labels(item) for item in y_text_train]\n",
        "\n",
        "img2text_lstm_model_test_report = classification_report(\n",
        "    y_test_decoded, y_pred_decoded, output_dict=True, zero_division=0\n",
        "    )[\"weighted avg\"]\n",
        "img2text_lstm_model_train_report = classification_report(\n",
        "    y_train_decoded, y_train_pred_decoded, output_dict=True, zero_division=0\n",
        "    )[\"weighted avg\"]\n",
        "\n",
        "print(img2text_lstm_model_test_report)\n",
        "print(img2text_lstm_model_train_report)"
      ]
    },
    {
      "cell_type": "code",
      "execution_count": null,
      "metadata": {
        "colab": {
          "base_uri": "https://localhost:8080/"
        },
        "id": "p5uj3bT3yF6F",
        "outputId": "21fe1268-544a-44a1-9ce3-45124882a993"
      },
      "outputs": [
        {
          "name": "stdout",
          "output_type": "stream",
          "text": [
            "Train set evaluation: {'precision': 0.9863284416443856, 'recall': 0.986046875, 'f1-score': 0.9861127005506758, 'support': 64000}\n",
            "Test set evaluation: {'precision': 0.9408707764884016, 'recall': 0.93775, 'f1-score': 0.9381366678347337, 'support': 16000}\n"
          ]
        }
      ],
      "source": [
        "print(f'Train set evaluation: {img2text_lstm_model_train_report}')\n",
        "print(f'Test set evaluation: {img2text_lstm_model_test_report}')"
      ]
    },
    {
      "cell_type": "markdown",
      "metadata": {
        "id": "mUfUrdFuuzln"
      },
      "source": [
        "## Model using CNN and then LSTMs"
      ]
    },
    {
      "cell_type": "code",
      "execution_count": null,
      "metadata": {
        "id": "sfUJa44oggYU"
      },
      "outputs": [],
      "source": [
        "\n",
        "def cnn(input_shape):\n",
        "  cnn = tf.keras.Sequential()\n",
        "  cnn.add(Conv2D(\n",
        "      filters=64, \n",
        "      kernel_size=5, \n",
        "      activation='leaky_relu', \n",
        "      kernel_initializer='he_normal', \n",
        "      padding=\"SAME\", \n",
        "      input_shape=input_shape\n",
        "      ))\n",
        "  \n",
        "  cnn.add(MaxPooling2D(pool_size=2))\n",
        "\n",
        "  cnn.add(Conv2D(\n",
        "      filters=32, \n",
        "      kernel_size=3, \n",
        "      activation='leaky_relu', \n",
        "      kernel_initializer='he_normal', \n",
        "      padding=\"SAME\"\n",
        "      ))\n",
        "  \n",
        "  cnn.add(MaxPooling2D(pool_size=2))\n",
        "  \n",
        "  cnn.add(Flatten())\n",
        "  \n",
        "  return cnn\n",
        "\n",
        "def img2text_with_image_convolutions_and_lstm():\n",
        "  '''\n",
        "  Pass the given images through a CNN and then \n",
        "  pass the convoluted images flattened to LSTM as a sequence\n",
        "  '''\n",
        "  img2text = tf.keras.Sequential()\n",
        "\n",
        "  img2text.add(TimeDistributed(cnn(IMAGE_SHAPE), input_shape=INPUT_SHAPE))\n",
        "  img2text.add(LSTM(512, dropout=0.3))\n",
        "  img2text.add(RepeatVector(max_answer_length))\n",
        "  img2text.add(LSTM(512, dropout=0.3))\n",
        "  img2text.add(RepeatVector(max_answer_length))\n",
        "  img2text.add(LSTM(256, return_sequences=True))\n",
        "  img2text.add(TimeDistributed(Dense(len(unique_characters), activation='softmax')))\n",
        "  img2text.compile(loss='categorical_crossentropy', optimizer='adam', metrics=['accuracy'])\n",
        "  img2text.summary()\n",
        "\n",
        "  return img2text\n",
        "\n",
        "# 256 256 128 -> 91.2 97 in 40 epochs\n",
        "# 512-D0.3 512-D0.3 256 -> 98 99 in 30 epochs, 98.6 99.6 in 40 epochs\n"
      ]
    },
    {
      "cell_type": "code",
      "execution_count": null,
      "metadata": {
        "colab": {
          "base_uri": "https://localhost:8080/"
        },
        "id": "MaxQDKeZZvfA",
        "outputId": "ac876e03-8c2c-4a12-8784-e543784f0818"
      },
      "outputs": [
        {
          "name": "stdout",
          "output_type": "stream",
          "text": [
            "Model: \"sequential_9\"\n",
            "_________________________________________________________________\n",
            " Layer (type)                Output Shape              Param #   \n",
            "=================================================================\n",
            " time_distributed_9 (TimeDis  (None, 7, 1568)          20128     \n",
            " tributed)                                                       \n",
            "                                                                 \n",
            " lstm_10 (LSTM)              (None, 512)               4261888   \n",
            "                                                                 \n",
            " repeat_vector_10 (RepeatVec  (None, 4, 512)           0         \n",
            " tor)                                                            \n",
            "                                                                 \n",
            " lstm_11 (LSTM)              (None, 512)               2099200   \n",
            "                                                                 \n",
            " repeat_vector_11 (RepeatVec  (None, 4, 512)           0         \n",
            " tor)                                                            \n",
            "                                                                 \n",
            " lstm_12 (LSTM)              (None, 4, 256)            787456    \n",
            "                                                                 \n",
            " time_distributed_10 (TimeDi  (None, 4, 13)            3341      \n",
            " stributed)                                                      \n",
            "                                                                 \n",
            "=================================================================\n",
            "Total params: 7,172,013\n",
            "Trainable params: 7,172,013\n",
            "Non-trainable params: 0\n",
            "_________________________________________________________________\n",
            "Epoch 1/30\n",
            "500/500 [==============================] - 15s 23ms/step - loss: 1.4284 - accuracy: 0.4320\n",
            "Epoch 2/30\n",
            "500/500 [==============================] - 11s 23ms/step - loss: 1.1899 - accuracy: 0.5355\n",
            "Epoch 3/30\n",
            "500/500 [==============================] - 11s 23ms/step - loss: 1.0477 - accuracy: 0.5863\n",
            "Epoch 4/30\n",
            "500/500 [==============================] - 11s 23ms/step - loss: 0.9547 - accuracy: 0.6240\n",
            "Epoch 5/30\n",
            "500/500 [==============================] - 11s 23ms/step - loss: 0.8778 - accuracy: 0.6562\n",
            "Epoch 6/30\n",
            "500/500 [==============================] - 11s 23ms/step - loss: 0.8192 - accuracy: 0.6804\n",
            "Epoch 7/30\n",
            "500/500 [==============================] - 11s 23ms/step - loss: 0.7773 - accuracy: 0.6986\n",
            "Epoch 8/30\n",
            "500/500 [==============================] - 11s 23ms/step - loss: 0.7312 - accuracy: 0.7206\n",
            "Epoch 9/30\n",
            "500/500 [==============================] - 11s 23ms/step - loss: 0.6102 - accuracy: 0.7639\n",
            "Epoch 10/30\n",
            "500/500 [==============================] - 11s 23ms/step - loss: 0.4259 - accuracy: 0.8366\n",
            "Epoch 11/30\n",
            "500/500 [==============================] - 11s 23ms/step - loss: 0.2951 - accuracy: 0.8953\n",
            "Epoch 12/30\n",
            "500/500 [==============================] - 11s 23ms/step - loss: 0.2126 - accuracy: 0.9311\n",
            "Epoch 13/30\n",
            "500/500 [==============================] - 11s 23ms/step - loss: 0.1540 - accuracy: 0.9544\n",
            "Epoch 14/30\n",
            "500/500 [==============================] - 11s 23ms/step - loss: 0.1197 - accuracy: 0.9657\n",
            "Epoch 15/30\n",
            "500/500 [==============================] - 11s 23ms/step - loss: 0.0945 - accuracy: 0.9744\n",
            "Epoch 16/30\n",
            "500/500 [==============================] - 11s 23ms/step - loss: 0.0791 - accuracy: 0.9788\n",
            "Epoch 17/30\n",
            "500/500 [==============================] - 11s 23ms/step - loss: 0.0666 - accuracy: 0.9828\n",
            "Epoch 18/30\n",
            "500/500 [==============================] - 11s 23ms/step - loss: 0.0579 - accuracy: 0.9852\n",
            "Epoch 19/30\n",
            "500/500 [==============================] - 11s 23ms/step - loss: 0.0521 - accuracy: 0.9867\n",
            "Epoch 20/30\n",
            "500/500 [==============================] - 11s 23ms/step - loss: 0.0517 - accuracy: 0.9869\n",
            "Epoch 21/30\n",
            "500/500 [==============================] - 11s 23ms/step - loss: 0.0434 - accuracy: 0.9890\n",
            "Epoch 22/30\n",
            "500/500 [==============================] - 11s 23ms/step - loss: 0.0418 - accuracy: 0.9895\n",
            "Epoch 23/30\n",
            "500/500 [==============================] - 11s 23ms/step - loss: 0.0391 - accuracy: 0.9904\n",
            "Epoch 24/30\n",
            "500/500 [==============================] - 11s 23ms/step - loss: 0.0344 - accuracy: 0.9914\n",
            "Epoch 25/30\n",
            "500/500 [==============================] - 11s 22ms/step - loss: 0.0318 - accuracy: 0.9922\n",
            "Epoch 26/30\n",
            "500/500 [==============================] - 11s 23ms/step - loss: 0.0338 - accuracy: 0.9917\n",
            "Epoch 27/30\n",
            "500/500 [==============================] - 11s 23ms/step - loss: 0.0309 - accuracy: 0.9924\n",
            "Epoch 28/30\n",
            "500/500 [==============================] - 11s 23ms/step - loss: 0.0302 - accuracy: 0.9926\n",
            "Epoch 29/30\n",
            "500/500 [==============================] - 11s 23ms/step - loss: 0.0278 - accuracy: 0.9934\n",
            "Epoch 30/30\n",
            "500/500 [==============================] - 11s 22ms/step - loss: 0.0290 - accuracy: 0.9931\n",
            "{'precision': 0.9751920138207919, 'recall': 0.9731875, 'f1-score': 0.9735852185143584, 'support': 16000}\n",
            "{'precision': 0.9898036775665571, 'recall': 0.989125, 'f1-score': 0.9893863853029354, 'support': 64000}\n"
          ]
        }
      ],
      "source": [
        "img2text_cnn_lstm_model = img2text_with_image_convolutions_and_lstm()\n",
        "\n",
        "img2text_cnn_lstm_model.fit(\n",
        "  X_img_train,\n",
        "  y_text_train,\n",
        "  epochs=30,\n",
        "  batch_size=128,\n",
        ")\n",
        "\n",
        "y_pred_decoded = [decode_labels(item) for item in img2text_cnn_lstm_model.predict(X_img_test)]\n",
        "y_test_decoded = [decode_labels(item) for item in y_text_test]\n",
        "\n",
        "y_train_pred_decoded = [decode_labels(item) for item in img2text_cnn_lstm_model.predict(X_img_train)]\n",
        "y_train_decoded = [decode_labels(item) for item in y_text_train]\n",
        "\n",
        "img2text_cnn_lstm_model_test_report = classification_report(\n",
        "    y_test_decoded, y_pred_decoded, output_dict=True, zero_division=0\n",
        "    )[\"weighted avg\"]\n",
        "img2text_cnn_lstm_model_train_report = classification_report(\n",
        "    y_train_decoded, y_train_pred_decoded, output_dict=True, zero_division=0\n",
        "    )[\"weighted avg\"]\n",
        "\n",
        "print(img2text_cnn_lstm_model_test_report)\n",
        "print(img2text_cnn_lstm_model_train_report)"
      ]
    },
    {
      "cell_type": "code",
      "execution_count": null,
      "metadata": {
        "colab": {
          "base_uri": "https://localhost:8080/"
        },
        "id": "DNjil7YtoxLe",
        "outputId": "2f377c0b-253c-4dda-ee14-ba58f3428248"
      },
      "outputs": [
        {
          "name": "stdout",
          "output_type": "stream",
          "text": [
            "Train set evaluation: {'precision': 0.9898036775665571, 'recall': 0.989125, 'f1-score': 0.9893863853029354, 'support': 64000}\n",
            "Test set evaluation: {'precision': 0.9751920138207919, 'recall': 0.9731875, 'f1-score': 0.9735852185143584, 'support': 16000}\n"
          ]
        }
      ],
      "source": [
        "print(f'Train set evaluation: {img2text_cnn_lstm_model_train_report}')\n",
        "print(f'Test set evaluation: {img2text_cnn_lstm_model_test_report}')"
      ]
    },
    {
      "cell_type": "markdown",
      "metadata": {
        "id": "GnGyo_DIlymz"
      },
      "source": [
        "# 3. Text to image RNN Model\n",
        "\n",
        "The goal here is to use X_text as inputs and y_img as outputs."
      ]
    },
    {
      "cell_type": "markdown",
      "metadata": {
        "id": "D-4VYe6h7QIq"
      },
      "source": [
        "## SSIM loss for comparing images"
      ]
    },
    {
      "cell_type": "code",
      "execution_count": null,
      "metadata": {
        "id": "DRyBbVAT-UdF"
      },
      "outputs": [],
      "source": [
        "def SSIMLoss(y_true, y_pred):\n",
        "  return 1 - tf.reduce_mean(tf.image.ssim(y_true, y_pred, 1.0))"
      ]
    },
    {
      "cell_type": "markdown",
      "metadata": {
        "id": "qZpa2RHW-XOu"
      },
      "source": [
        "## Define sub models"
      ]
    },
    {
      "cell_type": "code",
      "execution_count": null,
      "metadata": {
        "id": "KSBADh9s3YqD"
      },
      "outputs": [],
      "source": [
        "def get_text2img_model():\n",
        "\n",
        "  text2img = tf.keras.Sequential(name=\"text2img\")\n",
        "\n",
        "  # Input\n",
        "  # foundation for 7*7 image\n",
        "  text2img.add(Input(shape=(4, 13)))\n",
        "  text2img.add(Flatten())\n",
        "\n",
        "  n_nodes = 128 * 7 * 7\n",
        "  text2img.add(Dense(n_nodes, input_dim=52, name=\"dense_input\"))\n",
        "\n",
        "  text2img.add(LeakyReLU(alpha=0.2))\n",
        "  text2img.add(Reshape((7, 7, 128), name=\"reshape\"))\n",
        "\n",
        "  # upsample to 14x14\n",
        "  text2img.add(Conv2DTranspose(128, (4,4), strides=(2,4), padding='same', name=\"conv_2d_transpose_1\"))\n",
        "  text2img.add(LeakyReLU(alpha=0.2))\n",
        "\n",
        "  # upsample to 28x28\n",
        "  text2img.add(Conv2DTranspose(128, (4,4), strides=(2,4), padding='same', name=\"conv_2d_transpose_2\"))\n",
        "  text2img.add(LeakyReLU(alpha=0.2))\n",
        "  text2img.add(Conv2D(1, (7,7), activation='sigmoid', padding='same', name=\"conv_2d\"))\n",
        "\n",
        "  text2img.compile(loss=SSIMLoss, optimizer=\"adam\", metrics=[\"mse\"])\n",
        "\n",
        "  return text2img\n",
        "\n",
        "\n",
        "def get_text2text_model(X, max_answer_length):\n",
        "  # We start by initializing a sequential model\n",
        "  text2text = tf.keras.Sequential(name=\"text2text\")\n",
        "\n",
        "  # \"Encode\" the input sequence using an RNN, producing an output of size 256.\n",
        "  # In this case the size of our input vectors is [7, 13] as we have queries of length 7 and 13 unique characters. Each of these 7 elements in the query will be fed to the network one by one,\n",
        "  # as shown in the image above (except with 7 elements).\n",
        "  # Hint: In other applications, where your input sequences have a variable length (e.g. sentences), you would use input_shape=(None, unique_characters).\n",
        "  text2text.add(LSTM(256, input_shape=(X.shape[1], X.shape[2])))\n",
        "\n",
        "  # As the decoder RNN's input, repeatedly provide with the last output of RNN for each time step. Repeat 4 times as that's the maximum length of the output (e.g. '  1-199' = '-198')\n",
        "  # when using 3-digit integers in queries. In other words, the RNN will always produce 4 characters as its output.\n",
        "  text2text.add(RepeatVector(max_answer_length))\n",
        "\n",
        "  # By setting return_sequences to True, return not only the last output but all the outputs so far in the form of (num_samples, timesteps, output_dim). This is necessary as TimeDistributed in the below expects\n",
        "  # the first dimension to be the timesteps.\n",
        "  text2text.add(LSTM(128, return_sequences=True))\n",
        "\n",
        "  # Apply a dense layer to the every temporal slice of an input. For each of step of the output sequence, decide which character should be chosen.\n",
        "  text2text.add(TimeDistributed(Dense(len(unique_characters), activation='softmax')))\n",
        "\n",
        "  text2text.compile(loss=\"CategoricalCrossentropy\", metrics=\"accuracy\")\n",
        "\n",
        "  return text2text"
      ]
    },
    {
      "cell_type": "code",
      "execution_count": null,
      "metadata": {
        "colab": {
          "base_uri": "https://localhost:8080/"
        },
        "id": "glXFrtq_-NIL",
        "outputId": "1656bcc8-1355-4f7d-9427-4cfd72803639"
      },
      "outputs": [
        {
          "name": "stdout",
          "output_type": "stream",
          "text": [
            "Model: \"text2text\"\n",
            "_________________________________________________________________\n",
            " Layer (type)                Output Shape              Param #   \n",
            "=================================================================\n",
            " lstm_8 (LSTM)               (None, 256)               276480    \n",
            "                                                                 \n",
            " repeat_vector_4 (RepeatVect  (None, 4, 256)           0         \n",
            " or)                                                             \n",
            "                                                                 \n",
            " lstm_9 (LSTM)               (None, 4, 128)            197120    \n",
            "                                                                 \n",
            " time_distributed_4 (TimeDis  (None, 4, 13)            1677      \n",
            " tributed)                                                       \n",
            "                                                                 \n",
            "=================================================================\n",
            "Total params: 475,277\n",
            "Trainable params: 475,277\n",
            "Non-trainable params: 0\n",
            "_________________________________________________________________\n"
          ]
        }
      ],
      "source": [
        "text2text = get_text2text_model(X_text_onehot, max_answer_length)\n",
        "\n",
        "text2text.summary()"
      ]
    },
    {
      "cell_type": "code",
      "execution_count": null,
      "metadata": {
        "colab": {
          "base_uri": "https://localhost:8080/"
        },
        "id": "ztmvqgyF-gz_",
        "outputId": "adfefc17-0550-497a-d1c7-6a352a7aaf70"
      },
      "outputs": [
        {
          "name": "stdout",
          "output_type": "stream",
          "text": [
            "Model: \"text2img\"\n",
            "_________________________________________________________________\n",
            " Layer (type)                Output Shape              Param #   \n",
            "=================================================================\n",
            " flatten_4 (Flatten)         (None, 52)                0         \n",
            "                                                                 \n",
            " dense_input (Dense)         (None, 6272)              332416    \n",
            "                                                                 \n",
            " leaky_re_lu_6 (LeakyReLU)   (None, 6272)              0         \n",
            "                                                                 \n",
            " reshape (Reshape)           (None, 7, 7, 128)         0         \n",
            "                                                                 \n",
            " conv_2d_transpose_1 (Conv2D  (None, 14, 28, 128)      262272    \n",
            " Transpose)                                                      \n",
            "                                                                 \n",
            " leaky_re_lu_7 (LeakyReLU)   (None, 14, 28, 128)       0         \n",
            "                                                                 \n",
            " conv_2d_transpose_2 (Conv2D  (None, 28, 112, 128)     262272    \n",
            " Transpose)                                                      \n",
            "                                                                 \n",
            " leaky_re_lu_8 (LeakyReLU)   (None, 28, 112, 128)      0         \n",
            "                                                                 \n",
            " conv_2d (Conv2D)            (None, 28, 112, 1)        6273      \n",
            "                                                                 \n",
            "=================================================================\n",
            "Total params: 863,233\n",
            "Trainable params: 863,233\n",
            "Non-trainable params: 0\n",
            "_________________________________________________________________\n"
          ]
        }
      ],
      "source": [
        "text2img = get_text2img_model()\n",
        "\n",
        "text2img.summary()"
      ]
    },
    {
      "cell_type": "markdown",
      "metadata": {
        "id": "wRWG3Hlg-w_m"
      },
      "source": [
        "## Train text2text"
      ]
    },
    {
      "cell_type": "code",
      "execution_count": null,
      "metadata": {
        "colab": {
          "base_uri": "https://localhost:8080/"
        },
        "id": "umpon_xM-oOI",
        "outputId": "fa9b1f87-1e7a-42f0-8578-96fee96a555a"
      },
      "outputs": [
        {
          "name": "stdout",
          "output_type": "stream",
          "text": [
            "Epoch 1/20\n",
            "850/850 [==============================] - 9s 8ms/step - loss: 1.3892 - accuracy: 0.4579 - val_loss: 1.2240 - val_accuracy: 0.5183\n",
            "Epoch 2/20\n",
            "850/850 [==============================] - 6s 7ms/step - loss: 1.1241 - accuracy: 0.5632 - val_loss: 0.9935 - val_accuracy: 0.6232\n",
            "Epoch 3/20\n",
            "850/850 [==============================] - 6s 7ms/step - loss: 0.9631 - accuracy: 0.6181 - val_loss: 0.9175 - val_accuracy: 0.6311\n",
            "Epoch 4/20\n",
            "850/850 [==============================] - 6s 7ms/step - loss: 0.8770 - accuracy: 0.6522 - val_loss: 0.8086 - val_accuracy: 0.6944\n",
            "Epoch 5/20\n",
            "850/850 [==============================] - 6s 7ms/step - loss: 0.8273 - accuracy: 0.6735 - val_loss: 0.8532 - val_accuracy: 0.6464\n",
            "Epoch 6/20\n",
            "850/850 [==============================] - 6s 7ms/step - loss: 0.7910 - accuracy: 0.6898 - val_loss: 0.7745 - val_accuracy: 0.6948\n",
            "Epoch 7/20\n",
            "850/850 [==============================] - 6s 7ms/step - loss: 0.7472 - accuracy: 0.7106 - val_loss: 0.6834 - val_accuracy: 0.7412\n",
            "Epoch 8/20\n",
            "850/850 [==============================] - 7s 8ms/step - loss: 0.6434 - accuracy: 0.7528 - val_loss: 0.5273 - val_accuracy: 0.8036\n",
            "Epoch 9/20\n",
            "850/850 [==============================] - 6s 6ms/step - loss: 0.4257 - accuracy: 0.8514 - val_loss: 0.3081 - val_accuracy: 0.9111\n",
            "Epoch 10/20\n",
            "850/850 [==============================] - 6s 6ms/step - loss: 0.2521 - accuracy: 0.9299 - val_loss: 0.1663 - val_accuracy: 0.9652\n",
            "Epoch 11/20\n",
            "850/850 [==============================] - 6s 7ms/step - loss: 0.1574 - accuracy: 0.9590 - val_loss: 0.1594 - val_accuracy: 0.9519\n",
            "Epoch 12/20\n",
            "850/850 [==============================] - 6s 7ms/step - loss: 0.1066 - accuracy: 0.9712 - val_loss: 0.0892 - val_accuracy: 0.9738\n",
            "Epoch 13/20\n",
            "850/850 [==============================] - 6s 6ms/step - loss: 0.0779 - accuracy: 0.9781 - val_loss: 0.0576 - val_accuracy: 0.9851\n",
            "Epoch 14/20\n",
            "850/850 [==============================] - 6s 6ms/step - loss: 0.0631 - accuracy: 0.9826 - val_loss: 0.1513 - val_accuracy: 0.9557\n",
            "Epoch 15/20\n",
            "850/850 [==============================] - 6s 7ms/step - loss: 0.0514 - accuracy: 0.9855 - val_loss: 0.0265 - val_accuracy: 0.9943\n",
            "Epoch 16/20\n",
            "850/850 [==============================] - 6s 6ms/step - loss: 0.0415 - accuracy: 0.9882 - val_loss: 0.0285 - val_accuracy: 0.9923\n",
            "Epoch 17/20\n",
            "850/850 [==============================] - 6s 6ms/step - loss: 0.0366 - accuracy: 0.9897 - val_loss: 0.1230 - val_accuracy: 0.9630\n",
            "Epoch 18/20\n",
            "850/850 [==============================] - 6s 6ms/step - loss: 0.0311 - accuracy: 0.9912 - val_loss: 0.0655 - val_accuracy: 0.9785\n",
            "Epoch 19/20\n",
            "850/850 [==============================] - 6s 6ms/step - loss: 0.0288 - accuracy: 0.9918 - val_loss: 0.0093 - val_accuracy: 0.9983\n",
            "Epoch 20/20\n",
            "850/850 [==============================] - 6s 6ms/step - loss: 0.0244 - accuracy: 0.9932 - val_loss: 0.0079 - val_accuracy: 0.9987\n"
          ]
        }
      ],
      "source": [
        "X_train, X_test, y_train, y_test = train_test_split(X_text_onehot, y_text_onehot, test_size=0.15, random_state=42)\n",
        "\n",
        "batch_size = 64\n",
        "epochs = 20\n",
        "\n",
        "text2text = get_text2text_model(X_text_onehot, max_answer_length)\n",
        "\n",
        "history = text2text.fit(X_train, y_train, batch_size=batch_size, validation_split=0.2, epochs=epochs)"
      ]
    },
    {
      "cell_type": "code",
      "execution_count": null,
      "metadata": {
        "colab": {
          "base_uri": "https://localhost:8080/",
          "height": 350
        },
        "id": "XAnS-xLJ-23N",
        "outputId": "679f2f61-ca82-4d3a-f1fa-3003db74680d"
      },
      "outputs": [
        {
          "data": {
            "image/png": "[encoded data removed]",
            "text/plain": [
              "<Figure size 720x360 with 1 Axes>"
            ]
          },
          "metadata": {
            "needs_background": "light"
          },
          "output_type": "display_data"
        }
      ],
      "source": [
        "plt.figure(figsize=(10, 5))\n",
        "\n",
        "plt.plot(np.arange(len(history.history[\"loss\"])), history.history[\"loss\"], color=\"orange\", label=\"Loss\")\n",
        "plt.plot(np.arange(len(history.history[\"accuracy\"])), history.history[\"accuracy\"], color=\"lightblue\", label=\"MSE\")\n",
        "\n",
        "plt.plot(np.arange(len(history.history[\"val_loss\"])), history.history[\"val_loss\"], color=\"orange\", linestyle=\"dashed\", label=\"Loss\")\n",
        "plt.plot(np.arange(len(history.history[\"val_accuracy\"])), history.history[\"val_accuracy\"], color=\"lightblue\", linestyle=\"dashed\", label=\"MSE\")\n",
        "\n",
        "plt.title(\"Loss/Accuracy over epochs\")\n",
        "plt.xlabel(\"Epochs\")\n",
        "plt.ylabel(\"Loss/Accuracy\")\n",
        "\n",
        "plt.legend()\n",
        "\n",
        "plt.show()"
      ]
    },
    {
      "cell_type": "code",
      "execution_count": null,
      "metadata": {
        "colab": {
          "base_uri": "https://localhost:8080/"
        },
        "id": "tUgVBgK4_AhA",
        "outputId": "2cba521f-8890-40e7-a940-f8e49a30cc4c"
      },
      "outputs": [
        {
          "name": "stdout",
          "output_type": "stream",
          "text": [
            "0.9945\n",
            "{'precision': 0.994929453526847, 'recall': 0.9945, 'f1-score': 0.9945059947112771, 'support': 12000}\n"
          ]
        }
      ],
      "source": [
        "y_pred_decoded = [decode_labels(item) for item in text2text.predict(X_test)]\n",
        "y_test_decoded = [decode_labels(item) for item in y_test]\n",
        "\n",
        "classification_report_metrics = classification_report(y_test_decoded, y_pred_decoded, output_dict=True, zero_division=0)\n",
        "\n",
        "print(classification_report_metrics[\"accuracy\"])\n",
        "print(classification_report_metrics[\"weighted avg\"])"
      ]
    },
    {
      "cell_type": "markdown",
      "metadata": {
        "id": "0hEV3_U__BwW"
      },
      "source": [
        "## Train text2img"
      ]
    },
    {
      "cell_type": "code",
      "execution_count": null,
      "metadata": {
        "colab": {
          "base_uri": "https://localhost:8080/"
        },
        "id": "WbSg0r5s_EDi",
        "outputId": "31b6a2d7-5a24-4bfc-87f5-7e8dc7f68c44"
      },
      "outputs": [
        {
          "name": "stdout",
          "output_type": "stream",
          "text": [
            "(10000, 4, 13)\n",
            "(10000, 28, 112)\n"
          ]
        }
      ],
      "source": [
        "indexes = np.random.choice(y_text_onehot.shape[0], 10000, replace=False)\n",
        "\n",
        "X = y_text_onehot[indexes]\n",
        "y = np.array([np.concatenate((y), axis=1) for y in y_img[indexes]])\n",
        "\n",
        "print(X.shape)\n",
        "print(y.shape)"
      ]
    },
    {
      "cell_type": "code",
      "execution_count": null,
      "metadata": {
        "colab": {
          "base_uri": "https://localhost:8080/"
        },
        "id": "0fiM5xEY_GHZ",
        "outputId": "2d6ae7a9-4227-464a-ba5a-2028a995f80b"
      },
      "outputs": [
        {
          "name": "stdout",
          "output_type": "stream",
          "text": [
            "Epoch 1/10\n",
            "107/107 [==============================] - 5s 33ms/step - loss: 0.5279 - mse: 0.0849 - val_loss: 0.3668 - val_mse: 0.0489\n",
            "Epoch 2/10\n",
            "107/107 [==============================] - 3s 29ms/step - loss: 0.3551 - mse: 0.0432 - val_loss: 0.3585 - val_mse: 0.0435\n",
            "Epoch 3/10\n",
            "107/107 [==============================] - 3s 29ms/step - loss: 0.3524 - mse: 0.0420 - val_loss: 0.3576 - val_mse: 0.0423\n",
            "Epoch 4/10\n",
            "107/107 [==============================] - 3s 29ms/step - loss: 0.3506 - mse: 0.0416 - val_loss: 0.3559 - val_mse: 0.0429\n",
            "Epoch 5/10\n",
            "107/107 [==============================] - 3s 29ms/step - loss: 0.3483 - mse: 0.0414 - val_loss: 0.3560 - val_mse: 0.0415\n",
            "Epoch 6/10\n",
            "107/107 [==============================] - 3s 29ms/step - loss: 0.3470 - mse: 0.0411 - val_loss: 0.3555 - val_mse: 0.0410\n",
            "Epoch 7/10\n",
            "107/107 [==============================] - 3s 29ms/step - loss: 0.3471 - mse: 0.0411 - val_loss: 0.3557 - val_mse: 0.0409\n",
            "Epoch 8/10\n",
            "107/107 [==============================] - 3s 29ms/step - loss: 0.3465 - mse: 0.0409 - val_loss: 0.3565 - val_mse: 0.0433\n",
            "Epoch 9/10\n",
            "107/107 [==============================] - 3s 29ms/step - loss: 0.3456 - mse: 0.0408 - val_loss: 0.3548 - val_mse: 0.0417\n",
            "Epoch 10/10\n",
            "107/107 [==============================] - 3s 29ms/step - loss: 0.3446 - mse: 0.0407 - val_loss: 0.3552 - val_mse: 0.0431\n"
          ]
        }
      ],
      "source": [
        "X_train, X_test, y_train, y_test = train_test_split(X, y, test_size=0.15, random_state=42)\n",
        "\n",
        "batch_size = 64\n",
        "epochs = 10\n",
        "\n",
        "text2img = get_text2img_model()\n",
        "\n",
        "history = text2img.fit(X_train, y_train, batch_size=batch_size, validation_split=0.2, epochs=epochs)"
      ]
    },
    {
      "cell_type": "code",
      "execution_count": null,
      "metadata": {
        "colab": {
          "base_uri": "https://localhost:8080/",
          "height": 350
        },
        "id": "0sWjYDuf_KmA",
        "outputId": "2f445b54-7830-4af2-88b2-89877d6bd172"
      },
      "outputs": [
        {
          "data": {
            "image/png": "[encoded data removed]",
            "text/plain": [
              "<Figure size 720x360 with 1 Axes>"
            ]
          },
          "metadata": {
            "needs_background": "light"
          },
          "output_type": "display_data"
        }
      ],
      "source": [
        "plt.figure(figsize=(10, 5))\n",
        "\n",
        "plt.plot(np.arange(len(history.history[\"loss\"])), history.history[\"loss\"], color=\"orange\", label=\"Loss\")\n",
        "plt.plot(np.arange(len(history.history[\"mse\"])), history.history[\"mse\"], color=\"lightblue\", label=\"MSE\")\n",
        "\n",
        "plt.plot(np.arange(len(history.history[\"val_loss\"])), history.history[\"val_loss\"], color=\"orange\", linestyle=\"dashed\", label=\"Loss\")\n",
        "plt.plot(np.arange(len(history.history[\"val_mse\"])), history.history[\"val_mse\"], color=\"lightblue\", linestyle=\"dashed\", label=\"MSE\")\n",
        "\n",
        "plt.title(\"Loss/MSE over epochs\")\n",
        "plt.xlabel(\"Epochs\")\n",
        "plt.ylabel(\"Loss/MSE\")\n",
        "\n",
        "plt.legend()\n",
        "\n",
        "plt.show()"
      ]
    },
    {
      "cell_type": "code",
      "execution_count": null,
      "metadata": {
        "id": "agfzLqeV_Mft"
      },
      "outputs": [],
      "source": [
        "y_pred = text2img.predict(X_test)\n",
        "y_pred = y_pred.reshape(-1, 28, 112)"
      ]
    },
    {
      "cell_type": "code",
      "execution_count": null,
      "metadata": {
        "colab": {
          "base_uri": "https://localhost:8080/",
          "height": 564
        },
        "id": "GwBWViGC_ORo",
        "outputId": "ad69f93c-1783-4be1-9c5c-11ce89394916"
      },
      "outputs": [
        {
          "data": {
            "image/png": "[encoded data removed]",
            "text/plain": [
              "<Figure size 720x720 with 10 Axes>"
            ]
          },
          "metadata": {
            "needs_background": "light"
          },
          "output_type": "display_data"
        }
      ],
      "source": [
        "offset = 0\n",
        "n = 5\n",
        "\n",
        "fig, ax = plt.subplots(n, 2, figsize=(10, 10), sharex=True, sharey=True)\n",
        "\n",
        "for index in range(n):\n",
        "\n",
        "    ax[index, 0].imshow(y_pred[index + offset], cmap=\"gray\")\n",
        "    ax[index, 1].imshow(y_test[index + offset], cmap=\"gray\")\n",
        "\n",
        "plt.show()"
      ]
    },
    {
      "cell_type": "markdown",
      "metadata": {
        "id": "HugGzGKZ_QrG"
      },
      "source": [
        "## Final model using pretrained text2text and text2img models"
      ]
    },
    {
      "cell_type": "code",
      "execution_count": null,
      "metadata": {
        "colab": {
          "base_uri": "https://localhost:8080/"
        },
        "id": "XXGwRaf2_Uxl",
        "outputId": "d6354407-edfd-4c35-f04a-ce05c95c8d8b"
      },
      "outputs": [
        {
          "name": "stdout",
          "output_type": "stream",
          "text": [
            "Model: \"sequential\"\n",
            "_________________________________________________________________\n",
            " Layer (type)                Output Shape              Param #   \n",
            "=================================================================\n",
            " text2text (Sequential)      (None, 4, 13)             475277    \n",
            "                                                                 \n",
            " text2img (Sequential)       (None, 28, 112, 1)        863233    \n",
            "                                                                 \n",
            "=================================================================\n",
            "Total params: 1,338,510\n",
            "Trainable params: 1,338,510\n",
            "Non-trainable params: 0\n",
            "_________________________________________________________________\n"
          ]
        }
      ],
      "source": [
        "final_model = tf.keras.Sequential()\n",
        "\n",
        "final_model.add(text2text)\n",
        "\n",
        "final_model.add(text2img)\n",
        "\n",
        "final_model.summary()"
      ]
    },
    {
      "cell_type": "code",
      "execution_count": null,
      "metadata": {
        "id": "ubVzOOtV_Yhq"
      },
      "outputs": [],
      "source": [
        "indexes = np.random.choice(y_text_onehot.shape[0], 1000, replace=False)\n",
        "\n",
        "y_pred = final_model(X_text_onehot[indexes])\n",
        "y_pred = y_pred.numpy().reshape(-1, 28, 112)\n",
        "\n",
        "y_test = np.array([np.concatenate((y), axis=1) for y in y_img[indexes]])"
      ]
    },
    {
      "cell_type": "code",
      "execution_count": null,
      "metadata": {
        "colab": {
          "base_uri": "https://localhost:8080/",
          "height": 594
        },
        "id": "m1JFpWl__aap",
        "outputId": "a640f172-d6f8-48df-e1b3-060b3eb24ecd"
      },
      "outputs": [
        {
          "data": {
            "image/png": "[encoded data removed]",
            "text/plain": [
              "<Figure size 720x720 with 20 Axes>"
            ]
          },
          "metadata": {
            "needs_background": "light"
          },
          "output_type": "display_data"
        }
      ],
      "source": [
        "offset = 0\n",
        "n = 10\n",
        "\n",
        "fig, ax = plt.subplots(n, 2, figsize=(10, 10), sharex=True, sharey=True)\n",
        "\n",
        "for index in range(n):\n",
        "\n",
        "    ax[index, 0].imshow(y_pred[index + offset], cmap=\"gray\")\n",
        "    ax[index, 1].imshow(y_test[index + offset], cmap=\"gray\")\n",
        "\n",
        "plt.show()"
      ]
    },
    {
      "cell_type": "code",
      "execution_count": null,
      "metadata": {
        "id": "eif7SK9HLMal"
      },
      "outputs": [],
      "source": []
    }
  ],
  "metadata": {
    "accelerator": "GPU",
    "colab": {
      "collapsed_sections": [],
      "machine_shape": "hm",
      "name": "IDL_Assignment_3_RNN.ipynb",
      "provenance": [],
      "toc_visible": true
    },
    "interpreter": {
      "hash": "0e8749c6912e8b9d41b7da5510dcd2999b4950a148693c1fda37ce68aef0185e"
    },
    "kernelspec": {
      "display_name": "Python 3.7.9 64-bit ('gantest': conda)",
      "language": "python",
      "name": "python3"
    },
    "language_info": {
      "codemirror_mode": {
        "name": "ipython",
        "version": 3
      },
      "file_extension": ".py",
      "mimetype": "text/x-python",
      "name": "python",
      "nbconvert_exporter": "python",
      "pygments_lexer": "ipython3",
      "version": "3.8.2"
    }
  },
  "nbformat": 4,
  "nbformat_minor": 0
}
